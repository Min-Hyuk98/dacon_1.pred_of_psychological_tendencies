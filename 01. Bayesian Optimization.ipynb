{
 "cells": [
  {
   "cell_type": "code",
   "execution_count": 2,
   "metadata": {},
   "outputs": [],
   "source": [
    "import pandas as pd\n",
    "import numpy as np"
   ]
  },
  {
   "cell_type": "code",
   "execution_count": 3,
   "metadata": {},
   "outputs": [],
   "source": [
    "train = pd.read_csv('./data/train.csv', index_col=0)\n",
    "test = pd.read_csv('./data/test_x.csv', index_col=0)\n",
    "submission = pd.read_csv('./data/sample_submission.csv', index_col=0)  "
   ]
  },
  {
   "cell_type": "code",
   "execution_count": 4,
   "metadata": {},
   "outputs": [],
   "source": [
    "X = train.drop('voted', axis = 1)\n",
    "y = train['voted']"
   ]
  },
  {
   "cell_type": "code",
   "execution_count": 5,
   "metadata": {},
   "outputs": [
    {
     "name": "stdout",
     "output_type": "stream",
     "text": [
      "White                    31248\n",
      "Asian                     6834\n",
      "Other                     4330\n",
      "Black                     2168\n",
      "Native American            548\n",
      "Arab                       351\n",
      "Indigenous Australian       53\n",
      "Name: race, dtype: int64\n"
     ]
    }
   ],
   "source": [
    "print(X.race.value_counts())"
   ]
  },
  {
   "cell_type": "code",
   "execution_count": 6,
   "metadata": {},
   "outputs": [
    {
     "name": "stdout",
     "output_type": "stream",
     "text": [
      "10s     14215\n",
      "20s     14112\n",
      "30s      7836\n",
      "40s      5051\n",
      "50s      2889\n",
      "60s      1194\n",
      "+70s      235\n",
      "Name: age_group, dtype: int64\n"
     ]
    }
   ],
   "source": [
    "print(X.age_group.value_counts())"
   ]
  },
  {
   "cell_type": "code",
   "execution_count": 7,
   "metadata": {},
   "outputs": [
    {
     "name": "stdout",
     "output_type": "stream",
     "text": [
      "Male      24217\n",
      "Female    21315\n",
      "Name: gender, dtype: int64\n"
     ]
    }
   ],
   "source": [
    "print(X.gender.value_counts())"
   ]
  },
  {
   "cell_type": "code",
   "execution_count": 8,
   "metadata": {},
   "outputs": [
    {
     "name": "stdout",
     "output_type": "stream",
     "text": [
      "Atheist                 10192\n",
      "Agnostic                 9624\n",
      "Christian_Catholic       6431\n",
      "Christian_Other          5137\n",
      "Christian_Protestant     4875\n",
      "Other                    4770\n",
      "Hindu                    1429\n",
      "Muslim                   1192\n",
      "Buddhist                  850\n",
      "Jewish                    487\n",
      "Christian_Mormon          428\n",
      "Sikh                      117\n",
      "Name: religion, dtype: int64\n"
     ]
    }
   ],
   "source": [
    "print(X.religion.value_counts())"
   ]
  },
  {
   "cell_type": "code",
   "execution_count": 9,
   "metadata": {
    "scrolled": true
   },
   "outputs": [
    {
     "name": "stdout",
     "output_type": "stream",
     "text": [
      "원본 데이터 칼럼 :  ['QaA', 'QaE', 'QbA', 'QbE', 'QcA', 'QcE', 'QdA', 'QdE', 'QeA', 'QeE', 'QfA', 'QfE', 'QgA', 'QgE', 'QhA', 'QhE', 'QiA', 'QiE', 'QjA', 'QjE', 'QkA', 'QkE', 'QlA', 'QlE', 'QmA', 'QmE', 'QnA', 'QnE', 'QoA', 'QoE', 'QpA', 'QpE', 'QqA', 'QqE', 'QrA', 'QrE', 'QsA', 'QsE', 'QtA', 'QtE', 'age_group', 'education', 'engnat', 'familysize', 'gender', 'hand', 'married', 'race', 'religion', 'tp01', 'tp02', 'tp03', 'tp04', 'tp05', 'tp06', 'tp07', 'tp08', 'tp09', 'tp10', 'urban', 'wf_01', 'wf_02', 'wf_03', 'wr_01', 'wr_02', 'wr_03', 'wr_04', 'wr_05', 'wr_06', 'wr_07', 'wr_08', 'wr_09', 'wr_10', 'wr_11', 'wr_12', 'wr_13'] \n",
      "\n",
      "get_dummies된 데이터 칼럼 :  ['QaA', 'QaE', 'QbA', 'QbE', 'QcA', 'QcE', 'QdA', 'QdE', 'QeA', 'QeE', 'QfA', 'QfE', 'QgA', 'QgE', 'QhA', 'QhE', 'QiA', 'QiE', 'QjA', 'QjE', 'QkA', 'QkE', 'QlA', 'QlE', 'QmA', 'QmE', 'QnA', 'QnE', 'QoA', 'QoE', 'QpA', 'QpE', 'QqA', 'QqE', 'QrA', 'QrE', 'QsA', 'QsE', 'QtA', 'QtE', 'education', 'engnat', 'familysize', 'hand', 'married', 'tp01', 'tp02', 'tp03', 'tp04', 'tp05', 'tp06', 'tp07', 'tp08', 'tp09', 'tp10', 'urban', 'wf_01', 'wf_02', 'wf_03', 'wr_01', 'wr_02', 'wr_03', 'wr_04', 'wr_05', 'wr_06', 'wr_07', 'wr_08', 'wr_09', 'wr_10', 'wr_11', 'wr_12', 'wr_13', 'age_group_+70s', 'age_group_10s', 'age_group_20s', 'age_group_30s', 'age_group_40s', 'age_group_50s', 'age_group_60s', 'gender_Female', 'gender_Male', 'race_Arab', 'race_Asian', 'race_Black', 'race_Indigenous Australian', 'race_Native American', 'race_Other', 'race_White', 'religion_Agnostic', 'religion_Atheist', 'religion_Buddhist', 'religion_Christian_Catholic', 'religion_Christian_Mormon', 'religion_Christian_Other', 'religion_Christian_Protestant', 'religion_Hindu', 'religion_Jewish', 'religion_Muslim', 'religion_Other', 'religion_Sikh']\n"
     ]
    }
   ],
   "source": [
    "print(\"원본 데이터 칼럼 : \", list(X.columns), \"\\n\")\n",
    "X_dummies = pd.get_dummies(X)\n",
    "print(\"get_dummies된 데이터 칼럼 : \", list(X_dummies.columns))"
   ]
  },
  {
   "cell_type": "code",
   "execution_count": 10,
   "metadata": {
    "scrolled": true
   },
   "outputs": [
    {
     "name": "stdout",
     "output_type": "stream",
     "text": [
      "X: (45532, 76)\tX_dummies: (45532, 100)\n"
     ]
    }
   ],
   "source": [
    "print(\"X: {}\\tX_dummies: {}\".format(X.shape, X_dummies.shape))"
   ]
  },
  {
   "cell_type": "code",
   "execution_count": 11,
   "metadata": {},
   "outputs": [
    {
     "data": {
      "text/plain": [
       "(11383, 100)"
      ]
     },
     "execution_count": 11,
     "metadata": {},
     "output_type": "execute_result"
    }
   ],
   "source": [
    "test_dummies = pd.get_dummies(test)\n",
    "test_dummies.shape"
   ]
  },
  {
   "cell_type": "code",
   "execution_count": 12,
   "metadata": {
    "scrolled": false
   },
   "outputs": [
    {
     "name": "stdout",
     "output_type": "stream",
     "text": [
      "X : (45532, 76)\n",
      "test : (11383, 76)\n",
      "Encoding Success\n"
     ]
    }
   ],
   "source": [
    "# 칼럼 개수 변화\n",
    "print(\"X : {}\\ntest : {}\".format(X.shape, test.shape))\n",
    "# 인코딩 확인\n",
    "print(\"Encoding Success\") if list(X.columns) == list(test.columns) else list(test.columns)"
   ]
  },
  {
   "cell_type": "markdown",
   "metadata": {},
   "source": [
    "- float64 -> float32"
   ]
  },
  {
   "cell_type": "code",
   "execution_count": 13,
   "metadata": {
    "scrolled": true
   },
   "outputs": [],
   "source": [
    "X_dummies.loc(axis=1)[list(X_dummies.dtypes == 'float64')] = X_dummies.loc(axis=1)[list(X_dummies.dtypes == 'float64')].astype('float32')"
   ]
  },
  {
   "cell_type": "code",
   "execution_count": 14,
   "metadata": {},
   "outputs": [],
   "source": [
    "test_dummies.loc(axis=1)[list(test_dummies.dtypes == 'float64')] = test_dummies.loc(axis=1)[list(test_dummies.dtypes == 'float64')].astype('float32')"
   ]
  },
  {
   "cell_type": "code",
   "execution_count": null,
   "metadata": {},
   "outputs": [],
   "source": []
  },
  {
   "cell_type": "code",
   "execution_count": 15,
   "metadata": {},
   "outputs": [
    {
     "data": {
      "text/plain": [
       "(45532, 100)"
      ]
     },
     "execution_count": 15,
     "metadata": {},
     "output_type": "execute_result"
    }
   ],
   "source": [
    "# nan 값 메꾸기\n",
    "X_dummies = X_dummies.fillna(X_dummies.mean())\n",
    "# 중복 값 제거\n",
    "X_dummies.drop_duplicates(keep='first', inplace = True)\n",
    "# 비교 -> nan 없음\n",
    "X_dummies.shape"
   ]
  },
  {
   "cell_type": "code",
   "execution_count": 16,
   "metadata": {},
   "outputs": [],
   "source": [
    "from sklearn.preprocessing import MinMaxScaler\n",
    "# 데이터 스케일링 -> 민맥스/스텐다드 모두 성능 비슷함\n",
    "scaler = MinMaxScaler()\n",
    "scaler.fit(X_dummies)\n",
    "X_dummies = scaler.transform(X_dummies)\n",
    "# 테스트 데이터도 동일 스케일러로\n",
    "test_dummies = scaler.transform(test_dummies)"
   ]
  },
  {
   "cell_type": "code",
   "execution_count": 17,
   "metadata": {},
   "outputs": [
    {
     "data": {
      "text/plain": [
       "array([[5.00000000e-01, 2.94539828e-04, 2.50000000e-01, ...,\n",
       "        0.00000000e+00, 0.00000000e+00, 0.00000000e+00],\n",
       "       [5.00000000e-01, 2.02573806e-04, 2.50000000e-01, ...,\n",
       "        0.00000000e+00, 0.00000000e+00, 0.00000000e+00],\n",
       "       [5.00000000e-01, 1.96774147e-04, 2.50000000e-01, ...,\n",
       "        0.00000000e+00, 0.00000000e+00, 0.00000000e+00],\n",
       "       ...,\n",
       "       [0.00000000e+00, 2.49385340e-04, 2.50000000e-01, ...,\n",
       "        0.00000000e+00, 0.00000000e+00, 0.00000000e+00],\n",
       "       [2.50000000e-01, 2.12930340e-04, 0.00000000e+00, ...,\n",
       "        0.00000000e+00, 0.00000000e+00, 0.00000000e+00],\n",
       "       [2.50000000e-01, 2.13758863e-04, 7.50000000e-01, ...,\n",
       "        0.00000000e+00, 0.00000000e+00, 0.00000000e+00]])"
      ]
     },
     "execution_count": 17,
     "metadata": {},
     "output_type": "execute_result"
    }
   ],
   "source": [
    "test_dummies"
   ]
  },
  {
   "cell_type": "code",
   "execution_count": 18,
   "metadata": {},
   "outputs": [],
   "source": [
    "import lightgbm as lgbm\n",
    "from bayes_opt import BayesianOptimization\n",
    "from sklearn.metrics import roc_auc_score, make_scorer\n",
    "from sklearn.model_selection import cross_validate"
   ]
  },
  {
   "cell_type": "code",
   "execution_count": 23,
   "metadata": {},
   "outputs": [],
   "source": [
    "#목적함수 생성\n",
    "def lgbm_cv(learning_rate, num_leaves, max_depth, min_child_weight, colsample_bytree, feature_fraction, bagging_fraction, lambda_l1, lambda_l2):\n",
    "    model = lgbm.LGBMClassifier(learning_rate=learning_rate,\n",
    "                                n_estimators = 300,\n",
    "                                #boosting = 'dart',\n",
    "                                num_leaves = int(round(num_leaves)),\n",
    "                                max_depth = int(round(max_depth)),\n",
    "                                min_child_weight = int(round(min_child_weight)),\n",
    "                                colsample_bytree = colsample_bytree,\n",
    "                                feature_fraction = max(min(feature_fraction, 1), 0),\n",
    "                                bagging_fraction = max(min(bagging_fraction, 1), 0),\n",
    "                                lambda_l1 = max(lambda_l1, 0),\n",
    "                                lambda_l2 = max(lambda_l2, 0)\n",
    "                               )\n",
    "    scoring = {'roc_auc_score': make_scorer(roc_auc_score)}\n",
    "    result = cross_validate(model, X_dummies, y, cv=5, scoring=scoring)\n",
    "    auc_score = result[\"test_roc_auc_score\"].mean()\n",
    "    return auc_score"
   ]
  },
  {
   "cell_type": "code",
   "execution_count": 24,
   "metadata": {},
   "outputs": [],
   "source": [
    "# 입력값의 탐색 대상 구간\n",
    "pbounds = {'learning_rate' : (0.0001, 0.05),\n",
    "           'num_leaves': (300, 600),\n",
    "           'max_depth': (2, 25),\n",
    "           'min_child_weight': (30, 100),\n",
    "           'colsample_bytree': (0, 0.99),\n",
    "           'feature_fraction': (0.0001, 0.99),\n",
    "           'bagging_fraction': (0.0001, 0.99),\n",
    "           'lambda_l1' : (0, 0.99),\n",
    "           'lambda_l2' : (0, 0.99),\n",
    "          }"
   ]
  },
  {
   "cell_type": "code",
   "execution_count": 25,
   "metadata": {},
   "outputs": [],
   "source": [
    "#객체 생성\n",
    "lgbmBO = BayesianOptimization(f = lgbm_cv, pbounds = pbounds, verbose = 2, random_state = 0 )"
   ]
  },
  {
   "cell_type": "code",
   "execution_count": 26,
   "metadata": {},
   "outputs": [
    {
     "name": "stdout",
     "output_type": "stream",
     "text": [
      "|   iter    |  target   | baggin... | colsam... | featur... | lambda_l1 | lambda_l2 | learni... | max_depth | min_ch... | num_le... |\n",
      "-------------------------------------------------------------------------------------------------------------------------------------\n",
      "[LightGBM] [Warning] feature_fraction is set=0.5967754659733202, colsample_bytree=0.7080374727086953 will be ignored. Current value: feature_fraction=0.5967754659733202\n",
      "[LightGBM] [Warning] lambda_l1 is set=0.5394343511669278, reg_alpha=0.0 will be ignored. Current value: lambda_l1=0.5394343511669278\n",
      "[LightGBM] [Warning] bagging_fraction is set=0.5433704875376587, subsample=1.0 will be ignored. Current value: bagging_fraction=0.5433704875376587\n",
      "[LightGBM] [Warning] lambda_l2 is set=0.41941825134551564, reg_lambda=0.0 will be ignored. Current value: lambda_l2=0.41941825134551564\n",
      "[LightGBM] [Warning] feature_fraction is set=0.5967754659733202, colsample_bytree=0.7080374727086953 will be ignored. Current value: feature_fraction=0.5967754659733202\n",
      "[LightGBM] [Warning] lambda_l1 is set=0.5394343511669278, reg_alpha=0.0 will be ignored. Current value: lambda_l1=0.5394343511669278\n",
      "[LightGBM] [Warning] bagging_fraction is set=0.5433704875376587, subsample=1.0 will be ignored. Current value: bagging_fraction=0.5433704875376587\n",
      "[LightGBM] [Warning] lambda_l2 is set=0.41941825134551564, reg_lambda=0.0 will be ignored. Current value: lambda_l2=0.41941825134551564\n",
      "[LightGBM] [Warning] feature_fraction is set=0.5967754659733202, colsample_bytree=0.7080374727086953 will be ignored. Current value: feature_fraction=0.5967754659733202\n",
      "[LightGBM] [Warning] lambda_l1 is set=0.5394343511669278, reg_alpha=0.0 will be ignored. Current value: lambda_l1=0.5394343511669278\n",
      "[LightGBM] [Warning] bagging_fraction is set=0.5433704875376587, subsample=1.0 will be ignored. Current value: bagging_fraction=0.5433704875376587\n",
      "[LightGBM] [Warning] lambda_l2 is set=0.41941825134551564, reg_lambda=0.0 will be ignored. Current value: lambda_l2=0.41941825134551564\n",
      "[LightGBM] [Warning] feature_fraction is set=0.5967754659733202, colsample_bytree=0.7080374727086953 will be ignored. Current value: feature_fraction=0.5967754659733202\n",
      "[LightGBM] [Warning] lambda_l1 is set=0.5394343511669278, reg_alpha=0.0 will be ignored. Current value: lambda_l1=0.5394343511669278\n",
      "[LightGBM] [Warning] bagging_fraction is set=0.5433704875376587, subsample=1.0 will be ignored. Current value: bagging_fraction=0.5433704875376587\n",
      "[LightGBM] [Warning] lambda_l2 is set=0.41941825134551564, reg_lambda=0.0 will be ignored. Current value: lambda_l2=0.41941825134551564\n",
      "[LightGBM] [Warning] feature_fraction is set=0.5967754659733202, colsample_bytree=0.7080374727086953 will be ignored. Current value: feature_fraction=0.5967754659733202\n",
      "[LightGBM] [Warning] lambda_l1 is set=0.5394343511669278, reg_alpha=0.0 will be ignored. Current value: lambda_l1=0.5394343511669278\n",
      "[LightGBM] [Warning] bagging_fraction is set=0.5433704875376587, subsample=1.0 will be ignored. Current value: bagging_fraction=0.5433704875376587\n",
      "[LightGBM] [Warning] lambda_l2 is set=0.41941825134551564, reg_lambda=0.0 will be ignored. Current value: lambda_l2=0.41941825134551564\n",
      "| \u001b[0m 1       \u001b[0m | \u001b[0m 0.6981  \u001b[0m | \u001b[0m 0.5434  \u001b[0m | \u001b[0m 0.708   \u001b[0m | \u001b[0m 0.5968  \u001b[0m | \u001b[0m 0.5394  \u001b[0m | \u001b[0m 0.4194  \u001b[0m | \u001b[0m 0.03233 \u001b[0m | \u001b[0m 12.06   \u001b[0m | \u001b[0m 92.42   \u001b[0m | \u001b[0m 589.1   \u001b[0m |\n",
      "[LightGBM] [Warning] feature_fraction is set=0.5236530810634001, colsample_bytree=0.7838077877018379 will be ignored. Current value: feature_fraction=0.5236530810634001\n",
      "[LightGBM] [Warning] lambda_l1 is set=0.562364115482993, reg_alpha=0.0 will be ignored. Current value: lambda_l1=0.562364115482993\n",
      "[LightGBM] [Warning] bagging_fraction is set=0.37966875948563733, subsample=1.0 will be ignored. Current value: bagging_fraction=0.37966875948563733\n",
      "[LightGBM] [Warning] lambda_l2 is set=0.9163406719097344, reg_lambda=0.0 will be ignored. Current value: lambda_l2=0.9163406719097344\n",
      "[LightGBM] [Warning] feature_fraction is set=0.5236530810634001, colsample_bytree=0.7838077877018379 will be ignored. Current value: feature_fraction=0.5236530810634001\n",
      "[LightGBM] [Warning] lambda_l1 is set=0.562364115482993, reg_alpha=0.0 will be ignored. Current value: lambda_l1=0.562364115482993\n",
      "[LightGBM] [Warning] bagging_fraction is set=0.37966875948563733, subsample=1.0 will be ignored. Current value: bagging_fraction=0.37966875948563733\n",
      "[LightGBM] [Warning] lambda_l2 is set=0.9163406719097344, reg_lambda=0.0 will be ignored. Current value: lambda_l2=0.9163406719097344\n",
      "[LightGBM] [Warning] feature_fraction is set=0.5236530810634001, colsample_bytree=0.7838077877018379 will be ignored. Current value: feature_fraction=0.5236530810634001\n",
      "[LightGBM] [Warning] lambda_l1 is set=0.562364115482993, reg_alpha=0.0 will be ignored. Current value: lambda_l1=0.562364115482993\n",
      "[LightGBM] [Warning] bagging_fraction is set=0.37966875948563733, subsample=1.0 will be ignored. Current value: bagging_fraction=0.37966875948563733\n",
      "[LightGBM] [Warning] lambda_l2 is set=0.9163406719097344, reg_lambda=0.0 will be ignored. Current value: lambda_l2=0.9163406719097344\n",
      "[LightGBM] [Warning] feature_fraction is set=0.5236530810634001, colsample_bytree=0.7838077877018379 will be ignored. Current value: feature_fraction=0.5236530810634001\n",
      "[LightGBM] [Warning] lambda_l1 is set=0.562364115482993, reg_alpha=0.0 will be ignored. Current value: lambda_l1=0.562364115482993\n",
      "[LightGBM] [Warning] bagging_fraction is set=0.37966875948563733, subsample=1.0 will be ignored. Current value: bagging_fraction=0.37966875948563733\n",
      "[LightGBM] [Warning] lambda_l2 is set=0.9163406719097344, reg_lambda=0.0 will be ignored. Current value: lambda_l2=0.9163406719097344\n",
      "[LightGBM] [Warning] feature_fraction is set=0.5236530810634001, colsample_bytree=0.7838077877018379 will be ignored. Current value: feature_fraction=0.5236530810634001\n",
      "[LightGBM] [Warning] lambda_l1 is set=0.562364115482993, reg_alpha=0.0 will be ignored. Current value: lambda_l1=0.562364115482993\n",
      "[LightGBM] [Warning] bagging_fraction is set=0.37966875948563733, subsample=1.0 will be ignored. Current value: bagging_fraction=0.37966875948563733\n",
      "[LightGBM] [Warning] lambda_l2 is set=0.9163406719097344, reg_lambda=0.0 will be ignored. Current value: lambda_l2=0.9163406719097344\n",
      "| \u001b[0m 2       \u001b[0m | \u001b[0m 0.6863  \u001b[0m | \u001b[0m 0.3797  \u001b[0m | \u001b[0m 0.7838  \u001b[0m | \u001b[0m 0.5237  \u001b[0m | \u001b[0m 0.5624  \u001b[0m | \u001b[0m 0.9163  \u001b[0m | \u001b[0m 0.003645\u001b[0m | \u001b[0m 4.004   \u001b[0m | \u001b[0m 31.42   \u001b[0m | \u001b[0m 549.8   \u001b[0m |\n",
      "[LightGBM] [Warning] feature_fraction is set=0.968834296976213, colsample_bytree=0.8613120267643509 will be ignored. Current value: feature_fraction=0.968834296976213\n",
      "[LightGBM] [Warning] lambda_l1 is set=0.7911669785745563, reg_alpha=0.0 will be ignored. Current value: lambda_l1=0.7911669785745563\n",
      "[LightGBM] [Warning] bagging_fraction is set=0.770397367765257, subsample=1.0 will be ignored. Current value: bagging_fraction=0.770397367765257\n",
      "[LightGBM] [Warning] lambda_l2 is set=0.45686456863040253, reg_lambda=0.0 will be ignored. Current value: lambda_l2=0.45686456863040253\n",
      "[LightGBM] [Warning] feature_fraction is set=0.968834296976213, colsample_bytree=0.8613120267643509 will be ignored. Current value: feature_fraction=0.968834296976213\n",
      "[LightGBM] [Warning] lambda_l1 is set=0.7911669785745563, reg_alpha=0.0 will be ignored. Current value: lambda_l1=0.7911669785745563\n",
      "[LightGBM] [Warning] bagging_fraction is set=0.770397367765257, subsample=1.0 will be ignored. Current value: bagging_fraction=0.770397367765257\n",
      "[LightGBM] [Warning] lambda_l2 is set=0.45686456863040253, reg_lambda=0.0 will be ignored. Current value: lambda_l2=0.45686456863040253\n",
      "[LightGBM] [Warning] feature_fraction is set=0.968834296976213, colsample_bytree=0.8613120267643509 will be ignored. Current value: feature_fraction=0.968834296976213\n",
      "[LightGBM] [Warning] lambda_l1 is set=0.7911669785745563, reg_alpha=0.0 will be ignored. Current value: lambda_l1=0.7911669785745563\n",
      "[LightGBM] [Warning] bagging_fraction is set=0.770397367765257, subsample=1.0 will be ignored. Current value: bagging_fraction=0.770397367765257\n",
      "[LightGBM] [Warning] lambda_l2 is set=0.45686456863040253, reg_lambda=0.0 will be ignored. Current value: lambda_l2=0.45686456863040253\n"
     ]
    },
    {
     "name": "stdout",
     "output_type": "stream",
     "text": [
      "[LightGBM] [Warning] feature_fraction is set=0.968834296976213, colsample_bytree=0.8613120267643509 will be ignored. Current value: feature_fraction=0.968834296976213\n",
      "[LightGBM] [Warning] lambda_l1 is set=0.7911669785745563, reg_alpha=0.0 will be ignored. Current value: lambda_l1=0.7911669785745563\n",
      "[LightGBM] [Warning] bagging_fraction is set=0.770397367765257, subsample=1.0 will be ignored. Current value: bagging_fraction=0.770397367765257\n",
      "[LightGBM] [Warning] lambda_l2 is set=0.45686456863040253, reg_lambda=0.0 will be ignored. Current value: lambda_l2=0.45686456863040253\n",
      "[LightGBM] [Warning] feature_fraction is set=0.968834296976213, colsample_bytree=0.8613120267643509 will be ignored. Current value: feature_fraction=0.968834296976213\n",
      "[LightGBM] [Warning] lambda_l1 is set=0.7911669785745563, reg_alpha=0.0 will be ignored. Current value: lambda_l1=0.7911669785745563\n",
      "[LightGBM] [Warning] bagging_fraction is set=0.770397367765257, subsample=1.0 will be ignored. Current value: bagging_fraction=0.770397367765257\n",
      "[LightGBM] [Warning] lambda_l2 is set=0.45686456863040253, reg_lambda=0.0 will be ignored. Current value: lambda_l2=0.45686456863040253\n",
      "| \u001b[95m 3       \u001b[0m | \u001b[95m 0.7012  \u001b[0m | \u001b[95m 0.7704  \u001b[0m | \u001b[95m 0.8613  \u001b[0m | \u001b[95m 0.9688  \u001b[0m | \u001b[95m 0.7912  \u001b[0m | \u001b[95m 0.4569  \u001b[0m | \u001b[95m 0.03905 \u001b[0m | \u001b[95m 4.72    \u001b[0m | \u001b[95m 74.79   \u001b[0m | \u001b[95m 343.0   \u001b[0m |\n",
      "[LightGBM] [Warning] feature_fraction is set=0.4105738543966193, colsample_bytree=0.5166298385325709 will be ignored. Current value: feature_fraction=0.4105738543966193\n",
      "[LightGBM] [Warning] lambda_l1 is set=0.2619100559835807, reg_alpha=0.0 will be ignored. Current value: lambda_l1=0.2619100559835807\n",
      "[LightGBM] [Warning] bagging_fraction is set=0.935227760987383, subsample=1.0 will be ignored. Current value: bagging_fraction=0.935227760987383\n",
      "[LightGBM] [Warning] lambda_l2 is set=0.7664913525398744, reg_lambda=0.0 will be ignored. Current value: lambda_l2=0.7664913525398744\n",
      "[LightGBM] [Warning] feature_fraction is set=0.4105738543966193, colsample_bytree=0.5166298385325709 will be ignored. Current value: feature_fraction=0.4105738543966193\n",
      "[LightGBM] [Warning] lambda_l1 is set=0.2619100559835807, reg_alpha=0.0 will be ignored. Current value: lambda_l1=0.2619100559835807\n",
      "[LightGBM] [Warning] bagging_fraction is set=0.935227760987383, subsample=1.0 will be ignored. Current value: bagging_fraction=0.935227760987383\n",
      "[LightGBM] [Warning] lambda_l2 is set=0.7664913525398744, reg_lambda=0.0 will be ignored. Current value: lambda_l2=0.7664913525398744\n",
      "[LightGBM] [Warning] feature_fraction is set=0.4105738543966193, colsample_bytree=0.5166298385325709 will be ignored. Current value: feature_fraction=0.4105738543966193\n",
      "[LightGBM] [Warning] lambda_l1 is set=0.2619100559835807, reg_alpha=0.0 will be ignored. Current value: lambda_l1=0.2619100559835807\n",
      "[LightGBM] [Warning] bagging_fraction is set=0.935227760987383, subsample=1.0 will be ignored. Current value: bagging_fraction=0.935227760987383\n",
      "[LightGBM] [Warning] lambda_l2 is set=0.7664913525398744, reg_lambda=0.0 will be ignored. Current value: lambda_l2=0.7664913525398744\n",
      "[LightGBM] [Warning] feature_fraction is set=0.4105738543966193, colsample_bytree=0.5166298385325709 will be ignored. Current value: feature_fraction=0.4105738543966193\n",
      "[LightGBM] [Warning] lambda_l1 is set=0.2619100559835807, reg_alpha=0.0 will be ignored. Current value: lambda_l1=0.2619100559835807\n",
      "[LightGBM] [Warning] bagging_fraction is set=0.935227760987383, subsample=1.0 will be ignored. Current value: bagging_fraction=0.935227760987383\n",
      "[LightGBM] [Warning] lambda_l2 is set=0.7664913525398744, reg_lambda=0.0 will be ignored. Current value: lambda_l2=0.7664913525398744\n",
      "[LightGBM] [Warning] feature_fraction is set=0.4105738543966193, colsample_bytree=0.5166298385325709 will be ignored. Current value: feature_fraction=0.4105738543966193\n",
      "[LightGBM] [Warning] lambda_l1 is set=0.2619100559835807, reg_alpha=0.0 will be ignored. Current value: lambda_l1=0.2619100559835807\n",
      "[LightGBM] [Warning] bagging_fraction is set=0.935227760987383, subsample=1.0 will be ignored. Current value: bagging_fraction=0.935227760987383\n",
      "[LightGBM] [Warning] lambda_l2 is set=0.7664913525398744, reg_lambda=0.0 will be ignored. Current value: lambda_l2=0.7664913525398744\n",
      "| \u001b[0m 4       \u001b[0m | \u001b[0m 0.699   \u001b[0m | \u001b[0m 0.9352  \u001b[0m | \u001b[0m 0.5166  \u001b[0m | \u001b[0m 0.4106  \u001b[0m | \u001b[0m 0.2619  \u001b[0m | \u001b[0m 0.7665  \u001b[0m | \u001b[0m 0.02286 \u001b[0m | \u001b[0m 15.07   \u001b[0m | \u001b[0m 31.32   \u001b[0m | \u001b[0m 485.3   \u001b[0m |\n",
      "[LightGBM] [Warning] feature_fraction is set=0.9343162229216264, colsample_bytree=0.6107646569060093 will be ignored. Current value: feature_fraction=0.9343162229216264\n",
      "[LightGBM] [Warning] lambda_l1 is set=0.6750020961124485, reg_alpha=0.0 will be ignored. Current value: lambda_l1=0.6750020961124485\n",
      "[LightGBM] [Warning] bagging_fraction is set=0.6060135559229249, subsample=1.0 will be ignored. Current value: bagging_fraction=0.6060135559229249\n",
      "[LightGBM] [Warning] lambda_l2 is set=0.35591282156804815, reg_lambda=0.0 will be ignored. Current value: lambda_l2=0.35591282156804815\n",
      "[LightGBM] [Warning] feature_fraction is set=0.9343162229216264, colsample_bytree=0.6107646569060093 will be ignored. Current value: feature_fraction=0.9343162229216264\n",
      "[LightGBM] [Warning] lambda_l1 is set=0.6750020961124485, reg_alpha=0.0 will be ignored. Current value: lambda_l1=0.6750020961124485\n",
      "[LightGBM] [Warning] bagging_fraction is set=0.6060135559229249, subsample=1.0 will be ignored. Current value: bagging_fraction=0.6060135559229249\n",
      "[LightGBM] [Warning] lambda_l2 is set=0.35591282156804815, reg_lambda=0.0 will be ignored. Current value: lambda_l2=0.35591282156804815\n",
      "[LightGBM] [Warning] feature_fraction is set=0.9343162229216264, colsample_bytree=0.6107646569060093 will be ignored. Current value: feature_fraction=0.9343162229216264\n",
      "[LightGBM] [Warning] lambda_l1 is set=0.6750020961124485, reg_alpha=0.0 will be ignored. Current value: lambda_l1=0.6750020961124485\n",
      "[LightGBM] [Warning] bagging_fraction is set=0.6060135559229249, subsample=1.0 will be ignored. Current value: bagging_fraction=0.6060135559229249\n",
      "[LightGBM] [Warning] lambda_l2 is set=0.35591282156804815, reg_lambda=0.0 will be ignored. Current value: lambda_l2=0.35591282156804815\n",
      "[LightGBM] [Warning] feature_fraction is set=0.9343162229216264, colsample_bytree=0.6107646569060093 will be ignored. Current value: feature_fraction=0.9343162229216264\n",
      "[LightGBM] [Warning] lambda_l1 is set=0.6750020961124485, reg_alpha=0.0 will be ignored. Current value: lambda_l1=0.6750020961124485\n",
      "[LightGBM] [Warning] bagging_fraction is set=0.6060135559229249, subsample=1.0 will be ignored. Current value: bagging_fraction=0.6060135559229249\n",
      "[LightGBM] [Warning] lambda_l2 is set=0.35591282156804815, reg_lambda=0.0 will be ignored. Current value: lambda_l2=0.35591282156804815\n",
      "[LightGBM] [Warning] feature_fraction is set=0.9343162229216264, colsample_bytree=0.6107646569060093 will be ignored. Current value: feature_fraction=0.9343162229216264\n",
      "[LightGBM] [Warning] lambda_l1 is set=0.6750020961124485, reg_alpha=0.0 will be ignored. Current value: lambda_l1=0.6750020961124485\n",
      "[LightGBM] [Warning] bagging_fraction is set=0.6060135559229249, subsample=1.0 will be ignored. Current value: bagging_fraction=0.6060135559229249\n",
      "[LightGBM] [Warning] lambda_l2 is set=0.35591282156804815, reg_lambda=0.0 will be ignored. Current value: lambda_l2=0.35591282156804815\n",
      "| \u001b[0m 5       \u001b[0m | \u001b[0m 0.6993  \u001b[0m | \u001b[0m 0.606   \u001b[0m | \u001b[0m 0.6108  \u001b[0m | \u001b[0m 0.9343  \u001b[0m | \u001b[0m 0.675   \u001b[0m | \u001b[0m 0.3559  \u001b[0m | \u001b[0m 0.02191 \u001b[0m | \u001b[0m 18.05   \u001b[0m | \u001b[0m 34.22   \u001b[0m | \u001b[0m 500.0   \u001b[0m |\n",
      "[LightGBM] [Warning] feature_fraction is set=0.4516858686396504, colsample_bytree=0.9378475350658931 will be ignored. Current value: feature_fraction=0.4516858686396504\n",
      "[LightGBM] [Warning] lambda_l1 is set=0.3035105142765035, reg_alpha=0.0 will be ignored. Current value: lambda_l1=0.3035105142765035\n",
      "[LightGBM] [Warning] bagging_fraction is set=0.532967351936149, subsample=1.0 will be ignored. Current value: bagging_fraction=0.532967351936149\n",
      "[LightGBM] [Warning] lambda_l2 is set=0.9055280819557492, reg_lambda=0.0 will be ignored. Current value: lambda_l2=0.9055280819557492\n"
     ]
    },
    {
     "name": "stdout",
     "output_type": "stream",
     "text": [
      "[LightGBM] [Warning] feature_fraction is set=0.4516858686396504, colsample_bytree=0.9378475350658931 will be ignored. Current value: feature_fraction=0.4516858686396504\n",
      "[LightGBM] [Warning] lambda_l1 is set=0.3035105142765035, reg_alpha=0.0 will be ignored. Current value: lambda_l1=0.3035105142765035\n",
      "[LightGBM] [Warning] bagging_fraction is set=0.532967351936149, subsample=1.0 will be ignored. Current value: bagging_fraction=0.532967351936149\n",
      "[LightGBM] [Warning] lambda_l2 is set=0.9055280819557492, reg_lambda=0.0 will be ignored. Current value: lambda_l2=0.9055280819557492\n",
      "[LightGBM] [Warning] feature_fraction is set=0.4516858686396504, colsample_bytree=0.9378475350658931 will be ignored. Current value: feature_fraction=0.4516858686396504\n",
      "[LightGBM] [Warning] lambda_l1 is set=0.3035105142765035, reg_alpha=0.0 will be ignored. Current value: lambda_l1=0.3035105142765035\n",
      "[LightGBM] [Warning] bagging_fraction is set=0.532967351936149, subsample=1.0 will be ignored. Current value: bagging_fraction=0.532967351936149\n",
      "[LightGBM] [Warning] lambda_l2 is set=0.9055280819557492, reg_lambda=0.0 will be ignored. Current value: lambda_l2=0.9055280819557492\n",
      "[LightGBM] [Warning] feature_fraction is set=0.4516858686396504, colsample_bytree=0.9378475350658931 will be ignored. Current value: feature_fraction=0.4516858686396504\n",
      "[LightGBM] [Warning] lambda_l1 is set=0.3035105142765035, reg_alpha=0.0 will be ignored. Current value: lambda_l1=0.3035105142765035\n",
      "[LightGBM] [Warning] bagging_fraction is set=0.532967351936149, subsample=1.0 will be ignored. Current value: bagging_fraction=0.532967351936149\n",
      "[LightGBM] [Warning] lambda_l2 is set=0.9055280819557492, reg_lambda=0.0 will be ignored. Current value: lambda_l2=0.9055280819557492\n",
      "[LightGBM] [Warning] feature_fraction is set=0.4516858686396504, colsample_bytree=0.9378475350658931 will be ignored. Current value: feature_fraction=0.4516858686396504\n",
      "[LightGBM] [Warning] lambda_l1 is set=0.3035105142765035, reg_alpha=0.0 will be ignored. Current value: lambda_l1=0.3035105142765035\n",
      "[LightGBM] [Warning] bagging_fraction is set=0.532967351936149, subsample=1.0 will be ignored. Current value: bagging_fraction=0.532967351936149\n",
      "[LightGBM] [Warning] lambda_l2 is set=0.9055280819557492, reg_lambda=0.0 will be ignored. Current value: lambda_l2=0.9055280819557492\n",
      "| \u001b[0m 6       \u001b[0m | \u001b[0m 0.7004  \u001b[0m | \u001b[0m 0.533   \u001b[0m | \u001b[0m 0.9378  \u001b[0m | \u001b[0m 0.4517  \u001b[0m | \u001b[0m 0.3035  \u001b[0m | \u001b[0m 0.9055  \u001b[0m | \u001b[0m 0.02959 \u001b[0m | \u001b[0m 4.912   \u001b[0m | \u001b[0m 69.11   \u001b[0m | \u001b[0m 380.9   \u001b[0m |\n",
      "[LightGBM] [Warning] feature_fraction is set=0.8746090944924945, colsample_bytree=0.29685191651222725 will be ignored. Current value: feature_fraction=0.8746090944924945\n",
      "[LightGBM] [Warning] lambda_l1 is set=0.3115564709553794, reg_alpha=0.0 will be ignored. Current value: lambda_l1=0.3115564709553794\n",
      "[LightGBM] [Warning] bagging_fraction is set=0.25990202630015535, subsample=1.0 will be ignored. Current value: bagging_fraction=0.25990202630015535\n",
      "[LightGBM] [Warning] lambda_l2 is set=0.9060470923339503, reg_lambda=0.0 will be ignored. Current value: lambda_l2=0.9060470923339503\n",
      "[LightGBM] [Warning] feature_fraction is set=0.8746090944924945, colsample_bytree=0.29685191651222725 will be ignored. Current value: feature_fraction=0.8746090944924945\n",
      "[LightGBM] [Warning] lambda_l1 is set=0.3115564709553794, reg_alpha=0.0 will be ignored. Current value: lambda_l1=0.3115564709553794\n",
      "[LightGBM] [Warning] bagging_fraction is set=0.25990202630015535, subsample=1.0 will be ignored. Current value: bagging_fraction=0.25990202630015535\n",
      "[LightGBM] [Warning] lambda_l2 is set=0.9060470923339503, reg_lambda=0.0 will be ignored. Current value: lambda_l2=0.9060470923339503\n",
      "[LightGBM] [Warning] feature_fraction is set=0.8746090944924945, colsample_bytree=0.29685191651222725 will be ignored. Current value: feature_fraction=0.8746090944924945\n",
      "[LightGBM] [Warning] lambda_l1 is set=0.3115564709553794, reg_alpha=0.0 will be ignored. Current value: lambda_l1=0.3115564709553794\n",
      "[LightGBM] [Warning] bagging_fraction is set=0.25990202630015535, subsample=1.0 will be ignored. Current value: bagging_fraction=0.25990202630015535\n",
      "[LightGBM] [Warning] lambda_l2 is set=0.9060470923339503, reg_lambda=0.0 will be ignored. Current value: lambda_l2=0.9060470923339503\n",
      "[LightGBM] [Warning] feature_fraction is set=0.8746090944924945, colsample_bytree=0.29685191651222725 will be ignored. Current value: feature_fraction=0.8746090944924945\n",
      "[LightGBM] [Warning] lambda_l1 is set=0.3115564709553794, reg_alpha=0.0 will be ignored. Current value: lambda_l1=0.3115564709553794\n",
      "[LightGBM] [Warning] bagging_fraction is set=0.25990202630015535, subsample=1.0 will be ignored. Current value: bagging_fraction=0.25990202630015535\n",
      "[LightGBM] [Warning] lambda_l2 is set=0.9060470923339503, reg_lambda=0.0 will be ignored. Current value: lambda_l2=0.9060470923339503\n",
      "[LightGBM] [Warning] feature_fraction is set=0.8746090944924945, colsample_bytree=0.29685191651222725 will be ignored. Current value: feature_fraction=0.8746090944924945\n",
      "[LightGBM] [Warning] lambda_l1 is set=0.3115564709553794, reg_alpha=0.0 will be ignored. Current value: lambda_l1=0.3115564709553794\n",
      "[LightGBM] [Warning] bagging_fraction is set=0.25990202630015535, subsample=1.0 will be ignored. Current value: bagging_fraction=0.25990202630015535\n",
      "[LightGBM] [Warning] lambda_l2 is set=0.9060470923339503, reg_lambda=0.0 will be ignored. Current value: lambda_l2=0.9060470923339503\n",
      "| \u001b[0m 7       \u001b[0m | \u001b[0m 0.6967  \u001b[0m | \u001b[0m 0.2599  \u001b[0m | \u001b[0m 0.2969  \u001b[0m | \u001b[0m 0.8746  \u001b[0m | \u001b[0m 0.3116  \u001b[0m | \u001b[0m 0.906   \u001b[0m | \u001b[0m 0.02303 \u001b[0m | \u001b[0m 21.13   \u001b[0m | \u001b[0m 34.11   \u001b[0m | \u001b[0m 349.5   \u001b[0m |\n",
      "[LightGBM] [Warning] feature_fraction is set=0.7643383522915648, colsample_bytree=0.8638734679615518 will be ignored. Current value: feature_fraction=0.7643383522915648\n",
      "[LightGBM] [Warning] lambda_l1 is set=0.12007501164299178, reg_alpha=0.0 will be ignored. Current value: lambda_l1=0.12007501164299178\n",
      "[LightGBM] [Warning] bagging_fraction is set=0.047164671010059264, subsample=1.0 will be ignored. Current value: bagging_fraction=0.047164671010059264\n",
      "[LightGBM] [Warning] lambda_l2 is set=0.10551478530302011, reg_lambda=0.0 will be ignored. Current value: lambda_l2=0.10551478530302011\n",
      "[LightGBM] [Warning] feature_fraction is set=0.7643383522915648, colsample_bytree=0.8638734679615518 will be ignored. Current value: feature_fraction=0.7643383522915648\n",
      "[LightGBM] [Warning] lambda_l1 is set=0.12007501164299178, reg_alpha=0.0 will be ignored. Current value: lambda_l1=0.12007501164299178\n",
      "[LightGBM] [Warning] bagging_fraction is set=0.047164671010059264, subsample=1.0 will be ignored. Current value: bagging_fraction=0.047164671010059264\n",
      "[LightGBM] [Warning] lambda_l2 is set=0.10551478530302011, reg_lambda=0.0 will be ignored. Current value: lambda_l2=0.10551478530302011\n",
      "[LightGBM] [Warning] feature_fraction is set=0.7643383522915648, colsample_bytree=0.8638734679615518 will be ignored. Current value: feature_fraction=0.7643383522915648\n",
      "[LightGBM] [Warning] lambda_l1 is set=0.12007501164299178, reg_alpha=0.0 will be ignored. Current value: lambda_l1=0.12007501164299178\n",
      "[LightGBM] [Warning] bagging_fraction is set=0.047164671010059264, subsample=1.0 will be ignored. Current value: bagging_fraction=0.047164671010059264\n",
      "[LightGBM] [Warning] lambda_l2 is set=0.10551478530302011, reg_lambda=0.0 will be ignored. Current value: lambda_l2=0.10551478530302011\n",
      "[LightGBM] [Warning] feature_fraction is set=0.7643383522915648, colsample_bytree=0.8638734679615518 will be ignored. Current value: feature_fraction=0.7643383522915648\n",
      "[LightGBM] [Warning] lambda_l1 is set=0.12007501164299178, reg_alpha=0.0 will be ignored. Current value: lambda_l1=0.12007501164299178\n",
      "[LightGBM] [Warning] bagging_fraction is set=0.047164671010059264, subsample=1.0 will be ignored. Current value: bagging_fraction=0.047164671010059264\n",
      "[LightGBM] [Warning] lambda_l2 is set=0.10551478530302011, reg_lambda=0.0 will be ignored. Current value: lambda_l2=0.10551478530302011\n",
      "[LightGBM] [Warning] feature_fraction is set=0.7643383522915648, colsample_bytree=0.8638734679615518 will be ignored. Current value: feature_fraction=0.7643383522915648\n",
      "[LightGBM] [Warning] lambda_l1 is set=0.12007501164299178, reg_alpha=0.0 will be ignored. Current value: lambda_l1=0.12007501164299178\n",
      "[LightGBM] [Warning] bagging_fraction is set=0.047164671010059264, subsample=1.0 will be ignored. Current value: bagging_fraction=0.047164671010059264\n",
      "[LightGBM] [Warning] lambda_l2 is set=0.10551478530302011, reg_lambda=0.0 will be ignored. Current value: lambda_l2=0.10551478530302011\n"
     ]
    },
    {
     "name": "stdout",
     "output_type": "stream",
     "text": [
      "| \u001b[0m 8       \u001b[0m | \u001b[0m 0.697   \u001b[0m | \u001b[0m 0.04716 \u001b[0m | \u001b[0m 0.8639  \u001b[0m | \u001b[0m 0.7643  \u001b[0m | \u001b[0m 0.1201  \u001b[0m | \u001b[0m 0.1055  \u001b[0m | \u001b[0m 0.03961 \u001b[0m | \u001b[0m 24.22   \u001b[0m | \u001b[0m 98.06   \u001b[0m | \u001b[0m 362.6   \u001b[0m |\n",
      "[LightGBM] [Warning] feature_fraction is set=0.20721726688257483, colsample_bytree=0.8691096252874488 will be ignored. Current value: feature_fraction=0.20721726688257483\n",
      "[LightGBM] [Warning] lambda_l1 is set=0.45940786307182707, reg_alpha=0.0 will be ignored. Current value: lambda_l1=0.45940786307182707\n",
      "[LightGBM] [Warning] bagging_fraction is set=0.3487534522641066, subsample=1.0 will be ignored. Current value: bagging_fraction=0.3487534522641066\n",
      "[LightGBM] [Warning] lambda_l2 is set=0.696613671314963, reg_lambda=0.0 will be ignored. Current value: lambda_l2=0.696613671314963\n",
      "[LightGBM] [Warning] feature_fraction is set=0.20721726688257483, colsample_bytree=0.8691096252874488 will be ignored. Current value: feature_fraction=0.20721726688257483\n",
      "[LightGBM] [Warning] lambda_l1 is set=0.45940786307182707, reg_alpha=0.0 will be ignored. Current value: lambda_l1=0.45940786307182707\n",
      "[LightGBM] [Warning] bagging_fraction is set=0.3487534522641066, subsample=1.0 will be ignored. Current value: bagging_fraction=0.3487534522641066\n",
      "[LightGBM] [Warning] lambda_l2 is set=0.696613671314963, reg_lambda=0.0 will be ignored. Current value: lambda_l2=0.696613671314963\n",
      "[LightGBM] [Warning] feature_fraction is set=0.20721726688257483, colsample_bytree=0.8691096252874488 will be ignored. Current value: feature_fraction=0.20721726688257483\n",
      "[LightGBM] [Warning] lambda_l1 is set=0.45940786307182707, reg_alpha=0.0 will be ignored. Current value: lambda_l1=0.45940786307182707\n",
      "[LightGBM] [Warning] bagging_fraction is set=0.3487534522641066, subsample=1.0 will be ignored. Current value: bagging_fraction=0.3487534522641066\n",
      "[LightGBM] [Warning] lambda_l2 is set=0.696613671314963, reg_lambda=0.0 will be ignored. Current value: lambda_l2=0.696613671314963\n",
      "[LightGBM] [Warning] feature_fraction is set=0.20721726688257483, colsample_bytree=0.8691096252874488 will be ignored. Current value: feature_fraction=0.20721726688257483\n",
      "[LightGBM] [Warning] lambda_l1 is set=0.45940786307182707, reg_alpha=0.0 will be ignored. Current value: lambda_l1=0.45940786307182707\n",
      "[LightGBM] [Warning] bagging_fraction is set=0.3487534522641066, subsample=1.0 will be ignored. Current value: bagging_fraction=0.3487534522641066\n",
      "[LightGBM] [Warning] lambda_l2 is set=0.696613671314963, reg_lambda=0.0 will be ignored. Current value: lambda_l2=0.696613671314963\n",
      "[LightGBM] [Warning] feature_fraction is set=0.20721726688257483, colsample_bytree=0.8691096252874488 will be ignored. Current value: feature_fraction=0.20721726688257483\n",
      "[LightGBM] [Warning] lambda_l1 is set=0.45940786307182707, reg_alpha=0.0 will be ignored. Current value: lambda_l1=0.45940786307182707\n",
      "[LightGBM] [Warning] bagging_fraction is set=0.3487534522641066, subsample=1.0 will be ignored. Current value: bagging_fraction=0.3487534522641066\n",
      "[LightGBM] [Warning] lambda_l2 is set=0.696613671314963, reg_lambda=0.0 will be ignored. Current value: lambda_l2=0.696613671314963\n",
      "| \u001b[0m 9       \u001b[0m | \u001b[0m 0.6919  \u001b[0m | \u001b[0m 0.3488  \u001b[0m | \u001b[0m 0.8691  \u001b[0m | \u001b[0m 0.2072  \u001b[0m | \u001b[0m 0.4594  \u001b[0m | \u001b[0m 0.6966  \u001b[0m | \u001b[0m 0.01437 \u001b[0m | \u001b[0m 3.215   \u001b[0m | \u001b[0m 78.2    \u001b[0m | \u001b[0m 302.6   \u001b[0m |\n",
      "[LightGBM] [Warning] feature_fraction is set=0.30986264793135654, colsample_bytree=0.4008718492464074 will be ignored. Current value: feature_fraction=0.30986264793135654\n",
      "[LightGBM] [Warning] lambda_l1 is set=0.7353599945161964, reg_alpha=0.0 will be ignored. Current value: lambda_l1=0.7353599945161964\n",
      "[LightGBM] [Warning] bagging_fraction is set=0.49973609854331447, subsample=1.0 will be ignored. Current value: bagging_fraction=0.49973609854331447\n",
      "[LightGBM] [Warning] lambda_l2 is set=0.9806328369693932, reg_lambda=0.0 will be ignored. Current value: lambda_l2=0.9806328369693932\n",
      "[LightGBM] [Warning] feature_fraction is set=0.30986264793135654, colsample_bytree=0.4008718492464074 will be ignored. Current value: feature_fraction=0.30986264793135654\n",
      "[LightGBM] [Warning] lambda_l1 is set=0.7353599945161964, reg_alpha=0.0 will be ignored. Current value: lambda_l1=0.7353599945161964\n",
      "[LightGBM] [Warning] bagging_fraction is set=0.49973609854331447, subsample=1.0 will be ignored. Current value: bagging_fraction=0.49973609854331447\n",
      "[LightGBM] [Warning] lambda_l2 is set=0.9806328369693932, reg_lambda=0.0 will be ignored. Current value: lambda_l2=0.9806328369693932\n",
      "[LightGBM] [Warning] feature_fraction is set=0.30986264793135654, colsample_bytree=0.4008718492464074 will be ignored. Current value: feature_fraction=0.30986264793135654\n",
      "[LightGBM] [Warning] lambda_l1 is set=0.7353599945161964, reg_alpha=0.0 will be ignored. Current value: lambda_l1=0.7353599945161964\n",
      "[LightGBM] [Warning] bagging_fraction is set=0.49973609854331447, subsample=1.0 will be ignored. Current value: bagging_fraction=0.49973609854331447\n",
      "[LightGBM] [Warning] lambda_l2 is set=0.9806328369693932, reg_lambda=0.0 will be ignored. Current value: lambda_l2=0.9806328369693932\n",
      "[LightGBM] [Warning] feature_fraction is set=0.30986264793135654, colsample_bytree=0.4008718492464074 will be ignored. Current value: feature_fraction=0.30986264793135654\n",
      "[LightGBM] [Warning] lambda_l1 is set=0.7353599945161964, reg_alpha=0.0 will be ignored. Current value: lambda_l1=0.7353599945161964\n",
      "[LightGBM] [Warning] bagging_fraction is set=0.49973609854331447, subsample=1.0 will be ignored. Current value: bagging_fraction=0.49973609854331447\n",
      "[LightGBM] [Warning] lambda_l2 is set=0.9806328369693932, reg_lambda=0.0 will be ignored. Current value: lambda_l2=0.9806328369693932\n",
      "[LightGBM] [Warning] feature_fraction is set=0.30986264793135654, colsample_bytree=0.4008718492464074 will be ignored. Current value: feature_fraction=0.30986264793135654\n",
      "[LightGBM] [Warning] lambda_l1 is set=0.7353599945161964, reg_alpha=0.0 will be ignored. Current value: lambda_l1=0.7353599945161964\n",
      "[LightGBM] [Warning] bagging_fraction is set=0.49973609854331447, subsample=1.0 will be ignored. Current value: bagging_fraction=0.49973609854331447\n",
      "[LightGBM] [Warning] lambda_l2 is set=0.9806328369693932, reg_lambda=0.0 will be ignored. Current value: lambda_l2=0.9806328369693932\n",
      "| \u001b[0m 10      \u001b[0m | \u001b[0m 0.6989  \u001b[0m | \u001b[0m 0.4997  \u001b[0m | \u001b[0m 0.4009  \u001b[0m | \u001b[0m 0.3099  \u001b[0m | \u001b[0m 0.7354  \u001b[0m | \u001b[0m 0.9806  \u001b[0m | \u001b[0m 0.02534 \u001b[0m | \u001b[0m 5.524   \u001b[0m | \u001b[0m 48.55   \u001b[0m | \u001b[0m 410.2   \u001b[0m |\n",
      "[LightGBM] [Warning] feature_fraction is set=0.28380038662417856, colsample_bytree=0.33331325416432395 will be ignored. Current value: feature_fraction=0.28380038662417856\n",
      "[LightGBM] [Warning] lambda_l1 is set=0.21334004774117157, reg_alpha=0.0 will be ignored. Current value: lambda_l1=0.21334004774117157\n",
      "[LightGBM] [Warning] bagging_fraction is set=0.41655615485655056, subsample=1.0 will be ignored. Current value: bagging_fraction=0.41655615485655056\n",
      "[LightGBM] [Warning] lambda_l2 is set=0.4098376954495892, reg_lambda=0.0 will be ignored. Current value: lambda_l2=0.4098376954495892\n",
      "[LightGBM] [Warning] feature_fraction is set=0.28380038662417856, colsample_bytree=0.33331325416432395 will be ignored. Current value: feature_fraction=0.28380038662417856\n",
      "[LightGBM] [Warning] lambda_l1 is set=0.21334004774117157, reg_alpha=0.0 will be ignored. Current value: lambda_l1=0.21334004774117157\n",
      "[LightGBM] [Warning] bagging_fraction is set=0.41655615485655056, subsample=1.0 will be ignored. Current value: bagging_fraction=0.41655615485655056\n",
      "[LightGBM] [Warning] lambda_l2 is set=0.4098376954495892, reg_lambda=0.0 will be ignored. Current value: lambda_l2=0.4098376954495892\n",
      "[LightGBM] [Warning] feature_fraction is set=0.28380038662417856, colsample_bytree=0.33331325416432395 will be ignored. Current value: feature_fraction=0.28380038662417856\n",
      "[LightGBM] [Warning] lambda_l1 is set=0.21334004774117157, reg_alpha=0.0 will be ignored. Current value: lambda_l1=0.21334004774117157\n",
      "[LightGBM] [Warning] bagging_fraction is set=0.41655615485655056, subsample=1.0 will be ignored. Current value: bagging_fraction=0.41655615485655056\n",
      "[LightGBM] [Warning] lambda_l2 is set=0.4098376954495892, reg_lambda=0.0 will be ignored. Current value: lambda_l2=0.4098376954495892\n"
     ]
    },
    {
     "name": "stdout",
     "output_type": "stream",
     "text": [
      "[LightGBM] [Warning] feature_fraction is set=0.28380038662417856, colsample_bytree=0.33331325416432395 will be ignored. Current value: feature_fraction=0.28380038662417856\n",
      "[LightGBM] [Warning] lambda_l1 is set=0.21334004774117157, reg_alpha=0.0 will be ignored. Current value: lambda_l1=0.21334004774117157\n",
      "[LightGBM] [Warning] bagging_fraction is set=0.41655615485655056, subsample=1.0 will be ignored. Current value: bagging_fraction=0.41655615485655056\n",
      "[LightGBM] [Warning] lambda_l2 is set=0.4098376954495892, reg_lambda=0.0 will be ignored. Current value: lambda_l2=0.4098376954495892\n",
      "[LightGBM] [Warning] feature_fraction is set=0.28380038662417856, colsample_bytree=0.33331325416432395 will be ignored. Current value: feature_fraction=0.28380038662417856\n",
      "[LightGBM] [Warning] lambda_l1 is set=0.21334004774117157, reg_alpha=0.0 will be ignored. Current value: lambda_l1=0.21334004774117157\n",
      "[LightGBM] [Warning] bagging_fraction is set=0.41655615485655056, subsample=1.0 will be ignored. Current value: bagging_fraction=0.41655615485655056\n",
      "[LightGBM] [Warning] lambda_l2 is set=0.4098376954495892, reg_lambda=0.0 will be ignored. Current value: lambda_l2=0.4098376954495892\n",
      "| \u001b[0m 11      \u001b[0m | \u001b[0m 0.6942  \u001b[0m | \u001b[0m 0.4166  \u001b[0m | \u001b[0m 0.3333  \u001b[0m | \u001b[0m 0.2838  \u001b[0m | \u001b[0m 0.2133  \u001b[0m | \u001b[0m 0.4098  \u001b[0m | \u001b[0m 0.009752\u001b[0m | \u001b[0m 3.613   \u001b[0m | \u001b[0m 73.04   \u001b[0m | \u001b[0m 343.0   \u001b[0m |\n",
      "[LightGBM] [Warning] feature_fraction is set=0.33794576535231846, colsample_bytree=0.4632692489843701 will be ignored. Current value: feature_fraction=0.33794576535231846\n",
      "[LightGBM] [Warning] lambda_l1 is set=0.6867466729240215, reg_alpha=0.0 will be ignored. Current value: lambda_l1=0.6867466729240215\n",
      "[LightGBM] [Warning] bagging_fraction is set=0.8518420645871295, subsample=1.0 will be ignored. Current value: bagging_fraction=0.8518420645871295\n",
      "[LightGBM] [Warning] lambda_l2 is set=0.0614067122598164, reg_lambda=0.0 will be ignored. Current value: lambda_l2=0.0614067122598164\n",
      "[LightGBM] [Warning] feature_fraction is set=0.33794576535231846, colsample_bytree=0.4632692489843701 will be ignored. Current value: feature_fraction=0.33794576535231846\n",
      "[LightGBM] [Warning] lambda_l1 is set=0.6867466729240215, reg_alpha=0.0 will be ignored. Current value: lambda_l1=0.6867466729240215\n",
      "[LightGBM] [Warning] bagging_fraction is set=0.8518420645871295, subsample=1.0 will be ignored. Current value: bagging_fraction=0.8518420645871295\n",
      "[LightGBM] [Warning] lambda_l2 is set=0.0614067122598164, reg_lambda=0.0 will be ignored. Current value: lambda_l2=0.0614067122598164\n",
      "[LightGBM] [Warning] feature_fraction is set=0.33794576535231846, colsample_bytree=0.4632692489843701 will be ignored. Current value: feature_fraction=0.33794576535231846\n",
      "[LightGBM] [Warning] lambda_l1 is set=0.6867466729240215, reg_alpha=0.0 will be ignored. Current value: lambda_l1=0.6867466729240215\n",
      "[LightGBM] [Warning] bagging_fraction is set=0.8518420645871295, subsample=1.0 will be ignored. Current value: bagging_fraction=0.8518420645871295\n",
      "[LightGBM] [Warning] lambda_l2 is set=0.0614067122598164, reg_lambda=0.0 will be ignored. Current value: lambda_l2=0.0614067122598164\n",
      "[LightGBM] [Warning] feature_fraction is set=0.33794576535231846, colsample_bytree=0.4632692489843701 will be ignored. Current value: feature_fraction=0.33794576535231846\n",
      "[LightGBM] [Warning] lambda_l1 is set=0.6867466729240215, reg_alpha=0.0 will be ignored. Current value: lambda_l1=0.6867466729240215\n",
      "[LightGBM] [Warning] bagging_fraction is set=0.8518420645871295, subsample=1.0 will be ignored. Current value: bagging_fraction=0.8518420645871295\n",
      "[LightGBM] [Warning] lambda_l2 is set=0.0614067122598164, reg_lambda=0.0 will be ignored. Current value: lambda_l2=0.0614067122598164\n",
      "[LightGBM] [Warning] feature_fraction is set=0.33794576535231846, colsample_bytree=0.4632692489843701 will be ignored. Current value: feature_fraction=0.33794576535231846\n",
      "[LightGBM] [Warning] lambda_l1 is set=0.6867466729240215, reg_alpha=0.0 will be ignored. Current value: lambda_l1=0.6867466729240215\n",
      "[LightGBM] [Warning] bagging_fraction is set=0.8518420645871295, subsample=1.0 will be ignored. Current value: bagging_fraction=0.8518420645871295\n",
      "[LightGBM] [Warning] lambda_l2 is set=0.0614067122598164, reg_lambda=0.0 will be ignored. Current value: lambda_l2=0.0614067122598164\n",
      "| \u001b[0m 12      \u001b[0m | \u001b[0m 0.6972  \u001b[0m | \u001b[0m 0.8518  \u001b[0m | \u001b[0m 0.4633  \u001b[0m | \u001b[0m 0.3379  \u001b[0m | \u001b[0m 0.6867  \u001b[0m | \u001b[0m 0.06141 \u001b[0m | \u001b[0m 0.04023 \u001b[0m | \u001b[0m 12.76   \u001b[0m | \u001b[0m 91.87   \u001b[0m | \u001b[0m 545.5   \u001b[0m |\n",
      "[LightGBM] [Warning] feature_fraction is set=0.4967777159548451, colsample_bytree=0.003918535677687176 will be ignored. Current value: feature_fraction=0.4967777159548451\n",
      "[LightGBM] [Warning] lambda_l1 is set=0.19046198999585096, reg_alpha=0.0 will be ignored. Current value: lambda_l1=0.19046198999585096\n",
      "[LightGBM] [Warning] bagging_fraction is set=0.9603460438663607, subsample=1.0 will be ignored. Current value: bagging_fraction=0.9603460438663607\n",
      "[LightGBM] [Warning] lambda_l2 is set=0.3402951454728759, reg_lambda=0.0 will be ignored. Current value: lambda_l2=0.3402951454728759\n",
      "[LightGBM] [Warning] feature_fraction is set=0.4967777159548451, colsample_bytree=0.003918535677687176 will be ignored. Current value: feature_fraction=0.4967777159548451\n",
      "[LightGBM] [Warning] lambda_l1 is set=0.19046198999585096, reg_alpha=0.0 will be ignored. Current value: lambda_l1=0.19046198999585096\n",
      "[LightGBM] [Warning] bagging_fraction is set=0.9603460438663607, subsample=1.0 will be ignored. Current value: bagging_fraction=0.9603460438663607\n",
      "[LightGBM] [Warning] lambda_l2 is set=0.3402951454728759, reg_lambda=0.0 will be ignored. Current value: lambda_l2=0.3402951454728759\n",
      "[LightGBM] [Warning] feature_fraction is set=0.4967777159548451, colsample_bytree=0.003918535677687176 will be ignored. Current value: feature_fraction=0.4967777159548451\n",
      "[LightGBM] [Warning] lambda_l1 is set=0.19046198999585096, reg_alpha=0.0 will be ignored. Current value: lambda_l1=0.19046198999585096\n",
      "[LightGBM] [Warning] bagging_fraction is set=0.9603460438663607, subsample=1.0 will be ignored. Current value: bagging_fraction=0.9603460438663607\n",
      "[LightGBM] [Warning] lambda_l2 is set=0.3402951454728759, reg_lambda=0.0 will be ignored. Current value: lambda_l2=0.3402951454728759\n",
      "[LightGBM] [Warning] feature_fraction is set=0.4967777159548451, colsample_bytree=0.003918535677687176 will be ignored. Current value: feature_fraction=0.4967777159548451\n",
      "[LightGBM] [Warning] lambda_l1 is set=0.19046198999585096, reg_alpha=0.0 will be ignored. Current value: lambda_l1=0.19046198999585096\n",
      "[LightGBM] [Warning] bagging_fraction is set=0.9603460438663607, subsample=1.0 will be ignored. Current value: bagging_fraction=0.9603460438663607\n",
      "[LightGBM] [Warning] lambda_l2 is set=0.3402951454728759, reg_lambda=0.0 will be ignored. Current value: lambda_l2=0.3402951454728759\n",
      "[LightGBM] [Warning] feature_fraction is set=0.4967777159548451, colsample_bytree=0.003918535677687176 will be ignored. Current value: feature_fraction=0.4967777159548451\n",
      "[LightGBM] [Warning] lambda_l1 is set=0.19046198999585096, reg_alpha=0.0 will be ignored. Current value: lambda_l1=0.19046198999585096\n",
      "[LightGBM] [Warning] bagging_fraction is set=0.9603460438663607, subsample=1.0 will be ignored. Current value: bagging_fraction=0.9603460438663607\n",
      "[LightGBM] [Warning] lambda_l2 is set=0.3402951454728759, reg_lambda=0.0 will be ignored. Current value: lambda_l2=0.3402951454728759\n",
      "| \u001b[0m 13      \u001b[0m | \u001b[0m 0.6988  \u001b[0m | \u001b[0m 0.9603  \u001b[0m | \u001b[0m 0.003919\u001b[0m | \u001b[0m 0.4968  \u001b[0m | \u001b[0m 0.1905  \u001b[0m | \u001b[0m 0.3403  \u001b[0m | \u001b[0m 0.02221 \u001b[0m | \u001b[0m 14.29   \u001b[0m | \u001b[0m 31.24   \u001b[0m | \u001b[0m 485.8   \u001b[0m |\n",
      "[LightGBM] [Warning] feature_fraction is set=0.5338399144462886, colsample_bytree=0.11979746843690102 will be ignored. Current value: feature_fraction=0.5338399144462886\n",
      "[LightGBM] [Warning] lambda_l1 is set=0.802787792566256, reg_alpha=0.0 will be ignored. Current value: lambda_l1=0.802787792566256\n",
      "[LightGBM] [Warning] bagging_fraction is set=0.348883959096962, subsample=1.0 will be ignored. Current value: bagging_fraction=0.348883959096962\n",
      "[LightGBM] [Warning] lambda_l2 is set=0.12121469958974644, reg_lambda=0.0 will be ignored. Current value: lambda_l2=0.12121469958974644\n"
     ]
    },
    {
     "name": "stdout",
     "output_type": "stream",
     "text": [
      "[LightGBM] [Warning] feature_fraction is set=0.5338399144462886, colsample_bytree=0.11979746843690102 will be ignored. Current value: feature_fraction=0.5338399144462886\n",
      "[LightGBM] [Warning] lambda_l1 is set=0.802787792566256, reg_alpha=0.0 will be ignored. Current value: lambda_l1=0.802787792566256\n",
      "[LightGBM] [Warning] bagging_fraction is set=0.348883959096962, subsample=1.0 will be ignored. Current value: bagging_fraction=0.348883959096962\n",
      "[LightGBM] [Warning] lambda_l2 is set=0.12121469958974644, reg_lambda=0.0 will be ignored. Current value: lambda_l2=0.12121469958974644\n",
      "[LightGBM] [Warning] feature_fraction is set=0.5338399144462886, colsample_bytree=0.11979746843690102 will be ignored. Current value: feature_fraction=0.5338399144462886\n",
      "[LightGBM] [Warning] lambda_l1 is set=0.802787792566256, reg_alpha=0.0 will be ignored. Current value: lambda_l1=0.802787792566256\n",
      "[LightGBM] [Warning] bagging_fraction is set=0.348883959096962, subsample=1.0 will be ignored. Current value: bagging_fraction=0.348883959096962\n",
      "[LightGBM] [Warning] lambda_l2 is set=0.12121469958974644, reg_lambda=0.0 will be ignored. Current value: lambda_l2=0.12121469958974644\n",
      "[LightGBM] [Warning] feature_fraction is set=0.5338399144462886, colsample_bytree=0.11979746843690102 will be ignored. Current value: feature_fraction=0.5338399144462886\n",
      "[LightGBM] [Warning] lambda_l1 is set=0.802787792566256, reg_alpha=0.0 will be ignored. Current value: lambda_l1=0.802787792566256\n",
      "[LightGBM] [Warning] bagging_fraction is set=0.348883959096962, subsample=1.0 will be ignored. Current value: bagging_fraction=0.348883959096962\n",
      "[LightGBM] [Warning] lambda_l2 is set=0.12121469958974644, reg_lambda=0.0 will be ignored. Current value: lambda_l2=0.12121469958974644\n",
      "[LightGBM] [Warning] feature_fraction is set=0.5338399144462886, colsample_bytree=0.11979746843690102 will be ignored. Current value: feature_fraction=0.5338399144462886\n",
      "[LightGBM] [Warning] lambda_l1 is set=0.802787792566256, reg_alpha=0.0 will be ignored. Current value: lambda_l1=0.802787792566256\n",
      "[LightGBM] [Warning] bagging_fraction is set=0.348883959096962, subsample=1.0 will be ignored. Current value: bagging_fraction=0.348883959096962\n",
      "[LightGBM] [Warning] lambda_l2 is set=0.12121469958974644, reg_lambda=0.0 will be ignored. Current value: lambda_l2=0.12121469958974644\n",
      "| \u001b[0m 14      \u001b[0m | \u001b[0m 0.7002  \u001b[0m | \u001b[0m 0.3489  \u001b[0m | \u001b[0m 0.1198  \u001b[0m | \u001b[0m 0.5338  \u001b[0m | \u001b[0m 0.8028  \u001b[0m | \u001b[0m 0.1212  \u001b[0m | \u001b[0m 0.0318  \u001b[0m | \u001b[0m 3.799   \u001b[0m | \u001b[0m 76.15   \u001b[0m | \u001b[0m 342.0   \u001b[0m |\n",
      "[LightGBM] [Warning] feature_fraction is set=0.09627395855498935, colsample_bytree=0.05986780614660352 will be ignored. Current value: feature_fraction=0.09627395855498935\n",
      "[LightGBM] [Warning] lambda_l1 is set=0.7705351643048974, reg_alpha=0.0 will be ignored. Current value: lambda_l1=0.7705351643048974\n",
      "[LightGBM] [Warning] bagging_fraction is set=0.9484839948370289, subsample=1.0 will be ignored. Current value: bagging_fraction=0.9484839948370289\n",
      "[LightGBM] [Warning] lambda_l2 is set=0.2728801420117553, reg_lambda=0.0 will be ignored. Current value: lambda_l2=0.2728801420117553\n",
      "[LightGBM] [Warning] feature_fraction is set=0.09627395855498935, colsample_bytree=0.05986780614660352 will be ignored. Current value: feature_fraction=0.09627395855498935\n",
      "[LightGBM] [Warning] lambda_l1 is set=0.7705351643048974, reg_alpha=0.0 will be ignored. Current value: lambda_l1=0.7705351643048974\n",
      "[LightGBM] [Warning] bagging_fraction is set=0.9484839948370289, subsample=1.0 will be ignored. Current value: bagging_fraction=0.9484839948370289\n",
      "[LightGBM] [Warning] lambda_l2 is set=0.2728801420117553, reg_lambda=0.0 will be ignored. Current value: lambda_l2=0.2728801420117553\n",
      "[LightGBM] [Warning] feature_fraction is set=0.09627395855498935, colsample_bytree=0.05986780614660352 will be ignored. Current value: feature_fraction=0.09627395855498935\n",
      "[LightGBM] [Warning] lambda_l1 is set=0.7705351643048974, reg_alpha=0.0 will be ignored. Current value: lambda_l1=0.7705351643048974\n",
      "[LightGBM] [Warning] bagging_fraction is set=0.9484839948370289, subsample=1.0 will be ignored. Current value: bagging_fraction=0.9484839948370289\n",
      "[LightGBM] [Warning] lambda_l2 is set=0.2728801420117553, reg_lambda=0.0 will be ignored. Current value: lambda_l2=0.2728801420117553\n",
      "[LightGBM] [Warning] feature_fraction is set=0.09627395855498935, colsample_bytree=0.05986780614660352 will be ignored. Current value: feature_fraction=0.09627395855498935\n",
      "[LightGBM] [Warning] lambda_l1 is set=0.7705351643048974, reg_alpha=0.0 will be ignored. Current value: lambda_l1=0.7705351643048974\n",
      "[LightGBM] [Warning] bagging_fraction is set=0.9484839948370289, subsample=1.0 will be ignored. Current value: bagging_fraction=0.9484839948370289\n",
      "[LightGBM] [Warning] lambda_l2 is set=0.2728801420117553, reg_lambda=0.0 will be ignored. Current value: lambda_l2=0.2728801420117553\n",
      "[LightGBM] [Warning] feature_fraction is set=0.09627395855498935, colsample_bytree=0.05986780614660352 will be ignored. Current value: feature_fraction=0.09627395855498935\n",
      "[LightGBM] [Warning] lambda_l1 is set=0.7705351643048974, reg_alpha=0.0 will be ignored. Current value: lambda_l1=0.7705351643048974\n",
      "[LightGBM] [Warning] bagging_fraction is set=0.9484839948370289, subsample=1.0 will be ignored. Current value: bagging_fraction=0.9484839948370289\n",
      "[LightGBM] [Warning] lambda_l2 is set=0.2728801420117553, reg_lambda=0.0 will be ignored. Current value: lambda_l2=0.2728801420117553\n",
      "| \u001b[0m 15      \u001b[0m | \u001b[0m 0.6935  \u001b[0m | \u001b[0m 0.9485  \u001b[0m | \u001b[0m 0.05987 \u001b[0m | \u001b[0m 0.09627 \u001b[0m | \u001b[0m 0.7705  \u001b[0m | \u001b[0m 0.2729  \u001b[0m | \u001b[0m 0.04143 \u001b[0m | \u001b[0m 5.853   \u001b[0m | \u001b[0m 78.17   \u001b[0m | \u001b[0m 343.2   \u001b[0m |\n",
      "[LightGBM] [Warning] feature_fraction is set=0.1946206414070703, colsample_bytree=0.4092650550454141 will be ignored. Current value: feature_fraction=0.1946206414070703\n",
      "[LightGBM] [Warning] lambda_l1 is set=0.47825552424708073, reg_alpha=0.0 will be ignored. Current value: lambda_l1=0.47825552424708073\n",
      "[LightGBM] [Warning] bagging_fraction is set=0.2709877800549978, subsample=1.0 will be ignored. Current value: bagging_fraction=0.2709877800549978\n",
      "[LightGBM] [Warning] lambda_l2 is set=0.976451084152749, reg_lambda=0.0 will be ignored. Current value: lambda_l2=0.976451084152749\n",
      "[LightGBM] [Warning] feature_fraction is set=0.1946206414070703, colsample_bytree=0.4092650550454141 will be ignored. Current value: feature_fraction=0.1946206414070703\n",
      "[LightGBM] [Warning] lambda_l1 is set=0.47825552424708073, reg_alpha=0.0 will be ignored. Current value: lambda_l1=0.47825552424708073\n",
      "[LightGBM] [Warning] bagging_fraction is set=0.2709877800549978, subsample=1.0 will be ignored. Current value: bagging_fraction=0.2709877800549978\n",
      "[LightGBM] [Warning] lambda_l2 is set=0.976451084152749, reg_lambda=0.0 will be ignored. Current value: lambda_l2=0.976451084152749\n",
      "[LightGBM] [Warning] feature_fraction is set=0.1946206414070703, colsample_bytree=0.4092650550454141 will be ignored. Current value: feature_fraction=0.1946206414070703\n",
      "[LightGBM] [Warning] lambda_l1 is set=0.47825552424708073, reg_alpha=0.0 will be ignored. Current value: lambda_l1=0.47825552424708073\n",
      "[LightGBM] [Warning] bagging_fraction is set=0.2709877800549978, subsample=1.0 will be ignored. Current value: bagging_fraction=0.2709877800549978\n",
      "[LightGBM] [Warning] lambda_l2 is set=0.976451084152749, reg_lambda=0.0 will be ignored. Current value: lambda_l2=0.976451084152749\n",
      "[LightGBM] [Warning] feature_fraction is set=0.1946206414070703, colsample_bytree=0.4092650550454141 will be ignored. Current value: feature_fraction=0.1946206414070703\n",
      "[LightGBM] [Warning] lambda_l1 is set=0.47825552424708073, reg_alpha=0.0 will be ignored. Current value: lambda_l1=0.47825552424708073\n",
      "[LightGBM] [Warning] bagging_fraction is set=0.2709877800549978, subsample=1.0 will be ignored. Current value: bagging_fraction=0.2709877800549978\n",
      "[LightGBM] [Warning] lambda_l2 is set=0.976451084152749, reg_lambda=0.0 will be ignored. Current value: lambda_l2=0.976451084152749\n",
      "[LightGBM] [Warning] feature_fraction is set=0.1946206414070703, colsample_bytree=0.4092650550454141 will be ignored. Current value: feature_fraction=0.1946206414070703\n",
      "[LightGBM] [Warning] lambda_l1 is set=0.47825552424708073, reg_alpha=0.0 will be ignored. Current value: lambda_l1=0.47825552424708073\n",
      "[LightGBM] [Warning] bagging_fraction is set=0.2709877800549978, subsample=1.0 will be ignored. Current value: bagging_fraction=0.2709877800549978\n",
      "[LightGBM] [Warning] lambda_l2 is set=0.976451084152749, reg_lambda=0.0 will be ignored. Current value: lambda_l2=0.976451084152749\n"
     ]
    },
    {
     "name": "stdout",
     "output_type": "stream",
     "text": [
      "| \u001b[0m 16      \u001b[0m | \u001b[0m 0.6975  \u001b[0m | \u001b[0m 0.271   \u001b[0m | \u001b[0m 0.4093  \u001b[0m | \u001b[0m 0.1946  \u001b[0m | \u001b[0m 0.4783  \u001b[0m | \u001b[0m 0.9765  \u001b[0m | \u001b[0m 0.04099 \u001b[0m | \u001b[0m 3.636   \u001b[0m | \u001b[0m 69.5    \u001b[0m | \u001b[0m 382.8   \u001b[0m |\n",
      "[LightGBM] [Warning] feature_fraction is set=0.0901807149626101, colsample_bytree=0.46891705918756127 will be ignored. Current value: feature_fraction=0.0901807149626101\n",
      "[LightGBM] [Warning] lambda_l1 is set=0.3915820381091388, reg_alpha=0.0 will be ignored. Current value: lambda_l1=0.3915820381091388\n",
      "[LightGBM] [Warning] bagging_fraction is set=0.5427772787516808, subsample=1.0 will be ignored. Current value: bagging_fraction=0.5427772787516808\n",
      "[LightGBM] [Warning] lambda_l2 is set=0.2590691395804291, reg_lambda=0.0 will be ignored. Current value: lambda_l2=0.2590691395804291\n",
      "[LightGBM] [Warning] feature_fraction is set=0.0901807149626101, colsample_bytree=0.46891705918756127 will be ignored. Current value: feature_fraction=0.0901807149626101\n",
      "[LightGBM] [Warning] lambda_l1 is set=0.3915820381091388, reg_alpha=0.0 will be ignored. Current value: lambda_l1=0.3915820381091388\n",
      "[LightGBM] [Warning] bagging_fraction is set=0.5427772787516808, subsample=1.0 will be ignored. Current value: bagging_fraction=0.5427772787516808\n",
      "[LightGBM] [Warning] lambda_l2 is set=0.2590691395804291, reg_lambda=0.0 will be ignored. Current value: lambda_l2=0.2590691395804291\n",
      "[LightGBM] [Warning] feature_fraction is set=0.0901807149626101, colsample_bytree=0.46891705918756127 will be ignored. Current value: feature_fraction=0.0901807149626101\n",
      "[LightGBM] [Warning] lambda_l1 is set=0.3915820381091388, reg_alpha=0.0 will be ignored. Current value: lambda_l1=0.3915820381091388\n",
      "[LightGBM] [Warning] bagging_fraction is set=0.5427772787516808, subsample=1.0 will be ignored. Current value: bagging_fraction=0.5427772787516808\n",
      "[LightGBM] [Warning] lambda_l2 is set=0.2590691395804291, reg_lambda=0.0 will be ignored. Current value: lambda_l2=0.2590691395804291\n",
      "[LightGBM] [Warning] feature_fraction is set=0.0901807149626101, colsample_bytree=0.46891705918756127 will be ignored. Current value: feature_fraction=0.0901807149626101\n",
      "[LightGBM] [Warning] lambda_l1 is set=0.3915820381091388, reg_alpha=0.0 will be ignored. Current value: lambda_l1=0.3915820381091388\n",
      "[LightGBM] [Warning] bagging_fraction is set=0.5427772787516808, subsample=1.0 will be ignored. Current value: bagging_fraction=0.5427772787516808\n",
      "[LightGBM] [Warning] lambda_l2 is set=0.2590691395804291, reg_lambda=0.0 will be ignored. Current value: lambda_l2=0.2590691395804291\n",
      "[LightGBM] [Warning] feature_fraction is set=0.0901807149626101, colsample_bytree=0.46891705918756127 will be ignored. Current value: feature_fraction=0.0901807149626101\n",
      "[LightGBM] [Warning] lambda_l1 is set=0.3915820381091388, reg_alpha=0.0 will be ignored. Current value: lambda_l1=0.3915820381091388\n",
      "[LightGBM] [Warning] bagging_fraction is set=0.5427772787516808, subsample=1.0 will be ignored. Current value: bagging_fraction=0.5427772787516808\n",
      "[LightGBM] [Warning] lambda_l2 is set=0.2590691395804291, reg_lambda=0.0 will be ignored. Current value: lambda_l2=0.2590691395804291\n",
      "| \u001b[0m 17      \u001b[0m | \u001b[0m 0.6805  \u001b[0m | \u001b[0m 0.5428  \u001b[0m | \u001b[0m 0.4689  \u001b[0m | \u001b[0m 0.09018 \u001b[0m | \u001b[0m 0.3916  \u001b[0m | \u001b[0m 0.2591  \u001b[0m | \u001b[0m 0.01502 \u001b[0m | \u001b[0m 4.099   \u001b[0m | \u001b[0m 67.52   \u001b[0m | \u001b[0m 379.6   \u001b[0m |\n",
      "[LightGBM] [Warning] feature_fraction is set=0.8312346799990793, colsample_bytree=0.49720702148944956 will be ignored. Current value: feature_fraction=0.8312346799990793\n",
      "[LightGBM] [Warning] lambda_l1 is set=0.426314101885319, reg_alpha=0.0 will be ignored. Current value: lambda_l1=0.426314101885319\n",
      "[LightGBM] [Warning] bagging_fraction is set=0.4144103991865902, subsample=1.0 will be ignored. Current value: bagging_fraction=0.4144103991865902\n",
      "[LightGBM] [Warning] lambda_l2 is set=0.8496792406370544, reg_lambda=0.0 will be ignored. Current value: lambda_l2=0.8496792406370544\n",
      "[LightGBM] [Warning] feature_fraction is set=0.8312346799990793, colsample_bytree=0.49720702148944956 will be ignored. Current value: feature_fraction=0.8312346799990793\n",
      "[LightGBM] [Warning] lambda_l1 is set=0.426314101885319, reg_alpha=0.0 will be ignored. Current value: lambda_l1=0.426314101885319\n",
      "[LightGBM] [Warning] bagging_fraction is set=0.4144103991865902, subsample=1.0 will be ignored. Current value: bagging_fraction=0.4144103991865902\n",
      "[LightGBM] [Warning] lambda_l2 is set=0.8496792406370544, reg_lambda=0.0 will be ignored. Current value: lambda_l2=0.8496792406370544\n",
      "[LightGBM] [Warning] feature_fraction is set=0.8312346799990793, colsample_bytree=0.49720702148944956 will be ignored. Current value: feature_fraction=0.8312346799990793\n",
      "[LightGBM] [Warning] lambda_l1 is set=0.426314101885319, reg_alpha=0.0 will be ignored. Current value: lambda_l1=0.426314101885319\n",
      "[LightGBM] [Warning] bagging_fraction is set=0.4144103991865902, subsample=1.0 will be ignored. Current value: bagging_fraction=0.4144103991865902\n",
      "[LightGBM] [Warning] lambda_l2 is set=0.8496792406370544, reg_lambda=0.0 will be ignored. Current value: lambda_l2=0.8496792406370544\n",
      "[LightGBM] [Warning] feature_fraction is set=0.8312346799990793, colsample_bytree=0.49720702148944956 will be ignored. Current value: feature_fraction=0.8312346799990793\n",
      "[LightGBM] [Warning] lambda_l1 is set=0.426314101885319, reg_alpha=0.0 will be ignored. Current value: lambda_l1=0.426314101885319\n",
      "[LightGBM] [Warning] bagging_fraction is set=0.4144103991865902, subsample=1.0 will be ignored. Current value: bagging_fraction=0.4144103991865902\n",
      "[LightGBM] [Warning] lambda_l2 is set=0.8496792406370544, reg_lambda=0.0 will be ignored. Current value: lambda_l2=0.8496792406370544\n",
      "[LightGBM] [Warning] feature_fraction is set=0.8312346799990793, colsample_bytree=0.49720702148944956 will be ignored. Current value: feature_fraction=0.8312346799990793\n",
      "[LightGBM] [Warning] lambda_l1 is set=0.426314101885319, reg_alpha=0.0 will be ignored. Current value: lambda_l1=0.426314101885319\n",
      "[LightGBM] [Warning] bagging_fraction is set=0.4144103991865902, subsample=1.0 will be ignored. Current value: bagging_fraction=0.4144103991865902\n",
      "[LightGBM] [Warning] lambda_l2 is set=0.8496792406370544, reg_lambda=0.0 will be ignored. Current value: lambda_l2=0.8496792406370544\n",
      "| \u001b[0m 18      \u001b[0m | \u001b[0m 0.6943  \u001b[0m | \u001b[0m 0.4144  \u001b[0m | \u001b[0m 0.4972  \u001b[0m | \u001b[0m 0.8312  \u001b[0m | \u001b[0m 0.4263  \u001b[0m | \u001b[0m 0.8497  \u001b[0m | \u001b[0m 0.0381  \u001b[0m | \u001b[0m 14.81   \u001b[0m | \u001b[0m 30.02   \u001b[0m | \u001b[0m 485.2   \u001b[0m |\n",
      "[LightGBM] [Warning] feature_fraction is set=0.29933790556404877, colsample_bytree=0.5531995204544158 will be ignored. Current value: feature_fraction=0.29933790556404877\n",
      "[LightGBM] [Warning] lambda_l1 is set=0.22148697888338503, reg_alpha=0.0 will be ignored. Current value: lambda_l1=0.22148697888338503\n",
      "[LightGBM] [Warning] bagging_fraction is set=0.7125400661482831, subsample=1.0 will be ignored. Current value: bagging_fraction=0.7125400661482831\n",
      "[LightGBM] [Warning] lambda_l2 is set=0.8070584121440854, reg_lambda=0.0 will be ignored. Current value: lambda_l2=0.8070584121440854\n",
      "[LightGBM] [Warning] feature_fraction is set=0.29933790556404877, colsample_bytree=0.5531995204544158 will be ignored. Current value: feature_fraction=0.29933790556404877\n",
      "[LightGBM] [Warning] lambda_l1 is set=0.22148697888338503, reg_alpha=0.0 will be ignored. Current value: lambda_l1=0.22148697888338503\n",
      "[LightGBM] [Warning] bagging_fraction is set=0.7125400661482831, subsample=1.0 will be ignored. Current value: bagging_fraction=0.7125400661482831\n",
      "[LightGBM] [Warning] lambda_l2 is set=0.8070584121440854, reg_lambda=0.0 will be ignored. Current value: lambda_l2=0.8070584121440854\n",
      "[LightGBM] [Warning] feature_fraction is set=0.29933790556404877, colsample_bytree=0.5531995204544158 will be ignored. Current value: feature_fraction=0.29933790556404877\n",
      "[LightGBM] [Warning] lambda_l1 is set=0.22148697888338503, reg_alpha=0.0 will be ignored. Current value: lambda_l1=0.22148697888338503\n",
      "[LightGBM] [Warning] bagging_fraction is set=0.7125400661482831, subsample=1.0 will be ignored. Current value: bagging_fraction=0.7125400661482831\n",
      "[LightGBM] [Warning] lambda_l2 is set=0.8070584121440854, reg_lambda=0.0 will be ignored. Current value: lambda_l2=0.8070584121440854\n"
     ]
    },
    {
     "name": "stdout",
     "output_type": "stream",
     "text": [
      "[LightGBM] [Warning] feature_fraction is set=0.29933790556404877, colsample_bytree=0.5531995204544158 will be ignored. Current value: feature_fraction=0.29933790556404877\n",
      "[LightGBM] [Warning] lambda_l1 is set=0.22148697888338503, reg_alpha=0.0 will be ignored. Current value: lambda_l1=0.22148697888338503\n",
      "[LightGBM] [Warning] bagging_fraction is set=0.7125400661482831, subsample=1.0 will be ignored. Current value: bagging_fraction=0.7125400661482831\n",
      "[LightGBM] [Warning] lambda_l2 is set=0.8070584121440854, reg_lambda=0.0 will be ignored. Current value: lambda_l2=0.8070584121440854\n",
      "[LightGBM] [Warning] feature_fraction is set=0.29933790556404877, colsample_bytree=0.5531995204544158 will be ignored. Current value: feature_fraction=0.29933790556404877\n",
      "[LightGBM] [Warning] lambda_l1 is set=0.22148697888338503, reg_alpha=0.0 will be ignored. Current value: lambda_l1=0.22148697888338503\n",
      "[LightGBM] [Warning] bagging_fraction is set=0.7125400661482831, subsample=1.0 will be ignored. Current value: bagging_fraction=0.7125400661482831\n",
      "[LightGBM] [Warning] lambda_l2 is set=0.8070584121440854, reg_lambda=0.0 will be ignored. Current value: lambda_l2=0.8070584121440854\n",
      "| \u001b[0m 19      \u001b[0m | \u001b[0m 0.6927  \u001b[0m | \u001b[0m 0.7125  \u001b[0m | \u001b[0m 0.5532  \u001b[0m | \u001b[0m 0.2993  \u001b[0m | \u001b[0m 0.2215  \u001b[0m | \u001b[0m 0.8071  \u001b[0m | \u001b[0m 0.04678 \u001b[0m | \u001b[0m 15.96   \u001b[0m | \u001b[0m 30.66   \u001b[0m | \u001b[0m 486.6   \u001b[0m |\n",
      "[LightGBM] [Warning] feature_fraction is set=0.5971071060333382, colsample_bytree=0.4203109049230959 will be ignored. Current value: feature_fraction=0.5971071060333382\n",
      "[LightGBM] [Warning] lambda_l1 is set=0.8536763026967694, reg_alpha=0.0 will be ignored. Current value: lambda_l1=0.8536763026967694\n",
      "[LightGBM] [Warning] bagging_fraction is set=0.012819585182135383, subsample=1.0 will be ignored. Current value: bagging_fraction=0.012819585182135383\n",
      "[LightGBM] [Warning] lambda_l2 is set=0.6519084768719834, reg_lambda=0.0 will be ignored. Current value: lambda_l2=0.6519084768719834\n",
      "[LightGBM] [Warning] feature_fraction is set=0.5971071060333382, colsample_bytree=0.4203109049230959 will be ignored. Current value: feature_fraction=0.5971071060333382\n",
      "[LightGBM] [Warning] lambda_l1 is set=0.8536763026967694, reg_alpha=0.0 will be ignored. Current value: lambda_l1=0.8536763026967694\n",
      "[LightGBM] [Warning] bagging_fraction is set=0.012819585182135383, subsample=1.0 will be ignored. Current value: bagging_fraction=0.012819585182135383\n",
      "[LightGBM] [Warning] lambda_l2 is set=0.6519084768719834, reg_lambda=0.0 will be ignored. Current value: lambda_l2=0.6519084768719834\n",
      "[LightGBM] [Warning] feature_fraction is set=0.5971071060333382, colsample_bytree=0.4203109049230959 will be ignored. Current value: feature_fraction=0.5971071060333382\n",
      "[LightGBM] [Warning] lambda_l1 is set=0.8536763026967694, reg_alpha=0.0 will be ignored. Current value: lambda_l1=0.8536763026967694\n",
      "[LightGBM] [Warning] bagging_fraction is set=0.012819585182135383, subsample=1.0 will be ignored. Current value: bagging_fraction=0.012819585182135383\n",
      "[LightGBM] [Warning] lambda_l2 is set=0.6519084768719834, reg_lambda=0.0 will be ignored. Current value: lambda_l2=0.6519084768719834\n",
      "[LightGBM] [Warning] feature_fraction is set=0.5971071060333382, colsample_bytree=0.4203109049230959 will be ignored. Current value: feature_fraction=0.5971071060333382\n",
      "[LightGBM] [Warning] lambda_l1 is set=0.8536763026967694, reg_alpha=0.0 will be ignored. Current value: lambda_l1=0.8536763026967694\n",
      "[LightGBM] [Warning] bagging_fraction is set=0.012819585182135383, subsample=1.0 will be ignored. Current value: bagging_fraction=0.012819585182135383\n",
      "[LightGBM] [Warning] lambda_l2 is set=0.6519084768719834, reg_lambda=0.0 will be ignored. Current value: lambda_l2=0.6519084768719834\n",
      "[LightGBM] [Warning] feature_fraction is set=0.5971071060333382, colsample_bytree=0.4203109049230959 will be ignored. Current value: feature_fraction=0.5971071060333382\n",
      "[LightGBM] [Warning] lambda_l1 is set=0.8536763026967694, reg_alpha=0.0 will be ignored. Current value: lambda_l1=0.8536763026967694\n",
      "[LightGBM] [Warning] bagging_fraction is set=0.012819585182135383, subsample=1.0 will be ignored. Current value: bagging_fraction=0.012819585182135383\n",
      "[LightGBM] [Warning] lambda_l2 is set=0.6519084768719834, reg_lambda=0.0 will be ignored. Current value: lambda_l2=0.6519084768719834\n",
      "| \u001b[0m 20      \u001b[0m | \u001b[0m 0.698   \u001b[0m | \u001b[0m 0.01282 \u001b[0m | \u001b[0m 0.4203  \u001b[0m | \u001b[0m 0.5971  \u001b[0m | \u001b[0m 0.8537  \u001b[0m | \u001b[0m 0.6519  \u001b[0m | \u001b[0m 0.04775 \u001b[0m | \u001b[0m 3.179   \u001b[0m | \u001b[0m 74.44   \u001b[0m | \u001b[0m 343.1   \u001b[0m |\n",
      "[LightGBM] [Warning] feature_fraction is set=0.6678068127964648, colsample_bytree=0.7124334774207335 will be ignored. Current value: feature_fraction=0.6678068127964648\n",
      "[LightGBM] [Warning] lambda_l1 is set=0.10929445559081716, reg_alpha=0.0 will be ignored. Current value: lambda_l1=0.10929445559081716\n",
      "[LightGBM] [Warning] bagging_fraction is set=0.5648293585224602, subsample=1.0 will be ignored. Current value: bagging_fraction=0.5648293585224602\n",
      "[LightGBM] [Warning] lambda_l2 is set=0.22533792123309526, reg_lambda=0.0 will be ignored. Current value: lambda_l2=0.22533792123309526\n",
      "[LightGBM] [Warning] feature_fraction is set=0.6678068127964648, colsample_bytree=0.7124334774207335 will be ignored. Current value: feature_fraction=0.6678068127964648\n",
      "[LightGBM] [Warning] lambda_l1 is set=0.10929445559081716, reg_alpha=0.0 will be ignored. Current value: lambda_l1=0.10929445559081716\n",
      "[LightGBM] [Warning] bagging_fraction is set=0.5648293585224602, subsample=1.0 will be ignored. Current value: bagging_fraction=0.5648293585224602\n",
      "[LightGBM] [Warning] lambda_l2 is set=0.22533792123309526, reg_lambda=0.0 will be ignored. Current value: lambda_l2=0.22533792123309526\n",
      "[LightGBM] [Warning] feature_fraction is set=0.6678068127964648, colsample_bytree=0.7124334774207335 will be ignored. Current value: feature_fraction=0.6678068127964648\n",
      "[LightGBM] [Warning] lambda_l1 is set=0.10929445559081716, reg_alpha=0.0 will be ignored. Current value: lambda_l1=0.10929445559081716\n",
      "[LightGBM] [Warning] bagging_fraction is set=0.5648293585224602, subsample=1.0 will be ignored. Current value: bagging_fraction=0.5648293585224602\n",
      "[LightGBM] [Warning] lambda_l2 is set=0.22533792123309526, reg_lambda=0.0 will be ignored. Current value: lambda_l2=0.22533792123309526\n",
      "[LightGBM] [Warning] feature_fraction is set=0.6678068127964648, colsample_bytree=0.7124334774207335 will be ignored. Current value: feature_fraction=0.6678068127964648\n",
      "[LightGBM] [Warning] lambda_l1 is set=0.10929445559081716, reg_alpha=0.0 will be ignored. Current value: lambda_l1=0.10929445559081716\n",
      "[LightGBM] [Warning] bagging_fraction is set=0.5648293585224602, subsample=1.0 will be ignored. Current value: bagging_fraction=0.5648293585224602\n",
      "[LightGBM] [Warning] lambda_l2 is set=0.22533792123309526, reg_lambda=0.0 will be ignored. Current value: lambda_l2=0.22533792123309526\n",
      "[LightGBM] [Warning] feature_fraction is set=0.6678068127964648, colsample_bytree=0.7124334774207335 will be ignored. Current value: feature_fraction=0.6678068127964648\n",
      "[LightGBM] [Warning] lambda_l1 is set=0.10929445559081716, reg_alpha=0.0 will be ignored. Current value: lambda_l1=0.10929445559081716\n",
      "[LightGBM] [Warning] bagging_fraction is set=0.5648293585224602, subsample=1.0 will be ignored. Current value: bagging_fraction=0.5648293585224602\n",
      "[LightGBM] [Warning] lambda_l2 is set=0.22533792123309526, reg_lambda=0.0 will be ignored. Current value: lambda_l2=0.22533792123309526\n",
      "| \u001b[0m 21      \u001b[0m | \u001b[0m 0.7005  \u001b[0m | \u001b[0m 0.5648  \u001b[0m | \u001b[0m 0.7124  \u001b[0m | \u001b[0m 0.6678  \u001b[0m | \u001b[0m 0.1093  \u001b[0m | \u001b[0m 0.2253  \u001b[0m | \u001b[0m 0.0193  \u001b[0m | \u001b[0m 4.662   \u001b[0m | \u001b[0m 74.88   \u001b[0m | \u001b[0m 342.3   \u001b[0m |\n",
      "[LightGBM] [Warning] feature_fraction is set=0.37345057225674233, colsample_bytree=0.6317921943895547 will be ignored. Current value: feature_fraction=0.37345057225674233\n",
      "[LightGBM] [Warning] lambda_l1 is set=0.17138404289737613, reg_alpha=0.0 will be ignored. Current value: lambda_l1=0.17138404289737613\n",
      "[LightGBM] [Warning] bagging_fraction is set=0.6306336980801844, subsample=1.0 will be ignored. Current value: bagging_fraction=0.6306336980801844\n",
      "[LightGBM] [Warning] lambda_l2 is set=0.9029098771945161, reg_lambda=0.0 will be ignored. Current value: lambda_l2=0.9029098771945161\n"
     ]
    },
    {
     "name": "stdout",
     "output_type": "stream",
     "text": [
      "[LightGBM] [Warning] feature_fraction is set=0.37345057225674233, colsample_bytree=0.6317921943895547 will be ignored. Current value: feature_fraction=0.37345057225674233\n",
      "[LightGBM] [Warning] lambda_l1 is set=0.17138404289737613, reg_alpha=0.0 will be ignored. Current value: lambda_l1=0.17138404289737613\n",
      "[LightGBM] [Warning] bagging_fraction is set=0.6306336980801844, subsample=1.0 will be ignored. Current value: bagging_fraction=0.6306336980801844\n",
      "[LightGBM] [Warning] lambda_l2 is set=0.9029098771945161, reg_lambda=0.0 will be ignored. Current value: lambda_l2=0.9029098771945161\n",
      "[LightGBM] [Warning] feature_fraction is set=0.37345057225674233, colsample_bytree=0.6317921943895547 will be ignored. Current value: feature_fraction=0.37345057225674233\n",
      "[LightGBM] [Warning] lambda_l1 is set=0.17138404289737613, reg_alpha=0.0 will be ignored. Current value: lambda_l1=0.17138404289737613\n",
      "[LightGBM] [Warning] bagging_fraction is set=0.6306336980801844, subsample=1.0 will be ignored. Current value: bagging_fraction=0.6306336980801844\n",
      "[LightGBM] [Warning] lambda_l2 is set=0.9029098771945161, reg_lambda=0.0 will be ignored. Current value: lambda_l2=0.9029098771945161\n",
      "[LightGBM] [Warning] feature_fraction is set=0.37345057225674233, colsample_bytree=0.6317921943895547 will be ignored. Current value: feature_fraction=0.37345057225674233\n",
      "[LightGBM] [Warning] lambda_l1 is set=0.17138404289737613, reg_alpha=0.0 will be ignored. Current value: lambda_l1=0.17138404289737613\n",
      "[LightGBM] [Warning] bagging_fraction is set=0.6306336980801844, subsample=1.0 will be ignored. Current value: bagging_fraction=0.6306336980801844\n",
      "[LightGBM] [Warning] lambda_l2 is set=0.9029098771945161, reg_lambda=0.0 will be ignored. Current value: lambda_l2=0.9029098771945161\n",
      "[LightGBM] [Warning] feature_fraction is set=0.37345057225674233, colsample_bytree=0.6317921943895547 will be ignored. Current value: feature_fraction=0.37345057225674233\n",
      "[LightGBM] [Warning] lambda_l1 is set=0.17138404289737613, reg_alpha=0.0 will be ignored. Current value: lambda_l1=0.17138404289737613\n",
      "[LightGBM] [Warning] bagging_fraction is set=0.6306336980801844, subsample=1.0 will be ignored. Current value: bagging_fraction=0.6306336980801844\n",
      "[LightGBM] [Warning] lambda_l2 is set=0.9029098771945161, reg_lambda=0.0 will be ignored. Current value: lambda_l2=0.9029098771945161\n",
      "| \u001b[0m 22      \u001b[0m | \u001b[0m 0.6984  \u001b[0m | \u001b[0m 0.6306  \u001b[0m | \u001b[0m 0.6318  \u001b[0m | \u001b[0m 0.3735  \u001b[0m | \u001b[0m 0.1714  \u001b[0m | \u001b[0m 0.9029  \u001b[0m | \u001b[0m 0.02413 \u001b[0m | \u001b[0m 17.83   \u001b[0m | \u001b[0m 35.54   \u001b[0m | \u001b[0m 498.3   \u001b[0m |\n",
      "[LightGBM] [Warning] feature_fraction is set=0.9395382262705121, colsample_bytree=0.7958506063901872 will be ignored. Current value: feature_fraction=0.9395382262705121\n",
      "[LightGBM] [Warning] lambda_l1 is set=0.6186299880366198, reg_alpha=0.0 will be ignored. Current value: lambda_l1=0.6186299880366198\n",
      "[LightGBM] [Warning] bagging_fraction is set=0.30107759685648744, subsample=1.0 will be ignored. Current value: bagging_fraction=0.30107759685648744\n",
      "[LightGBM] [Warning] lambda_l2 is set=0.7931805098686161, reg_lambda=0.0 will be ignored. Current value: lambda_l2=0.7931805098686161\n",
      "[LightGBM] [Warning] feature_fraction is set=0.9395382262705121, colsample_bytree=0.7958506063901872 will be ignored. Current value: feature_fraction=0.9395382262705121\n",
      "[LightGBM] [Warning] lambda_l1 is set=0.6186299880366198, reg_alpha=0.0 will be ignored. Current value: lambda_l1=0.6186299880366198\n",
      "[LightGBM] [Warning] bagging_fraction is set=0.30107759685648744, subsample=1.0 will be ignored. Current value: bagging_fraction=0.30107759685648744\n",
      "[LightGBM] [Warning] lambda_l2 is set=0.7931805098686161, reg_lambda=0.0 will be ignored. Current value: lambda_l2=0.7931805098686161\n",
      "[LightGBM] [Warning] feature_fraction is set=0.9395382262705121, colsample_bytree=0.7958506063901872 will be ignored. Current value: feature_fraction=0.9395382262705121\n",
      "[LightGBM] [Warning] lambda_l1 is set=0.6186299880366198, reg_alpha=0.0 will be ignored. Current value: lambda_l1=0.6186299880366198\n",
      "[LightGBM] [Warning] bagging_fraction is set=0.30107759685648744, subsample=1.0 will be ignored. Current value: bagging_fraction=0.30107759685648744\n",
      "[LightGBM] [Warning] lambda_l2 is set=0.7931805098686161, reg_lambda=0.0 will be ignored. Current value: lambda_l2=0.7931805098686161\n",
      "[LightGBM] [Warning] feature_fraction is set=0.9395382262705121, colsample_bytree=0.7958506063901872 will be ignored. Current value: feature_fraction=0.9395382262705121\n",
      "[LightGBM] [Warning] lambda_l1 is set=0.6186299880366198, reg_alpha=0.0 will be ignored. Current value: lambda_l1=0.6186299880366198\n",
      "[LightGBM] [Warning] bagging_fraction is set=0.30107759685648744, subsample=1.0 will be ignored. Current value: bagging_fraction=0.30107759685648744\n",
      "[LightGBM] [Warning] lambda_l2 is set=0.7931805098686161, reg_lambda=0.0 will be ignored. Current value: lambda_l2=0.7931805098686161\n",
      "[LightGBM] [Warning] feature_fraction is set=0.9395382262705121, colsample_bytree=0.7958506063901872 will be ignored. Current value: feature_fraction=0.9395382262705121\n",
      "[LightGBM] [Warning] lambda_l1 is set=0.6186299880366198, reg_alpha=0.0 will be ignored. Current value: lambda_l1=0.6186299880366198\n",
      "[LightGBM] [Warning] bagging_fraction is set=0.30107759685648744, subsample=1.0 will be ignored. Current value: bagging_fraction=0.30107759685648744\n",
      "[LightGBM] [Warning] lambda_l2 is set=0.7931805098686161, reg_lambda=0.0 will be ignored. Current value: lambda_l2=0.7931805098686161\n",
      "| \u001b[95m 23      \u001b[0m | \u001b[95m 0.7045  \u001b[0m | \u001b[95m 0.3011  \u001b[0m | \u001b[95m 0.7959  \u001b[0m | \u001b[95m 0.9395  \u001b[0m | \u001b[95m 0.6186  \u001b[0m | \u001b[95m 0.7932  \u001b[0m | \u001b[95m 0.01015 \u001b[0m | \u001b[95m 4.639   \u001b[0m | \u001b[95m 75.87   \u001b[0m | \u001b[95m 344.2   \u001b[0m |\n",
      "[LightGBM] [Warning] feature_fraction is set=0.6589764706610366, colsample_bytree=0.2624109195053836 will be ignored. Current value: feature_fraction=0.6589764706610366\n",
      "[LightGBM] [Warning] lambda_l1 is set=0.10018208097576237, reg_alpha=0.0 will be ignored. Current value: lambda_l1=0.10018208097576237\n",
      "[LightGBM] [Warning] bagging_fraction is set=0.6382984997340249, subsample=1.0 will be ignored. Current value: bagging_fraction=0.6382984997340249\n",
      "[LightGBM] [Warning] lambda_l2 is set=0.9427645761020619, reg_lambda=0.0 will be ignored. Current value: lambda_l2=0.9427645761020619\n",
      "[LightGBM] [Warning] feature_fraction is set=0.6589764706610366, colsample_bytree=0.2624109195053836 will be ignored. Current value: feature_fraction=0.6589764706610366\n",
      "[LightGBM] [Warning] lambda_l1 is set=0.10018208097576237, reg_alpha=0.0 will be ignored. Current value: lambda_l1=0.10018208097576237\n",
      "[LightGBM] [Warning] bagging_fraction is set=0.6382984997340249, subsample=1.0 will be ignored. Current value: bagging_fraction=0.6382984997340249\n",
      "[LightGBM] [Warning] lambda_l2 is set=0.9427645761020619, reg_lambda=0.0 will be ignored. Current value: lambda_l2=0.9427645761020619\n",
      "[LightGBM] [Warning] feature_fraction is set=0.6589764706610366, colsample_bytree=0.2624109195053836 will be ignored. Current value: feature_fraction=0.6589764706610366\n",
      "[LightGBM] [Warning] lambda_l1 is set=0.10018208097576237, reg_alpha=0.0 will be ignored. Current value: lambda_l1=0.10018208097576237\n",
      "[LightGBM] [Warning] bagging_fraction is set=0.6382984997340249, subsample=1.0 will be ignored. Current value: bagging_fraction=0.6382984997340249\n",
      "[LightGBM] [Warning] lambda_l2 is set=0.9427645761020619, reg_lambda=0.0 will be ignored. Current value: lambda_l2=0.9427645761020619\n",
      "[LightGBM] [Warning] feature_fraction is set=0.6589764706610366, colsample_bytree=0.2624109195053836 will be ignored. Current value: feature_fraction=0.6589764706610366\n",
      "[LightGBM] [Warning] lambda_l1 is set=0.10018208097576237, reg_alpha=0.0 will be ignored. Current value: lambda_l1=0.10018208097576237\n",
      "[LightGBM] [Warning] bagging_fraction is set=0.6382984997340249, subsample=1.0 will be ignored. Current value: bagging_fraction=0.6382984997340249\n",
      "[LightGBM] [Warning] lambda_l2 is set=0.9427645761020619, reg_lambda=0.0 will be ignored. Current value: lambda_l2=0.9427645761020619\n",
      "[LightGBM] [Warning] feature_fraction is set=0.6589764706610366, colsample_bytree=0.2624109195053836 will be ignored. Current value: feature_fraction=0.6589764706610366\n",
      "[LightGBM] [Warning] lambda_l1 is set=0.10018208097576237, reg_alpha=0.0 will be ignored. Current value: lambda_l1=0.10018208097576237\n",
      "[LightGBM] [Warning] bagging_fraction is set=0.6382984997340249, subsample=1.0 will be ignored. Current value: bagging_fraction=0.6382984997340249\n",
      "[LightGBM] [Warning] lambda_l2 is set=0.9427645761020619, reg_lambda=0.0 will be ignored. Current value: lambda_l2=0.9427645761020619\n"
     ]
    },
    {
     "name": "stdout",
     "output_type": "stream",
     "text": [
      "| \u001b[0m 24      \u001b[0m | \u001b[0m 0.7004  \u001b[0m | \u001b[0m 0.6383  \u001b[0m | \u001b[0m 0.2624  \u001b[0m | \u001b[0m 0.659   \u001b[0m | \u001b[0m 0.1002  \u001b[0m | \u001b[0m 0.9428  \u001b[0m | \u001b[0m 0.00742 \u001b[0m | \u001b[0m 4.901   \u001b[0m | \u001b[0m 71.12   \u001b[0m | \u001b[0m 379.7   \u001b[0m |\n",
      "[LightGBM] [Warning] feature_fraction is set=0.1767030166231229, colsample_bytree=0.12273770031762682 will be ignored. Current value: feature_fraction=0.1767030166231229\n",
      "[LightGBM] [Warning] lambda_l1 is set=0.7813617173919878, reg_alpha=0.0 will be ignored. Current value: lambda_l1=0.7813617173919878\n",
      "[LightGBM] [Warning] bagging_fraction is set=0.6104394653101229, subsample=1.0 will be ignored. Current value: bagging_fraction=0.6104394653101229\n",
      "[LightGBM] [Warning] lambda_l2 is set=0.1619677908431829, reg_lambda=0.0 will be ignored. Current value: lambda_l2=0.1619677908431829\n",
      "[LightGBM] [Warning] feature_fraction is set=0.1767030166231229, colsample_bytree=0.12273770031762682 will be ignored. Current value: feature_fraction=0.1767030166231229\n",
      "[LightGBM] [Warning] lambda_l1 is set=0.7813617173919878, reg_alpha=0.0 will be ignored. Current value: lambda_l1=0.7813617173919878\n",
      "[LightGBM] [Warning] bagging_fraction is set=0.6104394653101229, subsample=1.0 will be ignored. Current value: bagging_fraction=0.6104394653101229\n",
      "[LightGBM] [Warning] lambda_l2 is set=0.1619677908431829, reg_lambda=0.0 will be ignored. Current value: lambda_l2=0.1619677908431829\n",
      "[LightGBM] [Warning] feature_fraction is set=0.1767030166231229, colsample_bytree=0.12273770031762682 will be ignored. Current value: feature_fraction=0.1767030166231229\n",
      "[LightGBM] [Warning] lambda_l1 is set=0.7813617173919878, reg_alpha=0.0 will be ignored. Current value: lambda_l1=0.7813617173919878\n",
      "[LightGBM] [Warning] bagging_fraction is set=0.6104394653101229, subsample=1.0 will be ignored. Current value: bagging_fraction=0.6104394653101229\n",
      "[LightGBM] [Warning] lambda_l2 is set=0.1619677908431829, reg_lambda=0.0 will be ignored. Current value: lambda_l2=0.1619677908431829\n",
      "[LightGBM] [Warning] feature_fraction is set=0.1767030166231229, colsample_bytree=0.12273770031762682 will be ignored. Current value: feature_fraction=0.1767030166231229\n",
      "[LightGBM] [Warning] lambda_l1 is set=0.7813617173919878, reg_alpha=0.0 will be ignored. Current value: lambda_l1=0.7813617173919878\n",
      "[LightGBM] [Warning] bagging_fraction is set=0.6104394653101229, subsample=1.0 will be ignored. Current value: bagging_fraction=0.6104394653101229\n",
      "[LightGBM] [Warning] lambda_l2 is set=0.1619677908431829, reg_lambda=0.0 will be ignored. Current value: lambda_l2=0.1619677908431829\n",
      "[LightGBM] [Warning] feature_fraction is set=0.1767030166231229, colsample_bytree=0.12273770031762682 will be ignored. Current value: feature_fraction=0.1767030166231229\n",
      "[LightGBM] [Warning] lambda_l1 is set=0.7813617173919878, reg_alpha=0.0 will be ignored. Current value: lambda_l1=0.7813617173919878\n",
      "[LightGBM] [Warning] bagging_fraction is set=0.6104394653101229, subsample=1.0 will be ignored. Current value: bagging_fraction=0.6104394653101229\n",
      "[LightGBM] [Warning] lambda_l2 is set=0.1619677908431829, reg_lambda=0.0 will be ignored. Current value: lambda_l2=0.1619677908431829\n",
      "| \u001b[0m 25      \u001b[0m | \u001b[0m 0.6988  \u001b[0m | \u001b[0m 0.6104  \u001b[0m | \u001b[0m 0.1227  \u001b[0m | \u001b[0m 0.1767  \u001b[0m | \u001b[0m 0.7814  \u001b[0m | \u001b[0m 0.162   \u001b[0m | \u001b[0m 0.04209 \u001b[0m | \u001b[0m 4.186   \u001b[0m | \u001b[0m 75.24   \u001b[0m | \u001b[0m 344.3   \u001b[0m |\n",
      "=====================================================================================================================================\n"
     ]
    }
   ],
   "source": [
    "# 반복적으로 베이지안 최적화 수행\n",
    "# acq='ei'사용\n",
    "# xi=0.01 로 exploration의 강도를 조금 높임\n",
    "lgbmBO.maximize(init_points=5, n_iter = 20, acq='ei', xi=0.01)"
   ]
  },
  {
   "cell_type": "code",
   "execution_count": 1,
   "metadata": {
    "scrolled": true
   },
   "outputs": [
    {
     "ename": "NameError",
     "evalue": "name 'lgbmBO' is not defined",
     "output_type": "error",
     "traceback": [
      "\u001b[1;31m---------------------------------------------------------------------------\u001b[0m",
      "\u001b[1;31mNameError\u001b[0m                                 Traceback (most recent call last)",
      "\u001b[1;32m<ipython-input-1-947071872beb>\u001b[0m in \u001b[0;36m<module>\u001b[1;34m\u001b[0m\n\u001b[1;32m----> 1\u001b[1;33m \u001b[0mlgbmBO\u001b[0m\u001b[1;33m.\u001b[0m\u001b[0mmax\u001b[0m\u001b[1;33m\u001b[0m\u001b[1;33m\u001b[0m\u001b[0m\n\u001b[0m",
      "\u001b[1;31mNameError\u001b[0m: name 'lgbmBO' is not defined"
     ]
    }
   ],
   "source": [
    "lgbmBO.max"
   ]
  },
  {
   "cell_type": "code",
   "execution_count": 28,
   "metadata": {},
   "outputs": [],
   "source": [
    "#파라미터 적용\n",
    "fit_lgbm = lgbm.LGBMClassifier(learning_rate=lgbmBO.max['params']['learning_rate'],\n",
    "                               num_leaves = int(round(lgbmBO.max['params']['num_leaves'])),\n",
    "                               max_depth = int(round(lgbmBO.max['params']['max_depth'])),\n",
    "                               min_child_weight = int(round(lgbmBO.max['params']['min_child_weight'])),\n",
    "                               colsample_bytree=lgbmBO.max['params']['colsample_bytree'],\n",
    "                               feature_fraction = max(min(lgbmBO.max['params']['feature_fraction'], 1), 0),\n",
    "                               bagging_fraction = max(min(lgbmBO.max['params']['bagging_fraction'], 1), 0),\n",
    "                               lambda_l1 = lgbmBO.max['params']['lambda_l1'],\n",
    "                               lambda_l2 = lgbmBO.max['params']['lambda_l2']\n",
    "                               )"
   ]
  },
  {
   "cell_type": "code",
   "execution_count": 30,
   "metadata": {
    "scrolled": true
   },
   "outputs": [
    {
     "name": "stdout",
     "output_type": "stream",
     "text": [
      "[LightGBM] [Warning] feature_fraction is set=0.9395382262705121, colsample_bytree=0.7958506063901872 will be ignored. Current value: feature_fraction=0.9395382262705121\n",
      "[LightGBM] [Warning] lambda_l1 is set=0.6186299880366198, reg_alpha=0.0 will be ignored. Current value: lambda_l1=0.6186299880366198\n",
      "[LightGBM] [Warning] bagging_fraction is set=0.30107759685648744, subsample=1.0 will be ignored. Current value: bagging_fraction=0.30107759685648744\n",
      "[LightGBM] [Warning] lambda_l2 is set=0.7931805098686161, reg_lambda=0.0 will be ignored. Current value: lambda_l2=0.7931805098686161\n"
     ]
    }
   ],
   "source": [
    "model = fit_lgbm.fit(X_dummies,y)"
   ]
  },
  {
   "cell_type": "code",
   "execution_count": 31,
   "metadata": {},
   "outputs": [
    {
     "data": {
      "text/plain": [
       "['lgbmBO_201006.pkl']"
      ]
     },
     "execution_count": 31,
     "metadata": {},
     "output_type": "execute_result"
    }
   ],
   "source": [
    "import joblib\n",
    "joblib.dump(model, 'lgbmBO_201006.pkl')"
   ]
  },
  {
   "cell_type": "code",
   "execution_count": 32,
   "metadata": {},
   "outputs": [],
   "source": [
    "pred_y = model.predict(test_dummies)"
   ]
  },
  {
   "cell_type": "code",
   "execution_count": 33,
   "metadata": {},
   "outputs": [],
   "source": [
    "submission['voted']=pred_y\n",
    "submission.to_csv('lgbmBO_201006.csv')"
   ]
  }
 ],
 "metadata": {
  "kernelspec": {
   "display_name": "Python 3",
   "language": "python",
   "name": "python3"
  },
  "language_info": {
   "codemirror_mode": {
    "name": "ipython",
    "version": 3
   },
   "file_extension": ".py",
   "mimetype": "text/x-python",
   "name": "python",
   "nbconvert_exporter": "python",
   "pygments_lexer": "ipython3",
   "version": "3.7.7"
  }
 },
 "nbformat": 4,
 "nbformat_minor": 4
}
