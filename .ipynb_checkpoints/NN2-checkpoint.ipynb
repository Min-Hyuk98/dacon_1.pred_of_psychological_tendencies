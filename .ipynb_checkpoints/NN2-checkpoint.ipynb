{
 "cells": [
  {
   "cell_type": "code",
   "execution_count": 1,
   "metadata": {},
   "outputs": [],
   "source": [
    "import random\n",
    "from datetime import datetime\n",
    "\n",
    "import numpy as np\n",
    "import pandas as pd\n",
    "import torch\n",
    "from torch import nn, optim\n",
    "from torch.utils.data import DataLoader\n",
    "from torch.utils.data import TensorDataset\n",
    "from tqdm import tqdm"
   ]
  },
  {
   "cell_type": "code",
   "execution_count": 2,
   "metadata": {},
   "outputs": [],
   "source": [
    "# random.seed(0)\n",
    "# np.random.seed(0)\n",
    "# torch.manual_seed(0)\n",
    "torch.backends.cudnn.deterministic = True\n",
    "torch.backends.cudnn.benchmark = False\n",
    "\n",
    "DEVICE = 'cuda:0' if torch.cuda.is_available() else 'cpu'"
   ]
  },
  {
   "cell_type": "code",
   "execution_count": 3,
   "metadata": {},
   "outputs": [],
   "source": [
    "train_data = pd.read_csv('./data/train.csv').drop([379, 24598], axis=0)\n",
    "test_data = pd.read_csv('./data/test_x.csv')\n",
    "# drop_list = ['QaE', 'QbE', 'QcE', 'QdE', 'QeE',\n",
    "#              'QfE', 'QgE', 'QhE', 'QiE', 'QjE',\n",
    "#              'QkE', 'QlE', 'QmE', 'QnE', 'QoE',\n",
    "#              'QpE', 'QqE', 'QrE', 'QsE', 'QtE',\n",
    "#              'index', 'hand']\n",
    "drop_list = ['index']\n",
    "replace_dict = {'education': str, 'engnat': str, 'married': str, 'urban': str}"
   ]
  },
  {
   "cell_type": "markdown",
   "metadata": {},
   "source": [
    "### 설문조사 소요시간을 사람별로 정규화"
   ]
  },
  {
   "cell_type": "code",
   "execution_count": 4,
   "metadata": {},
   "outputs": [],
   "source": [
    "import re"
   ]
  },
  {
   "cell_type": "code",
   "execution_count": 5,
   "metadata": {},
   "outputs": [],
   "source": [
    "survey_time = []\n",
    "for col in list(train_data.columns):\n",
    "    if re.match('Q[a-z]E', col):\n",
    "        survey_time.append(col)\n",
    "train_data[survey_time] = train_data[survey_time].apply(lambda x: x / x.max(), axis=1)   \n",
    "\n",
    "survey_time = []\n",
    "for col in list(test_data.columns):\n",
    "    if re.match('Q[a-z]E', col):\n",
    "        survey_time.append(col)\n",
    "test_data[survey_time] = test_data[survey_time].apply(lambda x: x / x.max(), axis=1)    "
   ]
  },
  {
   "cell_type": "code",
   "execution_count": 6,
   "metadata": {
    "scrolled": true
   },
   "outputs": [
    {
     "data": {
      "text/html": [
       "<div>\n",
       "<style scoped>\n",
       "    .dataframe tbody tr th:only-of-type {\n",
       "        vertical-align: middle;\n",
       "    }\n",
       "\n",
       "    .dataframe tbody tr th {\n",
       "        vertical-align: top;\n",
       "    }\n",
       "\n",
       "    .dataframe thead th {\n",
       "        text-align: right;\n",
       "    }\n",
       "</style>\n",
       "<table border=\"1\" class=\"dataframe\">\n",
       "  <thead>\n",
       "    <tr style=\"text-align: right;\">\n",
       "      <th></th>\n",
       "      <th>index</th>\n",
       "      <th>QaA</th>\n",
       "      <th>QaE</th>\n",
       "      <th>QbA</th>\n",
       "      <th>QbE</th>\n",
       "      <th>QcA</th>\n",
       "      <th>QcE</th>\n",
       "      <th>QdA</th>\n",
       "      <th>QdE</th>\n",
       "      <th>QeA</th>\n",
       "      <th>...</th>\n",
       "      <th>wr_04</th>\n",
       "      <th>wr_05</th>\n",
       "      <th>wr_06</th>\n",
       "      <th>wr_07</th>\n",
       "      <th>wr_08</th>\n",
       "      <th>wr_09</th>\n",
       "      <th>wr_10</th>\n",
       "      <th>wr_11</th>\n",
       "      <th>wr_12</th>\n",
       "      <th>wr_13</th>\n",
       "    </tr>\n",
       "  </thead>\n",
       "  <tbody>\n",
       "    <tr>\n",
       "      <th>0</th>\n",
       "      <td>0</td>\n",
       "      <td>3.0</td>\n",
       "      <td>0.230184</td>\n",
       "      <td>4.0</td>\n",
       "      <td>0.868738</td>\n",
       "      <td>5.0</td>\n",
       "      <td>0.632213</td>\n",
       "      <td>1.0</td>\n",
       "      <td>0.649334</td>\n",
       "      <td>2.0</td>\n",
       "      <td>...</td>\n",
       "      <td>0</td>\n",
       "      <td>1</td>\n",
       "      <td>0</td>\n",
       "      <td>1</td>\n",
       "      <td>1</td>\n",
       "      <td>0</td>\n",
       "      <td>1</td>\n",
       "      <td>0</td>\n",
       "      <td>1</td>\n",
       "      <td>1</td>\n",
       "    </tr>\n",
       "    <tr>\n",
       "      <th>1</th>\n",
       "      <td>1</td>\n",
       "      <td>5.0</td>\n",
       "      <td>0.149457</td>\n",
       "      <td>5.0</td>\n",
       "      <td>0.303303</td>\n",
       "      <td>3.0</td>\n",
       "      <td>0.782398</td>\n",
       "      <td>5.0</td>\n",
       "      <td>0.685840</td>\n",
       "      <td>1.0</td>\n",
       "      <td>...</td>\n",
       "      <td>1</td>\n",
       "      <td>1</td>\n",
       "      <td>0</td>\n",
       "      <td>1</td>\n",
       "      <td>1</td>\n",
       "      <td>0</td>\n",
       "      <td>1</td>\n",
       "      <td>0</td>\n",
       "      <td>1</td>\n",
       "      <td>1</td>\n",
       "    </tr>\n",
       "    <tr>\n",
       "      <th>2</th>\n",
       "      <td>2</td>\n",
       "      <td>4.0</td>\n",
       "      <td>0.481031</td>\n",
       "      <td>1.0</td>\n",
       "      <td>0.438648</td>\n",
       "      <td>1.0</td>\n",
       "      <td>0.302608</td>\n",
       "      <td>4.0</td>\n",
       "      <td>1.000000</td>\n",
       "      <td>5.0</td>\n",
       "      <td>...</td>\n",
       "      <td>1</td>\n",
       "      <td>1</td>\n",
       "      <td>0</td>\n",
       "      <td>1</td>\n",
       "      <td>1</td>\n",
       "      <td>1</td>\n",
       "      <td>1</td>\n",
       "      <td>0</td>\n",
       "      <td>1</td>\n",
       "      <td>1</td>\n",
       "    </tr>\n",
       "    <tr>\n",
       "      <th>3</th>\n",
       "      <td>3</td>\n",
       "      <td>3.0</td>\n",
       "      <td>0.021116</td>\n",
       "      <td>3.0</td>\n",
       "      <td>0.096824</td>\n",
       "      <td>4.0</td>\n",
       "      <td>0.041562</td>\n",
       "      <td>3.0</td>\n",
       "      <td>0.135956</td>\n",
       "      <td>1.0</td>\n",
       "      <td>...</td>\n",
       "      <td>0</td>\n",
       "      <td>0</td>\n",
       "      <td>0</td>\n",
       "      <td>0</td>\n",
       "      <td>1</td>\n",
       "      <td>0</td>\n",
       "      <td>1</td>\n",
       "      <td>0</td>\n",
       "      <td>1</td>\n",
       "      <td>1</td>\n",
       "    </tr>\n",
       "    <tr>\n",
       "      <th>4</th>\n",
       "      <td>4</td>\n",
       "      <td>1.0</td>\n",
       "      <td>0.490736</td>\n",
       "      <td>1.0</td>\n",
       "      <td>0.374272</td>\n",
       "      <td>5.0</td>\n",
       "      <td>0.294336</td>\n",
       "      <td>2.0</td>\n",
       "      <td>0.562202</td>\n",
       "      <td>1.0</td>\n",
       "      <td>...</td>\n",
       "      <td>1</td>\n",
       "      <td>1</td>\n",
       "      <td>1</td>\n",
       "      <td>1</td>\n",
       "      <td>1</td>\n",
       "      <td>0</td>\n",
       "      <td>1</td>\n",
       "      <td>1</td>\n",
       "      <td>1</td>\n",
       "      <td>1</td>\n",
       "    </tr>\n",
       "  </tbody>\n",
       "</table>\n",
       "<p>5 rows × 78 columns</p>\n",
       "</div>"
      ],
      "text/plain": [
       "   index  QaA       QaE  QbA       QbE  QcA       QcE  QdA       QdE  QeA  \\\n",
       "0      0  3.0  0.230184  4.0  0.868738  5.0  0.632213  1.0  0.649334  2.0   \n",
       "1      1  5.0  0.149457  5.0  0.303303  3.0  0.782398  5.0  0.685840  1.0   \n",
       "2      2  4.0  0.481031  1.0  0.438648  1.0  0.302608  4.0  1.000000  5.0   \n",
       "3      3  3.0  0.021116  3.0  0.096824  4.0  0.041562  3.0  0.135956  1.0   \n",
       "4      4  1.0  0.490736  1.0  0.374272  5.0  0.294336  2.0  0.562202  1.0   \n",
       "\n",
       "   ...  wr_04  wr_05  wr_06  wr_07  wr_08  wr_09  wr_10  wr_11  wr_12  wr_13  \n",
       "0  ...      0      1      0      1      1      0      1      0      1      1  \n",
       "1  ...      1      1      0      1      1      0      1      0      1      1  \n",
       "2  ...      1      1      0      1      1      1      1      0      1      1  \n",
       "3  ...      0      0      0      0      1      0      1      0      1      1  \n",
       "4  ...      1      1      1      1      1      0      1      1      1      1  \n",
       "\n",
       "[5 rows x 78 columns]"
      ]
     },
     "execution_count": 6,
     "metadata": {},
     "output_type": "execute_result"
    }
   ],
   "source": [
    "train_data.head()"
   ]
  },
  {
   "cell_type": "code",
   "execution_count": 7,
   "metadata": {},
   "outputs": [],
   "source": [
    "Answers = ['QaA', 'QbA', 'QcA', 'QdA', 'QeA',\n",
    "             'QfA', 'QgA', 'QhA', 'QiA', 'QjA', \n",
    "             'QkA', 'QlA', 'QmA', 'QnA', 'QoA', \n",
    "             'QpA', 'QqA', 'QrA', 'QsA', 'QtA']"
   ]
  },
  {
   "cell_type": "code",
   "execution_count": 8,
   "metadata": {},
   "outputs": [],
   "source": [
    "flipping_columns = [\"QeA\", \"QfA\", \"QkA\", \"QqA\", \"QrA\", \"QaA\", \"QdA\", \"QgA\", \"QiA\", \"QnA\"]\n",
    "for flip in flipping_columns: \n",
    "    train_data[flip] = 6 - train_data[flip]\n",
    "    test_data[flip] = 6 - test_data[flip]\n",
    "train_data['Mach_score'] = train_data[Answers].mean(axis = 1)\n",
    "test_data['Mach_score'] = test_data[Answers].mean(axis = 1)"
   ]
  },
  {
   "cell_type": "code",
   "execution_count": 9,
   "metadata": {
    "scrolled": true
   },
   "outputs": [
    {
     "data": {
      "text/html": [
       "<div>\n",
       "<style scoped>\n",
       "    .dataframe tbody tr th:only-of-type {\n",
       "        vertical-align: middle;\n",
       "    }\n",
       "\n",
       "    .dataframe tbody tr th {\n",
       "        vertical-align: top;\n",
       "    }\n",
       "\n",
       "    .dataframe thead th {\n",
       "        text-align: right;\n",
       "    }\n",
       "</style>\n",
       "<table border=\"1\" class=\"dataframe\">\n",
       "  <thead>\n",
       "    <tr style=\"text-align: right;\">\n",
       "      <th></th>\n",
       "      <th>index</th>\n",
       "      <th>QaA</th>\n",
       "      <th>QaE</th>\n",
       "      <th>QbA</th>\n",
       "      <th>QbE</th>\n",
       "      <th>QcA</th>\n",
       "      <th>QcE</th>\n",
       "      <th>QdA</th>\n",
       "      <th>QdE</th>\n",
       "      <th>QeA</th>\n",
       "      <th>...</th>\n",
       "      <th>wr_05</th>\n",
       "      <th>wr_06</th>\n",
       "      <th>wr_07</th>\n",
       "      <th>wr_08</th>\n",
       "      <th>wr_09</th>\n",
       "      <th>wr_10</th>\n",
       "      <th>wr_11</th>\n",
       "      <th>wr_12</th>\n",
       "      <th>wr_13</th>\n",
       "      <th>Mach_score</th>\n",
       "    </tr>\n",
       "  </thead>\n",
       "  <tbody>\n",
       "    <tr>\n",
       "      <th>0</th>\n",
       "      <td>0</td>\n",
       "      <td>3.0</td>\n",
       "      <td>0.230184</td>\n",
       "      <td>4.0</td>\n",
       "      <td>0.868738</td>\n",
       "      <td>5.0</td>\n",
       "      <td>0.632213</td>\n",
       "      <td>5.0</td>\n",
       "      <td>0.649334</td>\n",
       "      <td>4.0</td>\n",
       "      <td>...</td>\n",
       "      <td>1</td>\n",
       "      <td>0</td>\n",
       "      <td>1</td>\n",
       "      <td>1</td>\n",
       "      <td>0</td>\n",
       "      <td>1</td>\n",
       "      <td>0</td>\n",
       "      <td>1</td>\n",
       "      <td>1</td>\n",
       "      <td>2.95</td>\n",
       "    </tr>\n",
       "    <tr>\n",
       "      <th>1</th>\n",
       "      <td>1</td>\n",
       "      <td>1.0</td>\n",
       "      <td>0.149457</td>\n",
       "      <td>5.0</td>\n",
       "      <td>0.303303</td>\n",
       "      <td>3.0</td>\n",
       "      <td>0.782398</td>\n",
       "      <td>1.0</td>\n",
       "      <td>0.685840</td>\n",
       "      <td>5.0</td>\n",
       "      <td>...</td>\n",
       "      <td>1</td>\n",
       "      <td>0</td>\n",
       "      <td>1</td>\n",
       "      <td>1</td>\n",
       "      <td>0</td>\n",
       "      <td>1</td>\n",
       "      <td>0</td>\n",
       "      <td>1</td>\n",
       "      <td>1</td>\n",
       "      <td>2.60</td>\n",
       "    </tr>\n",
       "    <tr>\n",
       "      <th>2</th>\n",
       "      <td>2</td>\n",
       "      <td>2.0</td>\n",
       "      <td>0.481031</td>\n",
       "      <td>1.0</td>\n",
       "      <td>0.438648</td>\n",
       "      <td>1.0</td>\n",
       "      <td>0.302608</td>\n",
       "      <td>2.0</td>\n",
       "      <td>1.000000</td>\n",
       "      <td>1.0</td>\n",
       "      <td>...</td>\n",
       "      <td>1</td>\n",
       "      <td>0</td>\n",
       "      <td>1</td>\n",
       "      <td>1</td>\n",
       "      <td>1</td>\n",
       "      <td>1</td>\n",
       "      <td>0</td>\n",
       "      <td>1</td>\n",
       "      <td>1</td>\n",
       "      <td>1.90</td>\n",
       "    </tr>\n",
       "    <tr>\n",
       "      <th>3</th>\n",
       "      <td>3</td>\n",
       "      <td>3.0</td>\n",
       "      <td>0.021116</td>\n",
       "      <td>3.0</td>\n",
       "      <td>0.096824</td>\n",
       "      <td>4.0</td>\n",
       "      <td>0.041562</td>\n",
       "      <td>3.0</td>\n",
       "      <td>0.135956</td>\n",
       "      <td>5.0</td>\n",
       "      <td>...</td>\n",
       "      <td>0</td>\n",
       "      <td>0</td>\n",
       "      <td>0</td>\n",
       "      <td>1</td>\n",
       "      <td>0</td>\n",
       "      <td>1</td>\n",
       "      <td>0</td>\n",
       "      <td>1</td>\n",
       "      <td>1</td>\n",
       "      <td>3.35</td>\n",
       "    </tr>\n",
       "    <tr>\n",
       "      <th>4</th>\n",
       "      <td>4</td>\n",
       "      <td>5.0</td>\n",
       "      <td>0.490736</td>\n",
       "      <td>1.0</td>\n",
       "      <td>0.374272</td>\n",
       "      <td>5.0</td>\n",
       "      <td>0.294336</td>\n",
       "      <td>4.0</td>\n",
       "      <td>0.562202</td>\n",
       "      <td>5.0</td>\n",
       "      <td>...</td>\n",
       "      <td>1</td>\n",
       "      <td>1</td>\n",
       "      <td>1</td>\n",
       "      <td>1</td>\n",
       "      <td>0</td>\n",
       "      <td>1</td>\n",
       "      <td>1</td>\n",
       "      <td>1</td>\n",
       "      <td>1</td>\n",
       "      <td>3.00</td>\n",
       "    </tr>\n",
       "  </tbody>\n",
       "</table>\n",
       "<p>5 rows × 79 columns</p>\n",
       "</div>"
      ],
      "text/plain": [
       "   index  QaA       QaE  QbA       QbE  QcA       QcE  QdA       QdE  QeA  \\\n",
       "0      0  3.0  0.230184  4.0  0.868738  5.0  0.632213  5.0  0.649334  4.0   \n",
       "1      1  1.0  0.149457  5.0  0.303303  3.0  0.782398  1.0  0.685840  5.0   \n",
       "2      2  2.0  0.481031  1.0  0.438648  1.0  0.302608  2.0  1.000000  1.0   \n",
       "3      3  3.0  0.021116  3.0  0.096824  4.0  0.041562  3.0  0.135956  5.0   \n",
       "4      4  5.0  0.490736  1.0  0.374272  5.0  0.294336  4.0  0.562202  5.0   \n",
       "\n",
       "   ...  wr_05  wr_06  wr_07  wr_08  wr_09  wr_10  wr_11  wr_12  wr_13  \\\n",
       "0  ...      1      0      1      1      0      1      0      1      1   \n",
       "1  ...      1      0      1      1      0      1      0      1      1   \n",
       "2  ...      1      0      1      1      1      1      0      1      1   \n",
       "3  ...      0      0      0      1      0      1      0      1      1   \n",
       "4  ...      1      1      1      1      0      1      1      1      1   \n",
       "\n",
       "   Mach_score  \n",
       "0        2.95  \n",
       "1        2.60  \n",
       "2        1.90  \n",
       "3        3.35  \n",
       "4        3.00  \n",
       "\n",
       "[5 rows x 79 columns]"
      ]
     },
     "execution_count": 9,
     "metadata": {},
     "output_type": "execute_result"
    }
   ],
   "source": [
    "train_data.head()"
   ]
  },
  {
   "cell_type": "markdown",
   "metadata": {},
   "source": [
    "### 설문 정규화하기"
   ]
  },
  {
   "cell_type": "code",
   "execution_count": 10,
   "metadata": {},
   "outputs": [],
   "source": [
    "# (정규화하고자 하는 값 - 데이터 값들 중 최소값) / (데이터 값들 중 최대값 - 데이터 값들 중 최소값)\n",
    "for col in list(train_data.columns):\n",
    "    if re.match('Q[a-z]A', col):\n",
    "        train_data[col] = (train_data[col] - 1.) / 4.\n",
    "        test_data[col] = (test_data[col] - 1.) / 4."
   ]
  },
  {
   "cell_type": "code",
   "execution_count": 11,
   "metadata": {},
   "outputs": [],
   "source": [
    "train_y = train_data['voted']\n",
    "train_y = 2 - train_y.to_numpy()\n",
    "\n",
    "train_x = train_data.drop(drop_list + ['voted'], axis=1)\n",
    "train_x = train_x.astype(replace_dict)\n",
    "train_x = pd.get_dummies(train_x)\n",
    "train_x = train_x.to_numpy()\n",
    "\n",
    "test_x = test_data.drop(drop_list, axis=1)\n",
    "test_x = test_x.astype(replace_dict)\n",
    "test_x = pd.get_dummies(test_x)\n",
    "test_x = test_x.to_numpy()\n"
   ]
  },
  {
   "cell_type": "code",
   "execution_count": 12,
   "metadata": {},
   "outputs": [],
   "source": [
    "# for i, d in enumerate(train_x.columns):\n",
    "#     print(i, d)"
   ]
  },
  {
   "cell_type": "code",
   "execution_count": 13,
   "metadata": {
    "scrolled": true
   },
   "outputs": [],
   "source": [
    "train_x[:, 42:52] = (train_x[:, 42:52] - 3.5) / 3.5\n",
    "test_x[:, 42:52] = (test_x[:, 42:52] - 3.5) / 3.5"
   ]
  },
  {
   "cell_type": "code",
   "execution_count": 14,
   "metadata": {},
   "outputs": [],
   "source": [
    "train_x = torch.from_numpy(train_x).float()\n",
    "train_y = torch.from_numpy(train_y).float()\n",
    "\n",
    "real_train_x = train_x\n",
    "real_train_y = train_y"
   ]
  },
  {
   "cell_type": "code",
   "execution_count": 15,
   "metadata": {},
   "outputs": [
    {
     "data": {
      "text/plain": [
       "(31870, 13660)"
      ]
     },
     "execution_count": 15,
     "metadata": {},
     "output_type": "execute_result"
    }
   ],
   "source": [
    "ratios = [.7, .3]\n",
    "\n",
    "train_cnt = int(train_x.size(0) * ratios[0])\n",
    "valid_cnt = train_x.size(0) - train_cnt\n",
    "cnts = [train_cnt, valid_cnt]\n",
    "train_cnt, valid_cnt"
   ]
  },
  {
   "cell_type": "code",
   "execution_count": 16,
   "metadata": {
    "scrolled": false
   },
   "outputs": [
    {
     "name": "stdout",
     "output_type": "stream",
     "text": [
      "torch.Size([31870, 113]) torch.Size([31870])\n",
      "torch.Size([13660, 113]) torch.Size([13660])\n"
     ]
    }
   ],
   "source": [
    "indices = torch.randperm(train_x.size(0))\n",
    "\n",
    "train_x = torch.index_select(train_x, dim=0, index=indices)\n",
    "train_y = torch.index_select(train_y, dim=0, index=indices)\n",
    "\n",
    "train_x = train_x.split(cnts, dim=0)\n",
    "train_y = train_y.split(cnts, dim=0)\n",
    "\n",
    "test_x = torch.tensor(test_x, dtype=torch.float32, device=DEVICE)\n",
    "\n",
    "for x_i, y_i in zip(train_x, train_y):\n",
    "    print(x_i.size(), y_i.size())"
   ]
  },
  {
   "cell_type": "code",
   "execution_count": 17,
   "metadata": {},
   "outputs": [
    {
     "data": {
      "text/plain": [
       "torch.Size([45530, 113])"
      ]
     },
     "execution_count": 17,
     "metadata": {},
     "output_type": "execute_result"
    }
   ],
   "source": [
    "real_train_x.shape"
   ]
  },
  {
   "cell_type": "code",
   "execution_count": 18,
   "metadata": {
    "scrolled": true
   },
   "outputs": [
    {
     "name": "stderr",
     "output_type": "stream",
     "text": [
      "01/05: 100%|███████████████████████████████████████████████████████████████████████████| 50/50 [00:39<00:00,  1.25it/s]\n",
      "02/05: 100%|███████████████████████████████████████████████████████████████████████████| 50/50 [00:38<00:00,  1.31it/s]\n",
      "03/05: 100%|███████████████████████████████████████████████████████████████████████████| 50/50 [00:38<00:00,  1.30it/s]\n",
      "04/05: 100%|███████████████████████████████████████████████████████████████████████████| 50/50 [00:38<00:00,  1.29it/s]\n",
      "05/05: 100%|███████████████████████████████████████████████████████████████████████████| 50/50 [00:38<00:00,  1.29it/s]\n"
     ]
    }
   ],
   "source": [
    "train_len, test_len = len(train_x), len(test_x)\n",
    "\n",
    "N_MODEL = 5\n",
    "N_EPOCH = 50\n",
    "BATCH_SIZE = 128\n",
    "LOADER_PARAM = {\n",
    "    'batch_size': BATCH_SIZE,\n",
    "    'num_workers': 0,\n",
    "    'pin_memory': False\n",
    "}\n",
    "prediction_valid = np.zeros((13660, 1), dtype=np.float32)\n",
    "prediction_test = np.zeros((11383, 1), dtype=np.float32)\n",
    "\n",
    "for no in range(N_MODEL):\n",
    "\n",
    "    real_train_loader = DataLoader(TensorDataset(real_train_x, real_train_y),\n",
    "                                  shuffle=True, drop_last=True, **LOADER_PARAM)\n",
    "    \n",
    "    train_loader = DataLoader(TensorDataset(train_x[0], train_y[0]),\n",
    "                                  shuffle=True, drop_last=True, **LOADER_PARAM)\n",
    "    valid_loader = DataLoader(TensorDataset(train_x[1], train_y[1]),\n",
    "                                  shuffle=False, drop_last=True, **LOADER_PARAM)\n",
    "    \n",
    "    test_loader = DataLoader(TensorDataset(test_x, torch.zeros((test_len,), dtype=torch.float32, device=DEVICE)),\n",
    "                                 shuffle=False, drop_last=False, **LOADER_PARAM)\n",
    "    model = nn.Sequential(\n",
    "            nn.Dropout(0.05),\n",
    "            nn.Linear(113, 92, bias=False),\n",
    "            nn.LeakyReLU(0.05, inplace=True),\n",
    "        \n",
    "            nn.Dropout(0.05),\n",
    "            nn.Linear(92, 74, bias=False),\n",
    "            nn.LeakyReLU(0.05, inplace=True),\n",
    "        \n",
    "            nn.Dropout(0.05),\n",
    "            nn.Linear(74, 52, bias=False),\n",
    "            nn.LeakyReLU(0.05, inplace=True),\n",
    "        \n",
    "            nn.Dropout(0.05),\n",
    "            nn.Linear(52, 36, bias=False),\n",
    "            nn.LeakyReLU(0.05, inplace=True),\n",
    "            \n",
    "            nn.Dropout(0.5),\n",
    "            nn.Linear(36, 20, bias=False),\n",
    "            nn.ReLU(inplace=True),\n",
    "            \n",
    "            nn.Linear(20, 1)\n",
    "    ).to(DEVICE)\n",
    "    criterion = torch.nn.BCEWithLogitsLoss(pos_weight=torch.tensor([1.20665], device=DEVICE))\n",
    "    optimizer = optim.AdamW(model.parameters(), lr=1e-3, weight_decay=4e-2)\n",
    "    scheduler = optim.lr_scheduler.CosineAnnealingWarmRestarts(optimizer, T_0=N_EPOCH // 4, eta_min=1.2e-5)\n",
    "\n",
    "    model.train()\n",
    "    for epoch in tqdm(range(N_EPOCH), desc='{:02d}/{:02d}'.format(no + 1, N_MODEL)):\n",
    "        for idx, (xx, yy) in enumerate(train_loader): ## real_train_loader 교체 \n",
    "            optimizer.zero_grad()\n",
    "            xx, yy = xx.to(DEVICE), yy.to(DEVICE)\n",
    "            pred = model(xx).squeeze()\n",
    "            loss = criterion(pred, yy)\n",
    "            loss.backward()\n",
    "            optimizer.step()\n",
    "            scheduler.step(epoch + idx / len(train_loader))\n",
    "\n",
    "    model.eval()\n",
    "    with torch.no_grad():\n",
    "        for idx, (xx, _) in enumerate(valid_loader): ## valid_loader 교체\n",
    "            xx = xx.to(DEVICE)\n",
    "            pred = (torch.sigmoid(model(xx).detach().to('cpu'))).numpy()\n",
    "            prediction_valid[BATCH_SIZE * idx:min(BATCH_SIZE * (idx + 1), len(prediction_valid)), :] += pred[:, :] / N_MODEL\n",
    "            ## prediction_test 교체\n",
    "    \n",
    "\n",
    "# df = pd.read_csv('./data/sample_submission.csv')\n",
    "# df.iloc[:, 1:] = prediction_test\n",
    "# df.to_csv('./result/{}.csv'.format(datetime.now().strftime('%m%d-%H%M')), index=False)"
   ]
  },
  {
   "cell_type": "code",
   "execution_count": 21,
   "metadata": {},
   "outputs": [],
   "source": [
    "from sklearn.metrics import roc_auc_score"
   ]
  },
  {
   "cell_type": "code",
   "execution_count": 22,
   "metadata": {},
   "outputs": [
    {
     "data": {
      "text/plain": [
       "0.7654264569879532"
      ]
     },
     "execution_count": 22,
     "metadata": {},
     "output_type": "execute_result"
    }
   ],
   "source": [
    "roc_auc_score(train_y[1], prediction_valid)"
   ]
  },
  {
   "cell_type": "code",
   "execution_count": null,
   "metadata": {},
   "outputs": [],
   "source": []
  }
 ],
 "metadata": {
  "kernelspec": {
   "display_name": "Python 3",
   "language": "python",
   "name": "python3"
  },
  "language_info": {
   "codemirror_mode": {
    "name": "ipython",
    "version": 3
   },
   "file_extension": ".py",
   "mimetype": "text/x-python",
   "name": "python",
   "nbconvert_exporter": "python",
   "pygments_lexer": "ipython3",
   "version": "3.7.9"
  }
 },
 "nbformat": 4,
 "nbformat_minor": 4
}
