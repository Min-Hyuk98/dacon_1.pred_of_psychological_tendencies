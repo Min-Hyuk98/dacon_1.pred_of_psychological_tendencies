{
 "cells": [
  {
   "cell_type": "code",
   "execution_count": 1,
   "metadata": {},
   "outputs": [],
   "source": [
    "import random\n",
    "from datetime import datetime\n",
    "\n",
    "import numpy as np\n",
    "import pandas as pd\n",
    "import torch\n",
    "from torch import nn, optim\n",
    "from torch.utils.data import DataLoader\n",
    "from torch.utils.data import TensorDataset\n",
    "from tqdm import tqdm"
   ]
  },
  {
   "cell_type": "code",
   "execution_count": 2,
   "metadata": {},
   "outputs": [],
   "source": [
    "# random.seed(0)\n",
    "# np.random.seed(0)\n",
    "# torch.manual_seed(0)\n",
    "torch.backends.cudnn.deterministic = True\n",
    "torch.backends.cudnn.benchmark = False\n",
    "\n",
    "DEVICE = 'cuda:0' if torch.cuda.is_available() else 'cpu'"
   ]
  },
  {
   "cell_type": "code",
   "execution_count": 3,
   "metadata": {},
   "outputs": [],
   "source": [
    "train_data = pd.read_csv('./data/train.csv').drop([379, 24598], axis=0)\n",
    "test_data = pd.read_csv('./data/test_x.csv')\n",
    "# drop_list = ['QaE', 'QbE', 'QcE', 'QdE', 'QeE',\n",
    "#              'QfE', 'QgE', 'QhE', 'QiE', 'QjE',\n",
    "#              'QkE', 'QlE', 'QmE', 'QnE', 'QoE',\n",
    "#              'QpE', 'QqE', 'QrE', 'QsE', 'QtE',\n",
    "#              'index', 'hand']\n",
    "# drop_list = ['QaE', 'QbE', 'QcE', 'QdE', 'QeE',\n",
    "#              'QfE', 'QgE', 'QhE', 'QiE', 'QjE',\n",
    "#              'QkE', 'QlE', 'QmE', 'QnE', 'QoE',\n",
    "#              'QpE', 'QqE', 'QrE', 'QsE', 'QtE',\n",
    "#              'index']\n",
    "drop_list = ['index']\n",
    "replace_dict = {'education': str, 'engnat': str, 'married': str, 'urban': str}"
   ]
  },
  {
   "cell_type": "code",
   "execution_count": 4,
   "metadata": {},
   "outputs": [],
   "source": [
    "import re"
   ]
  },
  {
   "cell_type": "code",
   "execution_count": 5,
   "metadata": {},
   "outputs": [],
   "source": [
    "survey_time = []\n",
    "for col in list(train_data.columns):\n",
    "    if re.match('Q[a-z]E', col):\n",
    "        survey_time.append(col)\n",
    "train_data[survey_time] = train_data[survey_time].apply(lambda x: x / (x.max()*10), axis=1)   \n",
    "\n",
    "survey_time = []\n",
    "for col in list(test_data.columns):\n",
    "    if re.match('Q[a-z]E', col):\n",
    "        survey_time.append(col)\n",
    "test_data[survey_time] = test_data[survey_time].apply(lambda x: x / (x.max()*10), axis=1)   "
   ]
  },
  {
   "cell_type": "code",
   "execution_count": 6,
   "metadata": {
    "scrolled": true
   },
   "outputs": [
    {
     "data": {
      "text/html": [
       "<div>\n",
       "<style scoped>\n",
       "    .dataframe tbody tr th:only-of-type {\n",
       "        vertical-align: middle;\n",
       "    }\n",
       "\n",
       "    .dataframe tbody tr th {\n",
       "        vertical-align: top;\n",
       "    }\n",
       "\n",
       "    .dataframe thead th {\n",
       "        text-align: right;\n",
       "    }\n",
       "</style>\n",
       "<table border=\"1\" class=\"dataframe\">\n",
       "  <thead>\n",
       "    <tr style=\"text-align: right;\">\n",
       "      <th></th>\n",
       "      <th>index</th>\n",
       "      <th>QaA</th>\n",
       "      <th>QaE</th>\n",
       "      <th>QbA</th>\n",
       "      <th>QbE</th>\n",
       "      <th>QcA</th>\n",
       "      <th>QcE</th>\n",
       "      <th>QdA</th>\n",
       "      <th>QdE</th>\n",
       "      <th>QeA</th>\n",
       "      <th>...</th>\n",
       "      <th>wr_04</th>\n",
       "      <th>wr_05</th>\n",
       "      <th>wr_06</th>\n",
       "      <th>wr_07</th>\n",
       "      <th>wr_08</th>\n",
       "      <th>wr_09</th>\n",
       "      <th>wr_10</th>\n",
       "      <th>wr_11</th>\n",
       "      <th>wr_12</th>\n",
       "      <th>wr_13</th>\n",
       "    </tr>\n",
       "  </thead>\n",
       "  <tbody>\n",
       "    <tr>\n",
       "      <th>0</th>\n",
       "      <td>0</td>\n",
       "      <td>3.0</td>\n",
       "      <td>0.023018</td>\n",
       "      <td>4.0</td>\n",
       "      <td>0.086874</td>\n",
       "      <td>5.0</td>\n",
       "      <td>0.063221</td>\n",
       "      <td>1.0</td>\n",
       "      <td>0.064933</td>\n",
       "      <td>2.0</td>\n",
       "      <td>...</td>\n",
       "      <td>0</td>\n",
       "      <td>1</td>\n",
       "      <td>0</td>\n",
       "      <td>1</td>\n",
       "      <td>1</td>\n",
       "      <td>0</td>\n",
       "      <td>1</td>\n",
       "      <td>0</td>\n",
       "      <td>1</td>\n",
       "      <td>1</td>\n",
       "    </tr>\n",
       "    <tr>\n",
       "      <th>1</th>\n",
       "      <td>1</td>\n",
       "      <td>5.0</td>\n",
       "      <td>0.014946</td>\n",
       "      <td>5.0</td>\n",
       "      <td>0.030330</td>\n",
       "      <td>3.0</td>\n",
       "      <td>0.078240</td>\n",
       "      <td>5.0</td>\n",
       "      <td>0.068584</td>\n",
       "      <td>1.0</td>\n",
       "      <td>...</td>\n",
       "      <td>1</td>\n",
       "      <td>1</td>\n",
       "      <td>0</td>\n",
       "      <td>1</td>\n",
       "      <td>1</td>\n",
       "      <td>0</td>\n",
       "      <td>1</td>\n",
       "      <td>0</td>\n",
       "      <td>1</td>\n",
       "      <td>1</td>\n",
       "    </tr>\n",
       "    <tr>\n",
       "      <th>2</th>\n",
       "      <td>2</td>\n",
       "      <td>4.0</td>\n",
       "      <td>0.048103</td>\n",
       "      <td>1.0</td>\n",
       "      <td>0.043865</td>\n",
       "      <td>1.0</td>\n",
       "      <td>0.030261</td>\n",
       "      <td>4.0</td>\n",
       "      <td>0.100000</td>\n",
       "      <td>5.0</td>\n",
       "      <td>...</td>\n",
       "      <td>1</td>\n",
       "      <td>1</td>\n",
       "      <td>0</td>\n",
       "      <td>1</td>\n",
       "      <td>1</td>\n",
       "      <td>1</td>\n",
       "      <td>1</td>\n",
       "      <td>0</td>\n",
       "      <td>1</td>\n",
       "      <td>1</td>\n",
       "    </tr>\n",
       "    <tr>\n",
       "      <th>3</th>\n",
       "      <td>3</td>\n",
       "      <td>3.0</td>\n",
       "      <td>0.002112</td>\n",
       "      <td>3.0</td>\n",
       "      <td>0.009682</td>\n",
       "      <td>4.0</td>\n",
       "      <td>0.004156</td>\n",
       "      <td>3.0</td>\n",
       "      <td>0.013596</td>\n",
       "      <td>1.0</td>\n",
       "      <td>...</td>\n",
       "      <td>0</td>\n",
       "      <td>0</td>\n",
       "      <td>0</td>\n",
       "      <td>0</td>\n",
       "      <td>1</td>\n",
       "      <td>0</td>\n",
       "      <td>1</td>\n",
       "      <td>0</td>\n",
       "      <td>1</td>\n",
       "      <td>1</td>\n",
       "    </tr>\n",
       "    <tr>\n",
       "      <th>4</th>\n",
       "      <td>4</td>\n",
       "      <td>1.0</td>\n",
       "      <td>0.049074</td>\n",
       "      <td>1.0</td>\n",
       "      <td>0.037427</td>\n",
       "      <td>5.0</td>\n",
       "      <td>0.029434</td>\n",
       "      <td>2.0</td>\n",
       "      <td>0.056220</td>\n",
       "      <td>1.0</td>\n",
       "      <td>...</td>\n",
       "      <td>1</td>\n",
       "      <td>1</td>\n",
       "      <td>1</td>\n",
       "      <td>1</td>\n",
       "      <td>1</td>\n",
       "      <td>0</td>\n",
       "      <td>1</td>\n",
       "      <td>1</td>\n",
       "      <td>1</td>\n",
       "      <td>1</td>\n",
       "    </tr>\n",
       "  </tbody>\n",
       "</table>\n",
       "<p>5 rows × 78 columns</p>\n",
       "</div>"
      ],
      "text/plain": [
       "   index  QaA       QaE  QbA       QbE  QcA       QcE  QdA       QdE  QeA  \\\n",
       "0      0  3.0  0.023018  4.0  0.086874  5.0  0.063221  1.0  0.064933  2.0   \n",
       "1      1  5.0  0.014946  5.0  0.030330  3.0  0.078240  5.0  0.068584  1.0   \n",
       "2      2  4.0  0.048103  1.0  0.043865  1.0  0.030261  4.0  0.100000  5.0   \n",
       "3      3  3.0  0.002112  3.0  0.009682  4.0  0.004156  3.0  0.013596  1.0   \n",
       "4      4  1.0  0.049074  1.0  0.037427  5.0  0.029434  2.0  0.056220  1.0   \n",
       "\n",
       "   ...  wr_04  wr_05  wr_06  wr_07  wr_08  wr_09  wr_10  wr_11  wr_12  wr_13  \n",
       "0  ...      0      1      0      1      1      0      1      0      1      1  \n",
       "1  ...      1      1      0      1      1      0      1      0      1      1  \n",
       "2  ...      1      1      0      1      1      1      1      0      1      1  \n",
       "3  ...      0      0      0      0      1      0      1      0      1      1  \n",
       "4  ...      1      1      1      1      1      0      1      1      1      1  \n",
       "\n",
       "[5 rows x 78 columns]"
      ]
     },
     "execution_count": 6,
     "metadata": {},
     "output_type": "execute_result"
    }
   ],
   "source": [
    "train_data.head()"
   ]
  },
  {
   "cell_type": "code",
   "execution_count": 7,
   "metadata": {},
   "outputs": [],
   "source": [
    "train_y = train_data['voted']\n",
    "train_y = 2 - train_y.to_numpy()\n",
    "\n",
    "train_x = train_data.drop(drop_list + ['voted'], axis=1)\n",
    "train_x = train_x.astype(replace_dict)\n",
    "train_x = pd.get_dummies(train_x)\n",
    "\n",
    "test_x = test_data.drop(drop_list, axis=1)\n",
    "test_x = test_x.astype(replace_dict)\n",
    "test_x = pd.get_dummies(test_x)\n"
   ]
  },
  {
   "cell_type": "code",
   "execution_count": 8,
   "metadata": {
    "scrolled": true
   },
   "outputs": [
    {
     "name": "stdout",
     "output_type": "stream",
     "text": [
      "0 QaA\n",
      "1 QaE\n",
      "2 QbA\n",
      "3 QbE\n",
      "4 QcA\n",
      "5 QcE\n",
      "6 QdA\n",
      "7 QdE\n",
      "8 QeA\n",
      "9 QeE\n",
      "10 QfA\n",
      "11 QfE\n",
      "12 QgA\n",
      "13 QgE\n",
      "14 QhA\n",
      "15 QhE\n",
      "16 QiA\n",
      "17 QiE\n",
      "18 QjA\n",
      "19 QjE\n",
      "20 QkA\n",
      "21 QkE\n",
      "22 QlA\n",
      "23 QlE\n",
      "24 QmA\n",
      "25 QmE\n",
      "26 QnA\n",
      "27 QnE\n",
      "28 QoA\n",
      "29 QoE\n",
      "30 QpA\n",
      "31 QpE\n",
      "32 QqA\n",
      "33 QqE\n",
      "34 QrA\n",
      "35 QrE\n",
      "36 QsA\n",
      "37 QsE\n",
      "38 QtA\n",
      "39 QtE\n",
      "40 familysize\n",
      "41 hand\n",
      "42 tp01\n",
      "43 tp02\n",
      "44 tp03\n",
      "45 tp04\n",
      "46 tp05\n",
      "47 tp06\n",
      "48 tp07\n",
      "49 tp08\n",
      "50 tp09\n",
      "51 tp10\n",
      "52 wf_01\n",
      "53 wf_02\n",
      "54 wf_03\n",
      "55 wr_01\n",
      "56 wr_02\n",
      "57 wr_03\n",
      "58 wr_04\n",
      "59 wr_05\n",
      "60 wr_06\n",
      "61 wr_07\n",
      "62 wr_08\n",
      "63 wr_09\n",
      "64 wr_10\n",
      "65 wr_11\n",
      "66 wr_12\n",
      "67 wr_13\n",
      "68 age_group_+70s\n",
      "69 age_group_10s\n",
      "70 age_group_20s\n",
      "71 age_group_30s\n",
      "72 age_group_40s\n",
      "73 age_group_50s\n",
      "74 age_group_60s\n",
      "75 education_0\n",
      "76 education_1\n",
      "77 education_2\n",
      "78 education_3\n",
      "79 education_4\n",
      "80 engnat_0\n",
      "81 engnat_1\n",
      "82 engnat_2\n",
      "83 gender_Female\n",
      "84 gender_Male\n",
      "85 married_0\n",
      "86 married_1\n",
      "87 married_2\n",
      "88 married_3\n",
      "89 race_Arab\n",
      "90 race_Asian\n",
      "91 race_Black\n",
      "92 race_Indigenous Australian\n",
      "93 race_Native American\n",
      "94 race_Other\n",
      "95 race_White\n",
      "96 religion_Agnostic\n",
      "97 religion_Atheist\n",
      "98 religion_Buddhist\n",
      "99 religion_Christian_Catholic\n",
      "100 religion_Christian_Mormon\n",
      "101 religion_Christian_Other\n",
      "102 religion_Christian_Protestant\n",
      "103 religion_Hindu\n",
      "104 religion_Jewish\n",
      "105 religion_Muslim\n",
      "106 religion_Other\n",
      "107 religion_Sikh\n",
      "108 urban_0\n",
      "109 urban_1\n",
      "110 urban_2\n",
      "111 urban_3\n"
     ]
    }
   ],
   "source": [
    "for i, d in enumerate(train_x.columns):\n",
    "    print(i, d)"
   ]
  },
  {
   "cell_type": "code",
   "execution_count": 9,
   "metadata": {},
   "outputs": [],
   "source": [
    "train_x = train_x.to_numpy()\n",
    "test_x = test_x.to_numpy()"
   ]
  },
  {
   "cell_type": "code",
   "execution_count": 10,
   "metadata": {},
   "outputs": [],
   "source": [
    "train_x[:, :40] = (train_x[:, :40] - 1.) / 4.\n",
    "test_x[:, 40] = (test_x[:, 40] - 1.) / 4.\n",
    "\n",
    "train_x[:, 41] = (train_x[:, 41]) / 3\n",
    "test_x[:, 41] = (test_x[:, 41]) / 3\n",
    "\n",
    "train_x[:, 42:52] = (train_x[:, 42:52] - 3.5) / 3.5\n",
    "test_x[:, 42:52] = (test_x[:, 42:52] - 3.5) / 3.5"
   ]
  },
  {
   "cell_type": "code",
   "execution_count": 11,
   "metadata": {},
   "outputs": [],
   "source": [
    "# train_x[:, :20] = (train_x[:, :20] - 1.) / 4.\n",
    "# test_x[:, 20] = (test_x[:, 20] - 1.) / 4.\n",
    "\n",
    "# train_x[:, 21] = (train_x[:, 21]) / 3\n",
    "# test_x[:, 21] = (test_x[:, 21]) / 3\n",
    "\n",
    "# train_x[:, 22:32] = (train_x[:, 22:32] - 3.5) / 3.5\n",
    "# test_x[:, 22:32] = (test_x[:, 22:32] - 3.5) / 3.5"
   ]
  },
  {
   "cell_type": "code",
   "execution_count": 12,
   "metadata": {},
   "outputs": [],
   "source": [
    "# train_x[:, :20] = (train_x[:, :20] - 3.) / 2.\n",
    "# test_x[:, :20] = (test_x[:, :20] - 3.) / 2\n",
    "# train_x[:, 20] = (train_x[:, 20] - 5.) / 5.\n",
    "# test_x[:, 20] = (test_x[:, 20] - 5.) / 5.\n",
    "# train_x[:, 21:31] = (train_x[:, 21:31] - 3.5) / 3.5\n",
    "# test_x[:, 21:31] = (test_x[:, 21:31] - 3.5) / 3.5"
   ]
  },
  {
   "cell_type": "code",
   "execution_count": 13,
   "metadata": {},
   "outputs": [
    {
     "data": {
      "text/plain": [
       "array([[ 0.5       , -0.2442454 ,  0.75      , ...,  1.        ,\n",
       "         0.        ,  0.        ],\n",
       "       [ 1.        , -0.24626357,  1.        , ...,  0.        ,\n",
       "         0.        ,  1.        ],\n",
       "       [ 0.75      , -0.23797421,  0.        , ...,  0.        ,\n",
       "         1.        ,  0.        ],\n",
       "       ...,\n",
       "       [ 0.75      , -0.24328882,  0.        , ...,  0.        ,\n",
       "         1.        ,  0.        ],\n",
       "       [ 0.        , -0.2455323 ,  0.5       , ...,  0.        ,\n",
       "         0.        ,  0.        ],\n",
       "       [ 0.5       , -0.2482476 ,  1.        , ...,  0.        ,\n",
       "         1.        ,  0.        ]])"
      ]
     },
     "execution_count": 13,
     "metadata": {},
     "output_type": "execute_result"
    }
   ],
   "source": [
    "train_x"
   ]
  },
  {
   "cell_type": "code",
   "execution_count": null,
   "metadata": {},
   "outputs": [],
   "source": []
  },
  {
   "cell_type": "code",
   "execution_count": 14,
   "metadata": {},
   "outputs": [],
   "source": [
    "train_x = torch.from_numpy(train_x).float()\n",
    "train_y = torch.from_numpy(train_y).float()\n",
    "\n",
    "real_train_x = train_x\n",
    "real_train_y = train_y"
   ]
  },
  {
   "cell_type": "code",
   "execution_count": 15,
   "metadata": {},
   "outputs": [
    {
     "data": {
      "text/plain": [
       "(31870, 13660)"
      ]
     },
     "execution_count": 15,
     "metadata": {},
     "output_type": "execute_result"
    }
   ],
   "source": [
    "ratios = [.7, .3]\n",
    "\n",
    "train_cnt = int(train_x.size(0) * ratios[0])\n",
    "valid_cnt = train_x.size(0) - train_cnt\n",
    "cnts = [train_cnt, valid_cnt]\n",
    "train_cnt, valid_cnt"
   ]
  },
  {
   "cell_type": "code",
   "execution_count": 16,
   "metadata": {},
   "outputs": [
    {
     "name": "stdout",
     "output_type": "stream",
     "text": [
      "torch.Size([31870, 112]) torch.Size([31870])\n",
      "torch.Size([13660, 112]) torch.Size([13660])\n"
     ]
    }
   ],
   "source": [
    "indices = torch.randperm(train_x.size(0))\n",
    "\n",
    "train_x = torch.index_select(train_x, dim=0, index=indices)\n",
    "train_y = torch.index_select(train_y, dim=0, index=indices)\n",
    "\n",
    "train_x = train_x.split(cnts, dim=0)\n",
    "train_y = train_y.split(cnts, dim=0)\n",
    "\n",
    "test_x = torch.tensor(test_x, dtype=torch.float32, device=DEVICE)\n",
    "\n",
    "for x_i, y_i in zip(train_x, train_y):\n",
    "    print(x_i.size(), y_i.size())"
   ]
  },
  {
   "cell_type": "code",
   "execution_count": 17,
   "metadata": {},
   "outputs": [
    {
     "data": {
      "text/plain": [
       "torch.Size([45530, 112])"
      ]
     },
     "execution_count": 17,
     "metadata": {},
     "output_type": "execute_result"
    }
   ],
   "source": [
    "real_train_x.shape"
   ]
  },
  {
   "cell_type": "code",
   "execution_count": 18,
   "metadata": {},
   "outputs": [],
   "source": [
    "from copy import deepcopy\n",
    "\n",
    "lowest_loss = np.inf\n",
    "best_model = None\n",
    "lowest_epoch = np.inf"
   ]
  },
  {
   "cell_type": "code",
   "execution_count": null,
   "metadata": {},
   "outputs": [],
   "source": []
  },
  {
   "cell_type": "code",
   "execution_count": 27,
   "metadata": {
    "scrolled": true
   },
   "outputs": [
    {
     "name": "stdout",
     "output_type": "stream",
     "text": [
      "Epoch 5: train loss=1.5183e+02  valid_loss=6.1415e-01  lowest_loss=6.1215e-01\n"
     ]
    },
    {
     "ename": "KeyboardInterrupt",
     "evalue": "",
     "output_type": "error",
     "traceback": [
      "\u001b[1;31m---------------------------------------------------------------------------\u001b[0m",
      "\u001b[1;31mKeyboardInterrupt\u001b[0m                         Traceback (most recent call last)",
      "\u001b[1;32m<ipython-input-27-d061a10cd78b>\u001b[0m in \u001b[0;36m<module>\u001b[1;34m\u001b[0m\n\u001b[0;32m     65\u001b[0m \u001b[1;33m\u001b[0m\u001b[0m\n\u001b[0;32m     66\u001b[0m             \u001b[0mmodel\u001b[0m\u001b[1;33m.\u001b[0m\u001b[0mtrain\u001b[0m\u001b[1;33m(\u001b[0m\u001b[1;33m)\u001b[0m\u001b[1;33m\u001b[0m\u001b[1;33m\u001b[0m\u001b[0m\n\u001b[1;32m---> 67\u001b[1;33m             \u001b[1;32mfor\u001b[0m \u001b[0midx\u001b[0m\u001b[1;33m,\u001b[0m \u001b[1;33m(\u001b[0m\u001b[0mxx\u001b[0m\u001b[1;33m,\u001b[0m \u001b[0myy\u001b[0m\u001b[1;33m)\u001b[0m \u001b[1;32min\u001b[0m \u001b[0menumerate\u001b[0m\u001b[1;33m(\u001b[0m\u001b[0mtrain_loader\u001b[0m\u001b[1;33m)\u001b[0m\u001b[1;33m:\u001b[0m\u001b[1;33m\u001b[0m\u001b[1;33m\u001b[0m\u001b[0m\n\u001b[0m\u001b[0;32m     68\u001b[0m                 \u001b[0moptimizer\u001b[0m\u001b[1;33m.\u001b[0m\u001b[0mzero_grad\u001b[0m\u001b[1;33m(\u001b[0m\u001b[1;33m)\u001b[0m\u001b[1;33m\u001b[0m\u001b[1;33m\u001b[0m\u001b[0m\n\u001b[0;32m     69\u001b[0m                 \u001b[0mxx\u001b[0m\u001b[1;33m,\u001b[0m \u001b[0myy\u001b[0m \u001b[1;33m=\u001b[0m \u001b[0mxx\u001b[0m\u001b[1;33m.\u001b[0m\u001b[0mto\u001b[0m\u001b[1;33m(\u001b[0m\u001b[0mDEVICE\u001b[0m\u001b[1;33m)\u001b[0m\u001b[1;33m,\u001b[0m \u001b[0myy\u001b[0m\u001b[1;33m.\u001b[0m\u001b[0mto\u001b[0m\u001b[1;33m(\u001b[0m\u001b[0mDEVICE\u001b[0m\u001b[1;33m)\u001b[0m\u001b[1;33m\u001b[0m\u001b[1;33m\u001b[0m\u001b[0m\n",
      "\u001b[1;32m~\\anaconda3\\envs\\pytorch_python3.7\\lib\\site-packages\\torch\\utils\\data\\dataloader.py\u001b[0m in \u001b[0;36m__next__\u001b[1;34m(self)\u001b[0m\n\u001b[0;32m    433\u001b[0m         \u001b[1;32mif\u001b[0m \u001b[0mself\u001b[0m\u001b[1;33m.\u001b[0m\u001b[0m_sampler_iter\u001b[0m \u001b[1;32mis\u001b[0m \u001b[1;32mNone\u001b[0m\u001b[1;33m:\u001b[0m\u001b[1;33m\u001b[0m\u001b[1;33m\u001b[0m\u001b[0m\n\u001b[0;32m    434\u001b[0m             \u001b[0mself\u001b[0m\u001b[1;33m.\u001b[0m\u001b[0m_reset\u001b[0m\u001b[1;33m(\u001b[0m\u001b[1;33m)\u001b[0m\u001b[1;33m\u001b[0m\u001b[1;33m\u001b[0m\u001b[0m\n\u001b[1;32m--> 435\u001b[1;33m         \u001b[0mdata\u001b[0m \u001b[1;33m=\u001b[0m \u001b[0mself\u001b[0m\u001b[1;33m.\u001b[0m\u001b[0m_next_data\u001b[0m\u001b[1;33m(\u001b[0m\u001b[1;33m)\u001b[0m\u001b[1;33m\u001b[0m\u001b[1;33m\u001b[0m\u001b[0m\n\u001b[0m\u001b[0;32m    436\u001b[0m         \u001b[0mself\u001b[0m\u001b[1;33m.\u001b[0m\u001b[0m_num_yielded\u001b[0m \u001b[1;33m+=\u001b[0m \u001b[1;36m1\u001b[0m\u001b[1;33m\u001b[0m\u001b[1;33m\u001b[0m\u001b[0m\n\u001b[0;32m    437\u001b[0m         \u001b[1;32mif\u001b[0m \u001b[0mself\u001b[0m\u001b[1;33m.\u001b[0m\u001b[0m_dataset_kind\u001b[0m \u001b[1;33m==\u001b[0m \u001b[0m_DatasetKind\u001b[0m\u001b[1;33m.\u001b[0m\u001b[0mIterable\u001b[0m \u001b[1;32mand\u001b[0m\u001b[0;31m \u001b[0m\u001b[0;31m\\\u001b[0m\u001b[1;33m\u001b[0m\u001b[1;33m\u001b[0m\u001b[0m\n",
      "\u001b[1;32m~\\anaconda3\\envs\\pytorch_python3.7\\lib\\site-packages\\torch\\utils\\data\\dataloader.py\u001b[0m in \u001b[0;36m_next_data\u001b[1;34m(self)\u001b[0m\n\u001b[0;32m    473\u001b[0m     \u001b[1;32mdef\u001b[0m \u001b[0m_next_data\u001b[0m\u001b[1;33m(\u001b[0m\u001b[0mself\u001b[0m\u001b[1;33m)\u001b[0m\u001b[1;33m:\u001b[0m\u001b[1;33m\u001b[0m\u001b[1;33m\u001b[0m\u001b[0m\n\u001b[0;32m    474\u001b[0m         \u001b[0mindex\u001b[0m \u001b[1;33m=\u001b[0m \u001b[0mself\u001b[0m\u001b[1;33m.\u001b[0m\u001b[0m_next_index\u001b[0m\u001b[1;33m(\u001b[0m\u001b[1;33m)\u001b[0m  \u001b[1;31m# may raise StopIteration\u001b[0m\u001b[1;33m\u001b[0m\u001b[1;33m\u001b[0m\u001b[0m\n\u001b[1;32m--> 475\u001b[1;33m         \u001b[0mdata\u001b[0m \u001b[1;33m=\u001b[0m \u001b[0mself\u001b[0m\u001b[1;33m.\u001b[0m\u001b[0m_dataset_fetcher\u001b[0m\u001b[1;33m.\u001b[0m\u001b[0mfetch\u001b[0m\u001b[1;33m(\u001b[0m\u001b[0mindex\u001b[0m\u001b[1;33m)\u001b[0m  \u001b[1;31m# may raise StopIteration\u001b[0m\u001b[1;33m\u001b[0m\u001b[1;33m\u001b[0m\u001b[0m\n\u001b[0m\u001b[0;32m    476\u001b[0m         \u001b[1;32mif\u001b[0m \u001b[0mself\u001b[0m\u001b[1;33m.\u001b[0m\u001b[0m_pin_memory\u001b[0m\u001b[1;33m:\u001b[0m\u001b[1;33m\u001b[0m\u001b[1;33m\u001b[0m\u001b[0m\n\u001b[0;32m    477\u001b[0m             \u001b[0mdata\u001b[0m \u001b[1;33m=\u001b[0m \u001b[0m_utils\u001b[0m\u001b[1;33m.\u001b[0m\u001b[0mpin_memory\u001b[0m\u001b[1;33m.\u001b[0m\u001b[0mpin_memory\u001b[0m\u001b[1;33m(\u001b[0m\u001b[0mdata\u001b[0m\u001b[1;33m)\u001b[0m\u001b[1;33m\u001b[0m\u001b[1;33m\u001b[0m\u001b[0m\n",
      "\u001b[1;32m~\\anaconda3\\envs\\pytorch_python3.7\\lib\\site-packages\\torch\\utils\\data\\_utils\\fetch.py\u001b[0m in \u001b[0;36mfetch\u001b[1;34m(self, possibly_batched_index)\u001b[0m\n\u001b[0;32m     45\u001b[0m         \u001b[1;32melse\u001b[0m\u001b[1;33m:\u001b[0m\u001b[1;33m\u001b[0m\u001b[1;33m\u001b[0m\u001b[0m\n\u001b[0;32m     46\u001b[0m             \u001b[0mdata\u001b[0m \u001b[1;33m=\u001b[0m \u001b[0mself\u001b[0m\u001b[1;33m.\u001b[0m\u001b[0mdataset\u001b[0m\u001b[1;33m[\u001b[0m\u001b[0mpossibly_batched_index\u001b[0m\u001b[1;33m]\u001b[0m\u001b[1;33m\u001b[0m\u001b[1;33m\u001b[0m\u001b[0m\n\u001b[1;32m---> 47\u001b[1;33m         \u001b[1;32mreturn\u001b[0m \u001b[0mself\u001b[0m\u001b[1;33m.\u001b[0m\u001b[0mcollate_fn\u001b[0m\u001b[1;33m(\u001b[0m\u001b[0mdata\u001b[0m\u001b[1;33m)\u001b[0m\u001b[1;33m\u001b[0m\u001b[1;33m\u001b[0m\u001b[0m\n\u001b[0m",
      "\u001b[1;32m~\\anaconda3\\envs\\pytorch_python3.7\\lib\\site-packages\\torch\\utils\\data\\_utils\\collate.py\u001b[0m in \u001b[0;36mdefault_collate\u001b[1;34m(batch)\u001b[0m\n\u001b[0;32m     81\u001b[0m             \u001b[1;32mraise\u001b[0m \u001b[0mRuntimeError\u001b[0m\u001b[1;33m(\u001b[0m\u001b[1;34m'each element in list of batch should be of equal size'\u001b[0m\u001b[1;33m)\u001b[0m\u001b[1;33m\u001b[0m\u001b[1;33m\u001b[0m\u001b[0m\n\u001b[0;32m     82\u001b[0m         \u001b[0mtransposed\u001b[0m \u001b[1;33m=\u001b[0m \u001b[0mzip\u001b[0m\u001b[1;33m(\u001b[0m\u001b[1;33m*\u001b[0m\u001b[0mbatch\u001b[0m\u001b[1;33m)\u001b[0m\u001b[1;33m\u001b[0m\u001b[1;33m\u001b[0m\u001b[0m\n\u001b[1;32m---> 83\u001b[1;33m         \u001b[1;32mreturn\u001b[0m \u001b[1;33m[\u001b[0m\u001b[0mdefault_collate\u001b[0m\u001b[1;33m(\u001b[0m\u001b[0msamples\u001b[0m\u001b[1;33m)\u001b[0m \u001b[1;32mfor\u001b[0m \u001b[0msamples\u001b[0m \u001b[1;32min\u001b[0m \u001b[0mtransposed\u001b[0m\u001b[1;33m]\u001b[0m\u001b[1;33m\u001b[0m\u001b[1;33m\u001b[0m\u001b[0m\n\u001b[0m\u001b[0;32m     84\u001b[0m \u001b[1;33m\u001b[0m\u001b[0m\n\u001b[0;32m     85\u001b[0m     \u001b[1;32mraise\u001b[0m \u001b[0mTypeError\u001b[0m\u001b[1;33m(\u001b[0m\u001b[0mdefault_collate_err_msg_format\u001b[0m\u001b[1;33m.\u001b[0m\u001b[0mformat\u001b[0m\u001b[1;33m(\u001b[0m\u001b[0melem_type\u001b[0m\u001b[1;33m)\u001b[0m\u001b[1;33m)\u001b[0m\u001b[1;33m\u001b[0m\u001b[1;33m\u001b[0m\u001b[0m\n",
      "\u001b[1;32m~\\anaconda3\\envs\\pytorch_python3.7\\lib\\site-packages\\torch\\utils\\data\\_utils\\collate.py\u001b[0m in \u001b[0;36m<listcomp>\u001b[1;34m(.0)\u001b[0m\n\u001b[0;32m     81\u001b[0m             \u001b[1;32mraise\u001b[0m \u001b[0mRuntimeError\u001b[0m\u001b[1;33m(\u001b[0m\u001b[1;34m'each element in list of batch should be of equal size'\u001b[0m\u001b[1;33m)\u001b[0m\u001b[1;33m\u001b[0m\u001b[1;33m\u001b[0m\u001b[0m\n\u001b[0;32m     82\u001b[0m         \u001b[0mtransposed\u001b[0m \u001b[1;33m=\u001b[0m \u001b[0mzip\u001b[0m\u001b[1;33m(\u001b[0m\u001b[1;33m*\u001b[0m\u001b[0mbatch\u001b[0m\u001b[1;33m)\u001b[0m\u001b[1;33m\u001b[0m\u001b[1;33m\u001b[0m\u001b[0m\n\u001b[1;32m---> 83\u001b[1;33m         \u001b[1;32mreturn\u001b[0m \u001b[1;33m[\u001b[0m\u001b[0mdefault_collate\u001b[0m\u001b[1;33m(\u001b[0m\u001b[0msamples\u001b[0m\u001b[1;33m)\u001b[0m \u001b[1;32mfor\u001b[0m \u001b[0msamples\u001b[0m \u001b[1;32min\u001b[0m \u001b[0mtransposed\u001b[0m\u001b[1;33m]\u001b[0m\u001b[1;33m\u001b[0m\u001b[1;33m\u001b[0m\u001b[0m\n\u001b[0m\u001b[0;32m     84\u001b[0m \u001b[1;33m\u001b[0m\u001b[0m\n\u001b[0;32m     85\u001b[0m     \u001b[1;32mraise\u001b[0m \u001b[0mTypeError\u001b[0m\u001b[1;33m(\u001b[0m\u001b[0mdefault_collate_err_msg_format\u001b[0m\u001b[1;33m.\u001b[0m\u001b[0mformat\u001b[0m\u001b[1;33m(\u001b[0m\u001b[0melem_type\u001b[0m\u001b[1;33m)\u001b[0m\u001b[1;33m)\u001b[0m\u001b[1;33m\u001b[0m\u001b[1;33m\u001b[0m\u001b[0m\n",
      "\u001b[1;32m~\\anaconda3\\envs\\pytorch_python3.7\\lib\\site-packages\\torch\\utils\\data\\_utils\\collate.py\u001b[0m in \u001b[0;36mdefault_collate\u001b[1;34m(batch)\u001b[0m\n\u001b[0;32m     53\u001b[0m             \u001b[0mstorage\u001b[0m \u001b[1;33m=\u001b[0m \u001b[0melem\u001b[0m\u001b[1;33m.\u001b[0m\u001b[0mstorage\u001b[0m\u001b[1;33m(\u001b[0m\u001b[1;33m)\u001b[0m\u001b[1;33m.\u001b[0m\u001b[0m_new_shared\u001b[0m\u001b[1;33m(\u001b[0m\u001b[0mnumel\u001b[0m\u001b[1;33m)\u001b[0m\u001b[1;33m\u001b[0m\u001b[1;33m\u001b[0m\u001b[0m\n\u001b[0;32m     54\u001b[0m             \u001b[0mout\u001b[0m \u001b[1;33m=\u001b[0m \u001b[0melem\u001b[0m\u001b[1;33m.\u001b[0m\u001b[0mnew\u001b[0m\u001b[1;33m(\u001b[0m\u001b[0mstorage\u001b[0m\u001b[1;33m)\u001b[0m\u001b[1;33m\u001b[0m\u001b[1;33m\u001b[0m\u001b[0m\n\u001b[1;32m---> 55\u001b[1;33m         \u001b[1;32mreturn\u001b[0m \u001b[0mtorch\u001b[0m\u001b[1;33m.\u001b[0m\u001b[0mstack\u001b[0m\u001b[1;33m(\u001b[0m\u001b[0mbatch\u001b[0m\u001b[1;33m,\u001b[0m \u001b[1;36m0\u001b[0m\u001b[1;33m,\u001b[0m \u001b[0mout\u001b[0m\u001b[1;33m=\u001b[0m\u001b[0mout\u001b[0m\u001b[1;33m)\u001b[0m\u001b[1;33m\u001b[0m\u001b[1;33m\u001b[0m\u001b[0m\n\u001b[0m\u001b[0;32m     56\u001b[0m     \u001b[1;32melif\u001b[0m \u001b[0melem_type\u001b[0m\u001b[1;33m.\u001b[0m\u001b[0m__module__\u001b[0m \u001b[1;33m==\u001b[0m \u001b[1;34m'numpy'\u001b[0m \u001b[1;32mand\u001b[0m \u001b[0melem_type\u001b[0m\u001b[1;33m.\u001b[0m\u001b[0m__name__\u001b[0m \u001b[1;33m!=\u001b[0m \u001b[1;34m'str_'\u001b[0m\u001b[0;31m \u001b[0m\u001b[0;31m\\\u001b[0m\u001b[1;33m\u001b[0m\u001b[1;33m\u001b[0m\u001b[0m\n\u001b[0;32m     57\u001b[0m             \u001b[1;32mand\u001b[0m \u001b[0melem_type\u001b[0m\u001b[1;33m.\u001b[0m\u001b[0m__name__\u001b[0m \u001b[1;33m!=\u001b[0m \u001b[1;34m'string_'\u001b[0m\u001b[1;33m:\u001b[0m\u001b[1;33m\u001b[0m\u001b[1;33m\u001b[0m\u001b[0m\n",
      "\u001b[1;31mKeyboardInterrupt\u001b[0m: "
     ]
    }
   ],
   "source": [
    "train_len, test_len = len(train_x), len(test_x)\n",
    "early_stop = 30\n",
    "print_interval = 5\n",
    "N_MODEL = 5\n",
    "N_EPOCH = 100\n",
    "BATCH_SIZE = 128\n",
    "LOADER_PARAM = {\n",
    "    'batch_size': BATCH_SIZE,\n",
    "    'num_workers': 0,\n",
    "    'pin_memory': False\n",
    "}\n",
    "prediction_valid = np.zeros((13660, 1), dtype=np.float32)\n",
    "prediction_test = np.zeros((11383, 1), dtype=np.float32)\n",
    "\n",
    "with torch.cuda.device(0):\n",
    "    for no in range(N_MODEL):\n",
    "\n",
    "        real_train_loader = DataLoader(TensorDataset(real_train_x, real_train_y),\n",
    "                                  shuffle=True, drop_last=True, **LOADER_PARAM)\n",
    "    \n",
    "        train_loader = DataLoader(TensorDataset(train_x[0], train_y[0]),\n",
    "                                  shuffle=True, drop_last=True, **LOADER_PARAM)\n",
    "        valid_loader = DataLoader(TensorDataset(train_x[1], train_y[1]),\n",
    "                                  shuffle=False, drop_last=True, **LOADER_PARAM)\n",
    "    \n",
    "        test_loader = DataLoader(TensorDataset(test_x, torch.zeros((test_len,), dtype=torch.float32, device=DEVICE)),\n",
    "                                 shuffle=False, drop_last=False, **LOADER_PARAM)\n",
    "        model = nn.Sequential(\n",
    "            nn.Dropout(0.05),\n",
    "            nn.Linear(112, 120, bias=False),\n",
    "            nn.LeakyReLU(0.05, inplace=True),\n",
    "            nn.BatchNorm1d(120),\n",
    "            \n",
    "            nn.Dropout(0.05),\n",
    "            nn.Linear(120, 100, bias=False),\n",
    "            nn.LeakyReLU(0.05, inplace=True),\n",
    "            nn.BatchNorm1d(100),\n",
    "            \n",
    "            nn.Dropout(0.05),\n",
    "            nn.Linear(100, 80, bias=False),\n",
    "            nn.LeakyReLU(0.05, inplace=True),\n",
    "            nn.BatchNorm1d(80),\n",
    "            \n",
    "            nn.Dropout(0.05),\n",
    "            nn.Linear(80, 60, bias=False),\n",
    "            nn.LeakyReLU(0.05, inplace=True),\n",
    "            nn.BatchNorm1d(60),\n",
    "            \n",
    "            nn.Dropout(0.5),\n",
    "            nn.Linear(60, 30, bias=False),\n",
    "            nn.ReLU(inplace=True),\n",
    "            nn.BatchNorm1d(30),\n",
    "            \n",
    "            nn.Linear(30, 1)\n",
    "        ).to(DEVICE)\n",
    "        criterion = torch.nn.BCEWithLogitsLoss(pos_weight=torch.tensor([1.20665], device=DEVICE))\n",
    "        optimizer = optim.AdamW(model.parameters(), lr=1e-3, weight_decay=4e-2)\n",
    "        scheduler = optim.lr_scheduler.CosineAnnealingWarmRestarts(\n",
    "            optimizer, T_0=N_EPOCH // 4, eta_min=1.2e-5)\n",
    "\n",
    "        for epoch in range(N_EPOCH):\n",
    "#         for epoch in tqdm(range(N_EPOCH), desc='{:02d}/{:02d}'.format(no + 1, N_MODEL)):\n",
    "            train_loss, valid_loss = 0, 0\n",
    "            y_hat = []\n",
    "        \n",
    "            model.train()\n",
    "            for idx, (xx, yy) in enumerate(train_loader):\n",
    "                optimizer.zero_grad()\n",
    "                xx, yy = xx.to(DEVICE), yy.to(DEVICE)\n",
    "                pred = model(xx).squeeze()\n",
    "                loss = criterion(pred, yy)\n",
    "                loss.backward()\n",
    "                optimizer.step()\n",
    "                scheduler.step(epoch + idx / len(train_loader))\n",
    "                train_loss += float(loss)\n",
    "                \n",
    "            model.eval()\n",
    "            with torch.no_grad():\n",
    "                valid_loss = 0\n",
    "                for idx, (xx, yy) in enumerate(valid_loader):\n",
    "                    xx, yy = xx.to(DEVICE), yy.to(DEVICE)\n",
    "                    pred = model(xx).squeeze()\n",
    "                    loss = criterion(pred, yy)\n",
    "\n",
    "                    valid_loss += float(loss)\n",
    "                    y_hat += [pred]\n",
    "\n",
    "            valid_loss = valid_loss / len(valid_loader)\n",
    "    #         valid_history += [valid_loss]\n",
    "\n",
    "            if (epoch + 1) % print_interval == 0:\n",
    "                print('Epoch %d: train loss=%.4e  valid_loss=%.4e  lowest_loss=%.4e' % (\n",
    "                    epoch + 1,\n",
    "                    train_loss,\n",
    "                    valid_loss,\n",
    "                    lowest_loss,\n",
    "                ))\n",
    "\n",
    "            if valid_loss <= lowest_loss:\n",
    "                lowest_loss = valid_loss\n",
    "                lowest_epoch = epoch\n",
    "\n",
    "                best_model = deepcopy(model.state_dict())\n",
    "            else:\n",
    "                if early_stop > 0 and lowest_epoch + early_stop < epoch + 1:\n",
    "                    print(\"There is no improvement during last %d epochs.\" % early_stop)\n",
    "                    break\n",
    "\n",
    "        print(\"The best validation loss from epoch %d: %.4e\" % (lowest_epoch + 1, lowest_loss))\n",
    "        model.load_state_dict(best_model)\n",
    "\n",
    "        model.eval()\n",
    "        with torch.no_grad():\n",
    "            for idx, (xx, _) in enumerate(valid_loader):\n",
    "                xx = xx.to(DEVICE)\n",
    "                pred = (2. - torch.sigmoid(model(xx).detach().to('cpu'))).numpy()\n",
    "                prediction_valid[BATCH_SIZE * idx:min(BATCH_SIZE * (idx + 1), len(prediction_valid)), :] += pred[:, :] / N_MODEL\n",
    "\n",
    "# df = pd.read_csv('./data/sample_submission.csv')\n",
    "# df.iloc[:, 1:] = prediction\n",
    "# df.to_csv('./result/{}.csv'.format(datetime.now().strftime('%m%d-%H%M')), index=False)"
   ]
  },
  {
   "cell_type": "code",
   "execution_count": 20,
   "metadata": {},
   "outputs": [],
   "source": [
    "from sklearn.metrics import roc_auc_score"
   ]
  },
  {
   "cell_type": "code",
   "execution_count": 23,
   "metadata": {
    "scrolled": true
   },
   "outputs": [
    {
     "data": {
      "text/plain": [
       "0.7635808020457102"
      ]
     },
     "execution_count": 23,
     "metadata": {},
     "output_type": "execute_result"
    }
   ],
   "source": [
    "prediction_valid = 2 - prediction_valid\n",
    "roc_auc_score(train_y[1], prediction_valid)"
   ]
  },
  {
   "cell_type": "markdown",
   "metadata": {},
   "source": [
    "1. 0.7664986978004593\n",
    "2. 0.7675935061471474  (설문조사답변 정규화 다르게..)\n",
    "3. 0.7710123794060724  ~ 0.7738559380625569 (hand변수 포함 + 정규화)\n",
    "4. 0.7657323921703704  (familysize 정규화) --> 제외!!\n",
    "5. 0.7611448774735629 ~ 0.7618059057348474 (설문시간 포함+ 정규화)\n",
    "6. 0.77171753378888 ~ 0.7727322346127534 (설문시간 포함+ 정규화 + layer늘림)\n",
    "7. 0.7677365629016805 ~ 0.7741115155537603 (설문시간 포함+ 정규화 + layer더 늘림)\n",
    "8. 0.7635808020457102 ~ 0.776610620093519 (설문시간 포함+ 정규화 + layer더 늘림 + batchnorm)\n",
    "9. 0.7643981540072351 ~ 0.7708937758928313 (설문시간 포함+ 정규화 + layer더 늘림 + batchnorm + 설문마키아벨리) --> 제외!!"
   ]
  },
  {
   "cell_type": "code",
   "execution_count": null,
   "metadata": {},
   "outputs": [],
   "source": []
  }
 ],
 "metadata": {
  "kernelspec": {
   "display_name": "Python 3",
   "language": "python",
   "name": "python3"
  },
  "language_info": {
   "codemirror_mode": {
    "name": "ipython",
    "version": 3
   },
   "file_extension": ".py",
   "mimetype": "text/x-python",
   "name": "python",
   "nbconvert_exporter": "python",
   "pygments_lexer": "ipython3",
   "version": "3.7.9"
  }
 },
 "nbformat": 4,
 "nbformat_minor": 4
}
