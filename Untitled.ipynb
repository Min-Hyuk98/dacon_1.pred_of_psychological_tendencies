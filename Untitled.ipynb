{
 "cells": [
  {
   "cell_type": "code",
   "execution_count": 2,
   "metadata": {},
   "outputs": [
    {
     "ename": "NameError",
     "evalue": "name 'df' is not defined",
     "output_type": "error",
     "traceback": [
      "\u001b[1;31m---------------------------------------------------------------------------\u001b[0m",
      "\u001b[1;31mNameError\u001b[0m                                 Traceback (most recent call last)",
      "\u001b[1;32m<ipython-input-2-da7743988278>\u001b[0m in \u001b[0;36m<module>\u001b[1;34m\u001b[0m\n\u001b[0;32m     31\u001b[0m     \u001b[0mcv\u001b[0m\u001b[1;33m=\u001b[0m\u001b[0mKFold\u001b[0m\u001b[1;33m(\u001b[0m\u001b[0mn_splits\u001b[0m\u001b[1;33m=\u001b[0m\u001b[1;36m10\u001b[0m\u001b[1;33m,\u001b[0m\u001b[0mrandom_state\u001b[0m\u001b[1;33m=\u001b[0m\u001b[1;36m32\u001b[0m\u001b[1;33m,\u001b[0m\u001b[0mshuffle\u001b[0m\u001b[1;33m=\u001b[0m\u001b[1;32mTrue\u001b[0m\u001b[1;33m)\u001b[0m\u001b[1;33m\u001b[0m\u001b[1;33m\u001b[0m\u001b[0m\n\u001b[0;32m     32\u001b[0m     \u001b[0msum\u001b[0m \u001b[1;33m=\u001b[0m \u001b[1;36m0\u001b[0m\u001b[1;33m\u001b[0m\u001b[1;33m\u001b[0m\u001b[0m\n\u001b[1;32m---> 33\u001b[1;33m     \u001b[1;32mfor\u001b[0m \u001b[0mt\u001b[0m\u001b[1;33m,\u001b[0m\u001b[0mv\u001b[0m \u001b[1;32min\u001b[0m \u001b[0mcv\u001b[0m\u001b[1;33m.\u001b[0m\u001b[0msplit\u001b[0m\u001b[1;33m(\u001b[0m\u001b[0mdf\u001b[0m\u001b[1;33m)\u001b[0m\u001b[1;33m:\u001b[0m\u001b[1;33m\u001b[0m\u001b[1;33m\u001b[0m\u001b[0m\n\u001b[0m\u001b[0;32m     34\u001b[0m         \u001b[0mtrain_cv\u001b[0m\u001b[1;33m=\u001b[0m\u001b[0mdf\u001b[0m\u001b[1;33m.\u001b[0m\u001b[0miloc\u001b[0m\u001b[1;33m[\u001b[0m\u001b[0mt\u001b[0m\u001b[1;33m]\u001b[0m       \u001b[1;31m# 훈련용\u001b[0m\u001b[1;33m\u001b[0m\u001b[1;33m\u001b[0m\u001b[0m\n\u001b[0;32m     35\u001b[0m         \u001b[0mval_cv\u001b[0m\u001b[1;33m=\u001b[0m\u001b[0mdf\u001b[0m\u001b[1;33m.\u001b[0m\u001b[0miloc\u001b[0m\u001b[1;33m[\u001b[0m\u001b[0mv\u001b[0m\u001b[1;33m]\u001b[0m         \u001b[1;31m# 검증용 분리.\u001b[0m\u001b[1;33m\u001b[0m\u001b[1;33m\u001b[0m\u001b[0m\n",
      "\u001b[1;31mNameError\u001b[0m: name 'df' is not defined"
     ]
    }
   ],
   "source": [
    "import numpy as np\n",
    "from lightgbm import LGBMClassifier\n",
    "from sklearn.model_selection import train_test_split, KFold\n",
    "\n",
    "random_state = 32\n",
    "filename = \"coarse-search.csv\"\n",
    "num_loop = 100\n",
    "n_estimators = 1000\n",
    "early_stopping_rounds = 20\n",
    "coarse_hyperparameters_list = []\n",
    "for loop in range(num_loop):\n",
    "    num_leaves =  np.random.randint(10, 200)\n",
    "    min_child_samples = np.random.randint(2, 200)\n",
    "    subsample = np.random.uniform(0.1, 1.0)\n",
    "    colsample_bytree = np.random.uniform(0.1, 1.0)\n",
    "    learning_rate = 10 ** -np.random.uniform(low=1, high=10)\n",
    "    reg_alpha = 10 ** -np.random.uniform(low=1, high=10)\n",
    "    reg_lambda = 10 ** -np.random.uniform(low=1, high=15)\n",
    "    max_depth = np.random.randint(2,50)\n",
    "    parameters ={'loop': loop,\n",
    "                 'num_leaves': num_leaves, \n",
    "                 'min_child_samples': min_child_samples,\n",
    "                 'subsample': subsample, \n",
    "                 'colsample_bytree': colsample_bytree,\n",
    "                 'reg_alpha': reg_alpha,\n",
    "                 'reg_lambda': reg_lambda,\n",
    "                 'n_estimators': n_estimators,\n",
    "                 'learning_rate' : learning_rate,\n",
    "                 \"max_depth\":max_depth,\n",
    "                 'random_state': random_state}\n",
    "    cv=KFold(n_splits=10,random_state=32,shuffle=True)\n",
    "    sum = 0\n",
    "    for t,v in cv.split(df):\n",
    "        train_cv=df.iloc[t]       # 훈련용\n",
    "        val_cv=df.iloc[v]         # 검증용 분리.\n",
    "    \n",
    "        train_X=df.loc[:,feature_names]    # 훈련용 독립변수들의 데이터,\n",
    "        train_Y=df.loc[:,label_name]    # 훈련용 종속변수만 있는 데이터\n",
    "        val_X=val_cv.loc[:,feature_names]        # 검증용 독립변수들의 데이터,\n",
    "        val_Y=val_cv.loc[:,label_name]\n",
    "        model = model = LGBMClassifier(**parameters)\n",
    "        model.fit(train_X, train_Y,eval_set=[(val_X, val_Y)],verbose=0, early_stopping_rounds = early_stopping_rounds)\n",
    "        pred_proba = model.predict_proba(val_X)[:, 1]\n",
    "        roc_score = roc_auc_score(val_Y, pred_proba)\n",
    "        sum += roc_score\n",
    "    parameters['n_estimators'] = model.best_iteration_\n",
    "    parameters['score'] = sum / 10\n",
    "    print(f\"{loop:2} best iteration = {parameters['n_estimators']}, Score = {parameters['score']:.6f}\")\n",
    "    coarse_hyperparameters_list.append(parameters)\n",
    "    coarse_hyperparameters_data = pd.DataFrame(coarse_hyperparameters_list)\n",
    "    coarse_hyperparameters_data = coarse_hyperparameters_data.sort_values(by=\"score\",ascending=False)\n",
    "    coarse_hyperparameters_data.to_csv(filename)\n",
    "coarse_hyperparameters_data.head(10)"
   ]
  }
 ],
 "metadata": {
  "kernelspec": {
   "display_name": "Python 3",
   "language": "python",
   "name": "python3"
  },
  "language_info": {
   "codemirror_mode": {
    "name": "ipython",
    "version": 3
   },
   "file_extension": ".py",
   "mimetype": "text/x-python",
   "name": "python",
   "nbconvert_exporter": "python",
   "pygments_lexer": "ipython3",
   "version": "3.7.7"
  }
 },
 "nbformat": 4,
 "nbformat_minor": 4
}
